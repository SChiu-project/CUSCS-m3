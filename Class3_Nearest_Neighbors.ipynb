{
  "cells": [
    {
      "cell_type": "markdown",
      "metadata": {
        "id": "view-in-github",
        "colab_type": "text"
      },
      "source": [
        "<a href=\"https://colab.research.google.com/github/SChiu-project/CUSCS-m3/blob/main/Class3_Nearest_Neighbors.ipynb\" target=\"_parent\"><img src=\"https://colab.research.google.com/assets/colab-badge.svg\" alt=\"Open In Colab\"/></a>"
      ]
    },
    {
      "cell_type": "markdown",
      "id": "25f43781-b6a8-43e2-9e9e-c2a7caa88a91",
      "metadata": {
        "id": "25f43781-b6a8-43e2-9e9e-c2a7caa88a91"
      },
      "source": [
        "# Nearest Neighbors"
      ]
    },
    {
      "cell_type": "markdown",
      "id": "a5e78074-b4ad-4c7c-9e46-2766736cf182",
      "metadata": {
        "id": "a5e78074-b4ad-4c7c-9e46-2766736cf182"
      },
      "source": [
        "The principle behind nearest neighbor methods is to find a predefined number of training samples closest in distance to the new point, and predict the label from these. The number of samples can be a user-defined constant (k-nearest neighbor learning), or vary based on the local density of points (radius-based neighbor learning). The distance can, in general, be any metric measure: standard Euclidean distance is the most common choice. Neighbors-based methods are known as non-generalizing machine learning methods, since they simply “remember” all of its training data (possibly transformed into a fast indexing structure such as a Ball Tree or KD Tree).\n",
        "\n",
        "Despite its simplicity, nearest neighbors has been successful in a large number of classification and regression problems, including handwritten digits and satellite image scenes. Being a non-parametric method, it is often successful in classification situations where the decision boundary is very irregular.\n",
        "\n",
        "The classes in sklearn.neighbors can handle either NumPy arrays or scipy.sparse matrices as input. For dense matrices, a large number of possible distance metrics are supported. For sparse matrices, arbitrary Minkowski metrics are supported for searches."
      ]
    },
    {
      "cell_type": "markdown",
      "id": "efc9bb9c-3a81-4145-a93a-f9ee5439aaf3",
      "metadata": {
        "id": "efc9bb9c-3a81-4145-a93a-f9ee5439aaf3"
      },
      "source": [
        "KNeighborsRegressor\n",
        "- Regression based on k-nearest neighbors.\n",
        "\n",
        "NearestNeighbors\n",
        "- Unsupervised learner for implementing neighbor searches.\n",
        "\n",
        "RadiusNeighborsClassifier\n",
        "- Classifier based on neighbors within a fixed radius.\n",
        "\n",
        "RadiusNeighborsRegressor\n",
        "- Regression based on neighbors within a fixed radius."
      ]
    },
    {
      "cell_type": "markdown",
      "id": "1a764f15-b51d-4121-93dd-c942aa61bb6f",
      "metadata": {
        "id": "1a764f15-b51d-4121-93dd-c942aa61bb6f"
      },
      "source": [
        "## KNN"
      ]
    },
    {
      "cell_type": "code",
      "execution_count": null,
      "id": "98bc1201-c8af-4226-ac57-85d406390e68",
      "metadata": {
        "colab": {
          "base_uri": "https://localhost:8080/",
          "height": 75
        },
        "id": "98bc1201-c8af-4226-ac57-85d406390e68",
        "outputId": "54f4c232-8fff-4759-b576-9c5954b3c580"
      },
      "outputs": [
        {
          "output_type": "execute_result",
          "data": {
            "text/plain": [
              "KNeighborsClassifier(n_neighbors=3)"
            ],
            "text/html": [
              "<style>#sk-container-id-1 {color: black;background-color: white;}#sk-container-id-1 pre{padding: 0;}#sk-container-id-1 div.sk-toggleable {background-color: white;}#sk-container-id-1 label.sk-toggleable__label {cursor: pointer;display: block;width: 100%;margin-bottom: 0;padding: 0.3em;box-sizing: border-box;text-align: center;}#sk-container-id-1 label.sk-toggleable__label-arrow:before {content: \"▸\";float: left;margin-right: 0.25em;color: #696969;}#sk-container-id-1 label.sk-toggleable__label-arrow:hover:before {color: black;}#sk-container-id-1 div.sk-estimator:hover label.sk-toggleable__label-arrow:before {color: black;}#sk-container-id-1 div.sk-toggleable__content {max-height: 0;max-width: 0;overflow: hidden;text-align: left;background-color: #f0f8ff;}#sk-container-id-1 div.sk-toggleable__content pre {margin: 0.2em;color: black;border-radius: 0.25em;background-color: #f0f8ff;}#sk-container-id-1 input.sk-toggleable__control:checked~div.sk-toggleable__content {max-height: 200px;max-width: 100%;overflow: auto;}#sk-container-id-1 input.sk-toggleable__control:checked~label.sk-toggleable__label-arrow:before {content: \"▾\";}#sk-container-id-1 div.sk-estimator input.sk-toggleable__control:checked~label.sk-toggleable__label {background-color: #d4ebff;}#sk-container-id-1 div.sk-label input.sk-toggleable__control:checked~label.sk-toggleable__label {background-color: #d4ebff;}#sk-container-id-1 input.sk-hidden--visually {border: 0;clip: rect(1px 1px 1px 1px);clip: rect(1px, 1px, 1px, 1px);height: 1px;margin: -1px;overflow: hidden;padding: 0;position: absolute;width: 1px;}#sk-container-id-1 div.sk-estimator {font-family: monospace;background-color: #f0f8ff;border: 1px dotted black;border-radius: 0.25em;box-sizing: border-box;margin-bottom: 0.5em;}#sk-container-id-1 div.sk-estimator:hover {background-color: #d4ebff;}#sk-container-id-1 div.sk-parallel-item::after {content: \"\";width: 100%;border-bottom: 1px solid gray;flex-grow: 1;}#sk-container-id-1 div.sk-label:hover label.sk-toggleable__label {background-color: #d4ebff;}#sk-container-id-1 div.sk-serial::before {content: \"\";position: absolute;border-left: 1px solid gray;box-sizing: border-box;top: 0;bottom: 0;left: 50%;z-index: 0;}#sk-container-id-1 div.sk-serial {display: flex;flex-direction: column;align-items: center;background-color: white;padding-right: 0.2em;padding-left: 0.2em;position: relative;}#sk-container-id-1 div.sk-item {position: relative;z-index: 1;}#sk-container-id-1 div.sk-parallel {display: flex;align-items: stretch;justify-content: center;background-color: white;position: relative;}#sk-container-id-1 div.sk-item::before, #sk-container-id-1 div.sk-parallel-item::before {content: \"\";position: absolute;border-left: 1px solid gray;box-sizing: border-box;top: 0;bottom: 0;left: 50%;z-index: -1;}#sk-container-id-1 div.sk-parallel-item {display: flex;flex-direction: column;z-index: 1;position: relative;background-color: white;}#sk-container-id-1 div.sk-parallel-item:first-child::after {align-self: flex-end;width: 50%;}#sk-container-id-1 div.sk-parallel-item:last-child::after {align-self: flex-start;width: 50%;}#sk-container-id-1 div.sk-parallel-item:only-child::after {width: 0;}#sk-container-id-1 div.sk-dashed-wrapped {border: 1px dashed gray;margin: 0 0.4em 0.5em 0.4em;box-sizing: border-box;padding-bottom: 0.4em;background-color: white;}#sk-container-id-1 div.sk-label label {font-family: monospace;font-weight: bold;display: inline-block;line-height: 1.2em;}#sk-container-id-1 div.sk-label-container {text-align: center;}#sk-container-id-1 div.sk-container {/* jupyter's `normalize.less` sets `[hidden] { display: none; }` but bootstrap.min.css set `[hidden] { display: none !important; }` so we also need the `!important` here to be able to override the default hidden behavior on the sphinx rendered scikit-learn.org. See: https://github.com/scikit-learn/scikit-learn/issues/21755 */display: inline-block !important;position: relative;}#sk-container-id-1 div.sk-text-repr-fallback {display: none;}</style><div id=\"sk-container-id-1\" class=\"sk-top-container\"><div class=\"sk-text-repr-fallback\"><pre>KNeighborsClassifier(n_neighbors=3)</pre><b>In a Jupyter environment, please rerun this cell to show the HTML representation or trust the notebook. <br />On GitHub, the HTML representation is unable to render, please try loading this page with nbviewer.org.</b></div><div class=\"sk-container\" hidden><div class=\"sk-item\"><div class=\"sk-estimator sk-toggleable\"><input class=\"sk-toggleable__control sk-hidden--visually\" id=\"sk-estimator-id-1\" type=\"checkbox\" checked><label for=\"sk-estimator-id-1\" class=\"sk-toggleable__label sk-toggleable__label-arrow\">KNeighborsClassifier</label><div class=\"sk-toggleable__content\"><pre>KNeighborsClassifier(n_neighbors=3)</pre></div></div></div></div></div>"
            ]
          },
          "metadata": {},
          "execution_count": 1
        }
      ],
      "source": [
        "from sklearn.neighbors import KNeighborsClassifier\n",
        "X = [[0], [1], [2], [3]]\n",
        "y = [0, 0, 1, 1]\n",
        "knn = KNeighborsClassifier(n_neighbors=3)\n",
        "knn.fit(X, y)"
      ]
    },
    {
      "cell_type": "code",
      "execution_count": null,
      "id": "b9186ab0-01f1-41a1-8961-4f74065c7384",
      "metadata": {
        "colab": {
          "base_uri": "https://localhost:8080/"
        },
        "id": "b9186ab0-01f1-41a1-8961-4f74065c7384",
        "outputId": "b3feabbc-15ec-4bd2-e486-a03068d2ede2"
      },
      "outputs": [
        {
          "output_type": "stream",
          "name": "stdout",
          "text": [
            "[0]\n",
            "[[0.66666667 0.33333333]]\n"
          ]
        }
      ],
      "source": [
        "print(knn.predict([[1.1]]))\n",
        "print(knn.predict_proba([[0.9]]))"
      ]
    },
    {
      "cell_type": "markdown",
      "id": "1156e6d4-9072-480c-b21f-45afcaa4cdf9",
      "metadata": {
        "id": "1156e6d4-9072-480c-b21f-45afcaa4cdf9"
      },
      "source": [
        "## Classwork"
      ]
    },
    {
      "cell_type": "code",
      "execution_count": null,
      "id": "91976244-eb41-4af5-a42c-27cdba4e39a3",
      "metadata": {
        "id": "91976244-eb41-4af5-a42c-27cdba4e39a3"
      },
      "outputs": [],
      "source": []
    },
    {
      "cell_type": "code",
      "execution_count": null,
      "id": "2cf062bf-2a17-4737-85f9-f46692357913",
      "metadata": {
        "id": "2cf062bf-2a17-4737-85f9-f46692357913"
      },
      "outputs": [],
      "source": [
        "from sklearn import datasets\n",
        "from sklearn.model_selection import train_test_split\n",
        "from sklearn.neighbors import KNeighborsClassifier\n",
        "import numpy as np"
      ]
    },
    {
      "cell_type": "code",
      "execution_count": null,
      "id": "d96c0571-3154-4535-8ff2-427f3abf6e66",
      "metadata": {
        "id": "d96c0571-3154-4535-8ff2-427f3abf6e66"
      },
      "outputs": [],
      "source": [
        "iris = datasets.load_iris()"
      ]
    },
    {
      "cell_type": "code",
      "execution_count": null,
      "id": "a1c0e129-0d49-43cb-ab3d-008e92a8b478",
      "metadata": {
        "id": "a1c0e129-0d49-43cb-ab3d-008e92a8b478"
      },
      "outputs": [],
      "source": [
        "X = iris.data\n",
        "y = iris.target"
      ]
    },
    {
      "cell_type": "code",
      "execution_count": null,
      "id": "aa794121-8333-4ea9-98d5-d8ea139df9a3",
      "metadata": {
        "colab": {
          "base_uri": "https://localhost:8080/"
        },
        "id": "aa794121-8333-4ea9-98d5-d8ea139df9a3",
        "outputId": "d6ac6c9a-6302-4506-99b2-2833f71c4458"
      },
      "outputs": [
        {
          "output_type": "execute_result",
          "data": {
            "text/plain": [
              "array([[5.1, 3.5, 1.4, 0.2],\n",
              "       [4.9, 3. , 1.4, 0.2],\n",
              "       [4.7, 3.2, 1.3, 0.2]])"
            ]
          },
          "metadata": {},
          "execution_count": 6
        }
      ],
      "source": [
        "X[0:3]"
      ]
    },
    {
      "cell_type": "code",
      "execution_count": null,
      "id": "67061cb0-e2a4-4119-a4b0-08eb728ac77b",
      "metadata": {
        "id": "67061cb0-e2a4-4119-a4b0-08eb728ac77b"
      },
      "outputs": [],
      "source": [
        "X_train , X_test , y_train , y_test = train_test_split(X, y, test_size=0.2)"
      ]
    },
    {
      "cell_type": "code",
      "execution_count": null,
      "id": "c5ee80ec-4bc1-4d6a-a0b6-2305191de558",
      "metadata": {
        "id": "c5ee80ec-4bc1-4d6a-a0b6-2305191de558"
      },
      "outputs": [],
      "source": [
        "knn = KNeighborsClassifier()"
      ]
    },
    {
      "cell_type": "code",
      "execution_count": null,
      "id": "87f791df-b465-4765-a68a-28268fb21578",
      "metadata": {
        "colab": {
          "base_uri": "https://localhost:8080/",
          "height": 75
        },
        "id": "87f791df-b465-4765-a68a-28268fb21578",
        "outputId": "ac6f5d88-ac2b-4226-c2f4-d4c01a911f34"
      },
      "outputs": [
        {
          "output_type": "execute_result",
          "data": {
            "text/plain": [
              "KNeighborsClassifier()"
            ],
            "text/html": [
              "<style>#sk-container-id-2 {color: black;background-color: white;}#sk-container-id-2 pre{padding: 0;}#sk-container-id-2 div.sk-toggleable {background-color: white;}#sk-container-id-2 label.sk-toggleable__label {cursor: pointer;display: block;width: 100%;margin-bottom: 0;padding: 0.3em;box-sizing: border-box;text-align: center;}#sk-container-id-2 label.sk-toggleable__label-arrow:before {content: \"▸\";float: left;margin-right: 0.25em;color: #696969;}#sk-container-id-2 label.sk-toggleable__label-arrow:hover:before {color: black;}#sk-container-id-2 div.sk-estimator:hover label.sk-toggleable__label-arrow:before {color: black;}#sk-container-id-2 div.sk-toggleable__content {max-height: 0;max-width: 0;overflow: hidden;text-align: left;background-color: #f0f8ff;}#sk-container-id-2 div.sk-toggleable__content pre {margin: 0.2em;color: black;border-radius: 0.25em;background-color: #f0f8ff;}#sk-container-id-2 input.sk-toggleable__control:checked~div.sk-toggleable__content {max-height: 200px;max-width: 100%;overflow: auto;}#sk-container-id-2 input.sk-toggleable__control:checked~label.sk-toggleable__label-arrow:before {content: \"▾\";}#sk-container-id-2 div.sk-estimator input.sk-toggleable__control:checked~label.sk-toggleable__label {background-color: #d4ebff;}#sk-container-id-2 div.sk-label input.sk-toggleable__control:checked~label.sk-toggleable__label {background-color: #d4ebff;}#sk-container-id-2 input.sk-hidden--visually {border: 0;clip: rect(1px 1px 1px 1px);clip: rect(1px, 1px, 1px, 1px);height: 1px;margin: -1px;overflow: hidden;padding: 0;position: absolute;width: 1px;}#sk-container-id-2 div.sk-estimator {font-family: monospace;background-color: #f0f8ff;border: 1px dotted black;border-radius: 0.25em;box-sizing: border-box;margin-bottom: 0.5em;}#sk-container-id-2 div.sk-estimator:hover {background-color: #d4ebff;}#sk-container-id-2 div.sk-parallel-item::after {content: \"\";width: 100%;border-bottom: 1px solid gray;flex-grow: 1;}#sk-container-id-2 div.sk-label:hover label.sk-toggleable__label {background-color: #d4ebff;}#sk-container-id-2 div.sk-serial::before {content: \"\";position: absolute;border-left: 1px solid gray;box-sizing: border-box;top: 0;bottom: 0;left: 50%;z-index: 0;}#sk-container-id-2 div.sk-serial {display: flex;flex-direction: column;align-items: center;background-color: white;padding-right: 0.2em;padding-left: 0.2em;position: relative;}#sk-container-id-2 div.sk-item {position: relative;z-index: 1;}#sk-container-id-2 div.sk-parallel {display: flex;align-items: stretch;justify-content: center;background-color: white;position: relative;}#sk-container-id-2 div.sk-item::before, #sk-container-id-2 div.sk-parallel-item::before {content: \"\";position: absolute;border-left: 1px solid gray;box-sizing: border-box;top: 0;bottom: 0;left: 50%;z-index: -1;}#sk-container-id-2 div.sk-parallel-item {display: flex;flex-direction: column;z-index: 1;position: relative;background-color: white;}#sk-container-id-2 div.sk-parallel-item:first-child::after {align-self: flex-end;width: 50%;}#sk-container-id-2 div.sk-parallel-item:last-child::after {align-self: flex-start;width: 50%;}#sk-container-id-2 div.sk-parallel-item:only-child::after {width: 0;}#sk-container-id-2 div.sk-dashed-wrapped {border: 1px dashed gray;margin: 0 0.4em 0.5em 0.4em;box-sizing: border-box;padding-bottom: 0.4em;background-color: white;}#sk-container-id-2 div.sk-label label {font-family: monospace;font-weight: bold;display: inline-block;line-height: 1.2em;}#sk-container-id-2 div.sk-label-container {text-align: center;}#sk-container-id-2 div.sk-container {/* jupyter's `normalize.less` sets `[hidden] { display: none; }` but bootstrap.min.css set `[hidden] { display: none !important; }` so we also need the `!important` here to be able to override the default hidden behavior on the sphinx rendered scikit-learn.org. See: https://github.com/scikit-learn/scikit-learn/issues/21755 */display: inline-block !important;position: relative;}#sk-container-id-2 div.sk-text-repr-fallback {display: none;}</style><div id=\"sk-container-id-2\" class=\"sk-top-container\"><div class=\"sk-text-repr-fallback\"><pre>KNeighborsClassifier()</pre><b>In a Jupyter environment, please rerun this cell to show the HTML representation or trust the notebook. <br />On GitHub, the HTML representation is unable to render, please try loading this page with nbviewer.org.</b></div><div class=\"sk-container\" hidden><div class=\"sk-item\"><div class=\"sk-estimator sk-toggleable\"><input class=\"sk-toggleable__control sk-hidden--visually\" id=\"sk-estimator-id-2\" type=\"checkbox\" checked><label for=\"sk-estimator-id-2\" class=\"sk-toggleable__label sk-toggleable__label-arrow\">KNeighborsClassifier</label><div class=\"sk-toggleable__content\"><pre>KNeighborsClassifier()</pre></div></div></div></div></div>"
            ]
          },
          "metadata": {},
          "execution_count": 9
        }
      ],
      "source": [
        "knn.fit(X, y)"
      ]
    },
    {
      "cell_type": "code",
      "execution_count": null,
      "id": "44c5219e-68ff-4263-b950-3c5fa0125e1d",
      "metadata": {
        "colab": {
          "base_uri": "https://localhost:8080/"
        },
        "id": "44c5219e-68ff-4263-b950-3c5fa0125e1d",
        "outputId": "98cbee10-e538-4cb0-e610-4a1c5c69f608"
      },
      "outputs": [
        {
          "output_type": "stream",
          "name": "stdout",
          "text": [
            "[2 1 0 0 1 2 2 1 0 2 2 2 2 2 1 0 1 2 0 2 0 0 1 1 1 2 0 0 2 0]\n"
          ]
        }
      ],
      "source": [
        "pred = knn.predict(X_test)\n",
        "print(pred)"
      ]
    },
    {
      "cell_type": "code",
      "execution_count": null,
      "id": "8f5f343b-aa23-473c-b54b-5c0d4fc6914e",
      "metadata": {
        "colab": {
          "base_uri": "https://localhost:8080/"
        },
        "id": "8f5f343b-aa23-473c-b54b-5c0d4fc6914e",
        "outputId": "ebbde14f-1fcd-467e-fb9e-92e972eb4711"
      },
      "outputs": [
        {
          "output_type": "stream",
          "name": "stdout",
          "text": [
            "[1 1 0 0 1 2 2 1 0 2 2 2 2 2 1 0 1 2 0 2 0 0 1 1 1 1 0 0 2 0]\n"
          ]
        }
      ],
      "source": [
        "print(y_test)"
      ]
    },
    {
      "cell_type": "code",
      "source": [
        "print((pred == y_test).sum()/len(y_test))"
      ],
      "metadata": {
        "colab": {
          "base_uri": "https://localhost:8080/"
        },
        "id": "vMXpzH3mrOcE",
        "outputId": "d0df52b7-76d4-4780-b764-7549bc8d268f"
      },
      "id": "vMXpzH3mrOcE",
      "execution_count": null,
      "outputs": [
        {
          "output_type": "stream",
          "name": "stdout",
          "text": [
            "0.9333333333333333\n"
          ]
        }
      ]
    },
    {
      "cell_type": "markdown",
      "id": "2172bc71-3a64-4b73-9f3f-2076a8e52732",
      "metadata": {
        "id": "2172bc71-3a64-4b73-9f3f-2076a8e52732"
      },
      "source": [
        "## Random data"
      ]
    },
    {
      "cell_type": "code",
      "execution_count": null,
      "id": "8c979319-2313-418a-a95d-8a23dd209063",
      "metadata": {
        "colab": {
          "base_uri": "https://localhost:8080/"
        },
        "id": "8c979319-2313-418a-a95d-8a23dd209063",
        "outputId": "01409549-8abb-4b93-acef-f46f54656653"
      },
      "outputs": [
        {
          "output_type": "stream",
          "name": "stdout",
          "text": [
            "<class 'numpy.ndarray'>\n",
            "[[-0.23685338  8.87583893]\n",
            " [ 1.01652757  8.17718772]\n",
            " [ 2.55880554  8.1094027 ]\n",
            " [ 4.86355526  4.88094581]\n",
            " [ 6.12141771  5.40890054]]\n",
            "[2 2 2 1 1]\n"
          ]
        }
      ],
      "source": [
        "from sklearn.datasets import make_blobs\n",
        "import matplotlib.pyplot as plt\n",
        "import numpy as np\n",
        "\n",
        "centers = [[2, 3], [5, 5], [1, 8]]\n",
        "n_classes = len(centers)\n",
        "data, labels = make_blobs(n_samples=150,\n",
        "                          centers=np.array(centers),\n",
        "                          random_state=1)\n",
        "print(type(data))\n",
        "print(data[:5])\n",
        "print(labels[:5])"
      ]
    },
    {
      "cell_type": "code",
      "source": [
        "print(np.unique(labels))"
      ],
      "metadata": {
        "colab": {
          "base_uri": "https://localhost:8080/"
        },
        "id": "NYYODwAMrs_S",
        "outputId": "672a5e51-2a23-4862-ef92-a6175a4c9956"
      },
      "id": "NYYODwAMrs_S",
      "execution_count": null,
      "outputs": [
        {
          "output_type": "stream",
          "name": "stdout",
          "text": [
            "[0 1 2]\n"
          ]
        }
      ]
    },
    {
      "cell_type": "code",
      "execution_count": null,
      "id": "f8b359d4-ee95-48da-b3e1-25a766f07455",
      "metadata": {
        "colab": {
          "base_uri": "https://localhost:8080/",
          "height": 430
        },
        "id": "f8b359d4-ee95-48da-b3e1-25a766f07455",
        "outputId": "2c323c6c-6f25-4bd8-b347-5a6629817810"
      },
      "outputs": [
        {
          "output_type": "display_data",
          "data": {
            "text/plain": [
              "<Figure size 640x480 with 1 Axes>"
            ],
            "image/png": "[encoded data removed]"
          },
          "metadata": {}
        }
      ],
      "source": [
        "import matplotlib.pyplot as plt\n",
        "\n",
        "colours = ('green', 'red', 'blue')\n",
        "n_classes = 3\n",
        "\n",
        "fig, ax = plt.subplots()\n",
        "for n_class in range(0, n_classes):\n",
        "    ax.scatter(data[labels==n_class, 0],\n",
        "               data[labels==n_class, 1],\n",
        "               c=colours[n_class], s=10,\n",
        "               label=str(n_class))\n",
        "\n",
        "ax.legend(loc='upper right');"
      ]
    },
    {
      "cell_type": "code",
      "execution_count": null,
      "id": "ad8e886f-08ab-4680-9f4d-13d18662e830",
      "metadata": {
        "id": "ad8e886f-08ab-4680-9f4d-13d18662e830"
      },
      "outputs": [],
      "source": [
        "from sklearn.model_selection import train_test_split\n",
        "X_train, X_test, y_train, y_test = train_test_split(data, labels, test_size=0.2, random_state=1)"
      ]
    },
    {
      "cell_type": "code",
      "execution_count": null,
      "id": "30f06806-0484-4599-8100-817bea79daca",
      "metadata": {
        "colab": {
          "base_uri": "https://localhost:8080/"
        },
        "id": "30f06806-0484-4599-8100-817bea79daca",
        "outputId": "0c4f0fbf-addf-4e8d-be5a-1d0b77c5c6c1"
      },
      "outputs": [
        {
          "output_type": "stream",
          "name": "stdout",
          "text": [
            "Predictions from the classifier:\n",
            "[2 2 2 0 0 1 1 2 2 1 0 1 0 0 2 0 0 0 1 0 0 1 1 2 0 0 0 1 2 1]\n",
            "Target values:\n",
            "[2 2 2 0 0 1 1 2 2 1 0 1 0 0 2 0 0 0 1 0 0 1 1 2 0 0 0 1 2 1]\n"
          ]
        }
      ],
      "source": [
        "# Create and fit a nearest-neighbor classifier\n",
        "from sklearn.neighbors import KNeighborsClassifier\n",
        "knn = KNeighborsClassifier()\n",
        "knn.fit(X_train, y_train)\n",
        "\n",
        "predict = knn.predict(X_test)\n",
        "print(\"Predictions from the classifier:\")\n",
        "print(predict)\n",
        "print(\"Target values:\")\n",
        "print(y_test)"
      ]
    },
    {
      "cell_type": "code",
      "execution_count": null,
      "id": "ee3b0bba-02db-4c66-91f5-7d3ee74866ea",
      "metadata": {
        "colab": {
          "base_uri": "https://localhost:8080/"
        },
        "id": "ee3b0bba-02db-4c66-91f5-7d3ee74866ea",
        "outputId": "74fb041d-2dcb-4229-de9e-875faa98374e"
      },
      "outputs": [
        {
          "output_type": "stream",
          "name": "stdout",
          "text": [
            "1.0\n"
          ]
        }
      ],
      "source": [
        "from sklearn import metrics\n",
        "print(metrics.accuracy_score(predict, y_test))"
      ]
    },
    {
      "cell_type": "code",
      "execution_count": null,
      "id": "737fd43b-d62c-4fe6-a9d2-a8e737aeb335",
      "metadata": {
        "id": "737fd43b-d62c-4fe6-a9d2-a8e737aeb335"
      },
      "outputs": [],
      "source": [
        "knn = KNeighborsClassifier(algorithm='auto',\n",
        "                           leaf_size=30,\n",
        "                           metric='minkowski',\n",
        "                           p=2,\n",
        "                           metric_params=None,\n",
        "                           n_jobs=1,\n",
        "                           n_neighbors=5,\n",
        "                           weights='uniform')"
      ]
    },
    {
      "cell_type": "code",
      "execution_count": null,
      "id": "e8c51029-9e09-4b6d-849c-1d86c2520172",
      "metadata": {
        "id": "e8c51029-9e09-4b6d-849c-1d86c2520172",
        "outputId": "194d40ea-0462-412c-899b-4a4f92b7bca1"
      },
      "outputs": [
        {
          "name": "stdout",
          "output_type": "stream",
          "text": [
            "[0]\n"
          ]
        }
      ],
      "source": [
        "predict = knn.predict(np.array([[3., 3.]]))\n",
        "print(predict)"
      ]
    },
    {
      "cell_type": "code",
      "execution_count": null,
      "id": "0621f45d-37e8-4bf9-9c69-65d751437844",
      "metadata": {
        "id": "0621f45d-37e8-4bf9-9c69-65d751437844",
        "outputId": "eaae8a44-4a75-46c2-ea2b-1fb80b7e5b74"
      },
      "outputs": [
        {
          "name": "stdout",
          "output_type": "stream",
          "text": [
            "[1]\n"
          ]
        }
      ],
      "source": [
        "predict = knn.predict(np.array([[5., 5.]]))\n",
        "print(predict)"
      ]
    },
    {
      "cell_type": "code",
      "execution_count": null,
      "id": "30ff9c30-48dc-4be5-98cb-bc8440e04b14",
      "metadata": {
        "id": "30ff9c30-48dc-4be5-98cb-bc8440e04b14",
        "outputId": "d94c8227-1ff9-4ee0-fa86-a3bfaa794917"
      },
      "outputs": [
        {
          "name": "stdout",
          "output_type": "stream",
          "text": [
            "[2]\n"
          ]
        }
      ],
      "source": [
        "predict = knn.predict(np.array([[5., 10.]]))\n",
        "print(predict)"
      ]
    },
    {
      "cell_type": "markdown",
      "id": "1392fac6-57c0-420f-8981-c0980a837e8d",
      "metadata": {
        "id": "1392fac6-57c0-420f-8981-c0980a837e8d"
      },
      "source": [
        "## iris"
      ]
    },
    {
      "cell_type": "code",
      "execution_count": null,
      "id": "2fbdf157-a6bc-4ee0-ac99-34a6d11a2d62",
      "metadata": {
        "colab": {
          "base_uri": "https://localhost:8080/"
        },
        "id": "2fbdf157-a6bc-4ee0-ac99-34a6d11a2d62",
        "outputId": "17802f56-c618-4643-f2ab-ccbd0743f202"
      },
      "outputs": [
        {
          "output_type": "stream",
          "name": "stdout",
          "text": [
            "Predictions from the classifier:\n",
            "[0 2 0 1 2 2 2 0 2 0 1 0 0 0 1 2 2 1 0 2 0 1 2 1 0 2 1 1 0 0]\n",
            "Target values:\n",
            "[0 2 0 1 2 2 2 0 2 0 1 0 0 0 1 2 2 1 0 1 0 1 2 1 0 2 1 1 0 0]\n"
          ]
        }
      ],
      "source": [
        "from sklearn import datasets\n",
        "from sklearn.model_selection import train_test_split\n",
        "\n",
        "dataset = datasets.load_iris()\n",
        "X, y = dataset.data, dataset.target\n",
        "X_train , X_test , y_train , y_test = train_test_split(X, y, test_size=0.2, random_state=12)\n",
        "\n",
        "# Create and fit a nearest-neighbor classifier\n",
        "from sklearn.neighbors import KNeighborsClassifier\n",
        "# classifier \"out of the box\", no parameters\n",
        "knn = KNeighborsClassifier()\n",
        "knn.fit(X_train, y_train)\n",
        "\n",
        "print(\"Predictions from the classifier:\")\n",
        "predict = knn.predict(X_test)\n",
        "print(predict)\n",
        "print(\"Target values:\")\n",
        "print(y_test)"
      ]
    },
    {
      "cell_type": "code",
      "execution_count": null,
      "id": "dc3456f9-cc2f-4d56-bf78-956b4dc18476",
      "metadata": {
        "colab": {
          "base_uri": "https://localhost:8080/"
        },
        "id": "dc3456f9-cc2f-4d56-bf78-956b4dc18476",
        "outputId": "20dc6eec-ae6c-48d1-ba19-a6c5de086e82"
      },
      "outputs": [
        {
          "output_type": "stream",
          "name": "stdout",
          "text": [
            "0.9666666666666667\n"
          ]
        }
      ],
      "source": [
        "print(metrics.accuracy_score(predict, y_test))"
      ]
    },
    {
      "cell_type": "code",
      "execution_count": null,
      "id": "ce40f8fe-d284-4773-ae66-68239528fe8c",
      "metadata": {
        "colab": {
          "base_uri": "https://localhost:8080/",
          "height": 383
        },
        "id": "ce40f8fe-d284-4773-ae66-68239528fe8c",
        "outputId": "4d6856ee-0dce-46d3-a717-953ca67168ab"
      },
      "outputs": [
        {
          "output_type": "stream",
          "name": "stdout",
          "text": [
            "Predictions from the classifier:\n",
            "[0 1 2 0 2 0 1 1 0 1 1 0 0 0 0 0 0 0 2 0 2 1 1 1 0 2 1 1 2 0 2 0 2 1 2 2 1\n",
            " 1 1 2 2 0 2 2 0 1 0 2 2 0 1 1 0 0 1 1 1 1 2 1 2 0 0 1 1 2 0 2 1 0 2 2 1 2\n",
            " 2 0 0 2 1 1 2 0 1 1 0 1 1 2 2 1 0 2 0 2 0 0 1 2 2 1 2 2 0 1 1 0 2 2 2 1 2\n",
            " 2 2 0 0 1 0 2 2 1]\n",
            "Target values:\n",
            "[0 1 2 0 2 0 1 1 0 1 1 0 0 0 0 0 0 0 2 0 2 1 1 1 0 2 1 1 2 0 2 0 2 2 2 2 1\n",
            " 1 1 1 2 0 2 2 0 1 0 2 2 0 1 1 0 0 1 1 1 1 2 1 2 0 0 1 1 1 0 2 1 0 2 2 1 2\n",
            " 2 0 0 2 1 1 2 0 1 1 0 1 1 2 2 1 0 2 0 2 0 0 1 2 2 1 2 2 0 1 1 0 2 2 2 1 2\n",
            " 2 2 0 0 1 0 2 2 1]\n"
          ]
        },
        {
          "output_type": "error",
          "ename": "NameError",
          "evalue": "ignored",
          "traceback": [
            "\u001b[0;31m---------------------------------------------------------------------------\u001b[0m",
            "\u001b[0;31mNameError\u001b[0m                                 Traceback (most recent call last)",
            "\u001b[0;32m<ipython-input-25-dee36c7ea82e>\u001b[0m in \u001b[0;36m<cell line: 6>\u001b[0;34m()\u001b[0m\n\u001b[1;32m      4\u001b[0m \u001b[0mprint\u001b[0m\u001b[0;34m(\u001b[0m\u001b[0;34m\"Target values:\"\u001b[0m\u001b[0;34m)\u001b[0m\u001b[0;34m\u001b[0m\u001b[0;34m\u001b[0m\u001b[0m\n\u001b[1;32m      5\u001b[0m \u001b[0mprint\u001b[0m\u001b[0;34m(\u001b[0m\u001b[0my_train\u001b[0m\u001b[0;34m)\u001b[0m\u001b[0;34m\u001b[0m\u001b[0;34m\u001b[0m\u001b[0m\n\u001b[0;32m----> 6\u001b[0;31m \u001b[0mprint\u001b[0m\u001b[0;34m(\u001b[0m\u001b[0maccuracy_score\u001b[0m\u001b[0;34m(\u001b[0m\u001b[0mpredict\u001b[0m\u001b[0;34m,\u001b[0m \u001b[0my_train\u001b[0m\u001b[0;34m)\u001b[0m\u001b[0;34m)\u001b[0m\u001b[0;34m\u001b[0m\u001b[0;34m\u001b[0m\u001b[0m\n\u001b[0m",
            "\u001b[0;31mNameError\u001b[0m: name 'accuracy_score' is not defined"
          ]
        }
      ],
      "source": [
        "print(\"Predictions from the classifier:\")\n",
        "predict = knn.predict(X_train)\n",
        "print(predict)\n",
        "print(\"Target values:\")\n",
        "print(y_train)\n",
        "print(accuracy_score(predict, y_train))"
      ]
    },
    {
      "cell_type": "code",
      "execution_count": null,
      "id": "792a1985-eca5-4fd4-b95e-91e100df24d8",
      "metadata": {
        "id": "792a1985-eca5-4fd4-b95e-91e100df24d8",
        "outputId": "d5aca856-8f86-493a-8137-35db2104e49b"
      },
      "outputs": [
        {
          "data": {
            "text/plain": [
              "0.9666666666666667"
            ]
          },
          "execution_count": 85,
          "metadata": {},
          "output_type": "execute_result"
        }
      ],
      "source": [
        "knn2 = KNeighborsClassifier(algorithm='auto',\n",
        "                            leaf_size=30,\n",
        "                            metric='minkowski',\n",
        "                            p=2,         # p=2 is equivalent to euclidian distance\n",
        "                            metric_params=None,\n",
        "                            n_jobs=1,\n",
        "                            n_neighbors=5,\n",
        "                            weights='uniform')\n",
        "\n",
        "knn.fit(X_train, y_train)\n",
        "predict = knn.predict(X_test)\n",
        "accuracy_score(predict, y_test)"
      ]
    },
    {
      "cell_type": "code",
      "execution_count": null,
      "id": "9a382bb5-25ff-4740-8530-a75867c4d4d8",
      "metadata": {
        "id": "9a382bb5-25ff-4740-8530-a75867c4d4d8"
      },
      "outputs": [],
      "source": []
    },
    {
      "cell_type": "markdown",
      "id": "4378abe6-29ee-411e-b33d-29fe169490cd",
      "metadata": {
        "id": "4378abe6-29ee-411e-b33d-29fe169490cd"
      },
      "source": [
        "## Classwork"
      ]
    },
    {
      "cell_type": "markdown",
      "id": "c5afbeca-b6e3-47c8-99aa-b9d8baf4382c",
      "metadata": {
        "id": "c5afbeca-b6e3-47c8-99aa-b9d8baf4382c"
      },
      "source": [
        "### use knn classifier for strange_flowers.txt\n",
        "\n",
        "- column headers: [\"red\", \"green\", \"blue\", \"size\", \"label\"]\n",
        "- separator: space"
      ]
    },
    {
      "cell_type": "code",
      "execution_count": null,
      "id": "d71d152b-ee19-4b21-9344-15c4329d150b",
      "metadata": {
        "colab": {
          "base_uri": "https://localhost:8080/",
          "height": 424
        },
        "id": "d71d152b-ee19-4b21-9344-15c4329d150b",
        "outputId": "938e804f-4e26-48cb-93cb-bf9746c5dd46"
      },
      "outputs": [
        {
          "output_type": "execute_result",
          "data": {
            "text/plain": [
              "       red  green   blue  size  label\n",
              "0    238.0  104.0    8.0  3.65    1.0\n",
              "1    235.0  114.0    9.0  4.00    1.0\n",
              "2    252.0   93.0    9.0  3.71    1.0\n",
              "3    242.0  116.0    9.0  3.67    1.0\n",
              "4    251.0  117.0   15.0  3.49    1.0\n",
              "..     ...    ...    ...   ...    ...\n",
              "790    0.0  248.0   98.0  3.03    4.0\n",
              "791    0.0  253.0  106.0  2.85    4.0\n",
              "792    0.0  250.0   91.0  3.39    4.0\n",
              "793    0.0  248.0   99.0  3.10    4.0\n",
              "794    0.0  244.0  109.0  2.96    4.0\n",
              "\n",
              "[795 rows x 5 columns]"
            ],
            "text/html": [
              "\n",
              "  <div id=\"df-c820cfbe-04b5-4e79-8743-a7ef847b9402\">\n",
              "    <div class=\"colab-df-container\">\n",
              "      <div>\n",
              "<style scoped>\n",
              "    .dataframe tbody tr th:only-of-type {\n",
              "        vertical-align: middle;\n",
              "    }\n",
              "\n",
              "    .dataframe tbody tr th {\n",
              "        vertical-align: top;\n",
              "    }\n",
              "\n",
              "    .dataframe thead th {\n",
              "        text-align: right;\n",
              "    }\n",
              "</style>\n",
              "<table border=\"1\" class=\"dataframe\">\n",
              "  <thead>\n",
              "    <tr style=\"text-align: right;\">\n",
              "      <th></th>\n",
              "      <th>red</th>\n",
              "      <th>green</th>\n",
              "      <th>blue</th>\n",
              "      <th>size</th>\n",
              "      <th>label</th>\n",
              "    </tr>\n",
              "  </thead>\n",
              "  <tbody>\n",
              "    <tr>\n",
              "      <th>0</th>\n",
              "      <td>238.0</td>\n",
              "      <td>104.0</td>\n",
              "      <td>8.0</td>\n",
              "      <td>3.65</td>\n",
              "      <td>1.0</td>\n",
              "    </tr>\n",
              "    <tr>\n",
              "      <th>1</th>\n",
              "      <td>235.0</td>\n",
              "      <td>114.0</td>\n",
              "      <td>9.0</td>\n",
              "      <td>4.00</td>\n",
              "      <td>1.0</td>\n",
              "    </tr>\n",
              "    <tr>\n",
              "      <th>2</th>\n",
              "      <td>252.0</td>\n",
              "      <td>93.0</td>\n",
              "      <td>9.0</td>\n",
              "      <td>3.71</td>\n",
              "      <td>1.0</td>\n",
              "    </tr>\n",
              "    <tr>\n",
              "      <th>3</th>\n",
              "      <td>242.0</td>\n",
              "      <td>116.0</td>\n",
              "      <td>9.0</td>\n",
              "      <td>3.67</td>\n",
              "      <td>1.0</td>\n",
              "    </tr>\n",
              "    <tr>\n",
              "      <th>4</th>\n",
              "      <td>251.0</td>\n",
              "      <td>117.0</td>\n",
              "      <td>15.0</td>\n",
              "      <td>3.49</td>\n",
              "      <td>1.0</td>\n",
              "    </tr>\n",
              "    <tr>\n",
              "      <th>...</th>\n",
              "      <td>...</td>\n",
              "      <td>...</td>\n",
              "      <td>...</td>\n",
              "      <td>...</td>\n",
              "      <td>...</td>\n",
              "    </tr>\n",
              "    <tr>\n",
              "      <th>790</th>\n",
              "      <td>0.0</td>\n",
              "      <td>248.0</td>\n",
              "      <td>98.0</td>\n",
              "      <td>3.03</td>\n",
              "      <td>4.0</td>\n",
              "    </tr>\n",
              "    <tr>\n",
              "      <th>791</th>\n",
              "      <td>0.0</td>\n",
              "      <td>253.0</td>\n",
              "      <td>106.0</td>\n",
              "      <td>2.85</td>\n",
              "      <td>4.0</td>\n",
              "    </tr>\n",
              "    <tr>\n",
              "      <th>792</th>\n",
              "      <td>0.0</td>\n",
              "      <td>250.0</td>\n",
              "      <td>91.0</td>\n",
              "      <td>3.39</td>\n",
              "      <td>4.0</td>\n",
              "    </tr>\n",
              "    <tr>\n",
              "      <th>793</th>\n",
              "      <td>0.0</td>\n",
              "      <td>248.0</td>\n",
              "      <td>99.0</td>\n",
              "      <td>3.10</td>\n",
              "      <td>4.0</td>\n",
              "    </tr>\n",
              "    <tr>\n",
              "      <th>794</th>\n",
              "      <td>0.0</td>\n",
              "      <td>244.0</td>\n",
              "      <td>109.0</td>\n",
              "      <td>2.96</td>\n",
              "      <td>4.0</td>\n",
              "    </tr>\n",
              "  </tbody>\n",
              "</table>\n",
              "<p>795 rows × 5 columns</p>\n",
              "</div>\n",
              "      <button class=\"colab-df-convert\" onclick=\"convertToInteractive('df-c820cfbe-04b5-4e79-8743-a7ef847b9402')\"\n",
              "              title=\"Convert this dataframe to an interactive table.\"\n",
              "              style=\"display:none;\">\n",
              "        \n",
              "  <svg xmlns=\"http://www.w3.org/2000/svg\" height=\"24px\"viewBox=\"0 0 24 24\"\n",
              "       width=\"24px\">\n",
              "    <path d=\"M0 0h24v24H0V0z\" fill=\"none\"/>\n",
              "    <path d=\"M18.56 5.44l.94 2.06.94-2.06 2.06-.94-2.06-.94-.94-2.06-.94 2.06-2.06.94zm-11 1L8.5 8.5l.94-2.06 2.06-.94-2.06-.94L8.5 2.5l-.94 2.06-2.06.94zm10 10l.94 2.06.94-2.06 2.06-.94-2.06-.94-.94-2.06-.94 2.06-2.06.94z\"/><path d=\"M17.41 7.96l-1.37-1.37c-.4-.4-.92-.59-1.43-.59-.52 0-1.04.2-1.43.59L10.3 9.45l-7.72 7.72c-.78.78-.78 2.05 0 2.83L4 21.41c.39.39.9.59 1.41.59.51 0 1.02-.2 1.41-.59l7.78-7.78 2.81-2.81c.8-.78.8-2.07 0-2.86zM5.41 20L4 18.59l7.72-7.72 1.47 1.35L5.41 20z\"/>\n",
              "  </svg>\n",
              "      </button>\n",
              "      \n",
              "  <style>\n",
              "    .colab-df-container {\n",
              "      display:flex;\n",
              "      flex-wrap:wrap;\n",
              "      gap: 12px;\n",
              "    }\n",
              "\n",
              "    .colab-df-convert {\n",
              "      background-color: #E8F0FE;\n",
              "      border: none;\n",
              "      border-radius: 50%;\n",
              "      cursor: pointer;\n",
              "      display: none;\n",
              "      fill: #1967D2;\n",
              "      height: 32px;\n",
              "      padding: 0 0 0 0;\n",
              "      width: 32px;\n",
              "    }\n",
              "\n",
              "    .colab-df-convert:hover {\n",
              "      background-color: #E2EBFA;\n",
              "      box-shadow: 0px 1px 2px rgba(60, 64, 67, 0.3), 0px 1px 3px 1px rgba(60, 64, 67, 0.15);\n",
              "      fill: #174EA6;\n",
              "    }\n",
              "\n",
              "    [theme=dark] .colab-df-convert {\n",
              "      background-color: #3B4455;\n",
              "      fill: #D2E3FC;\n",
              "    }\n",
              "\n",
              "    [theme=dark] .colab-df-convert:hover {\n",
              "      background-color: #434B5C;\n",
              "      box-shadow: 0px 1px 3px 1px rgba(0, 0, 0, 0.15);\n",
              "      filter: drop-shadow(0px 1px 2px rgba(0, 0, 0, 0.3));\n",
              "      fill: #FFFFFF;\n",
              "    }\n",
              "  </style>\n",
              "\n",
              "      <script>\n",
              "        const buttonEl =\n",
              "          document.querySelector('#df-c820cfbe-04b5-4e79-8743-a7ef847b9402 button.colab-df-convert');\n",
              "        buttonEl.style.display =\n",
              "          google.colab.kernel.accessAllowed ? 'block' : 'none';\n",
              "\n",
              "        async function convertToInteractive(key) {\n",
              "          const element = document.querySelector('#df-c820cfbe-04b5-4e79-8743-a7ef847b9402');\n",
              "          const dataTable =\n",
              "            await google.colab.kernel.invokeFunction('convertToInteractive',\n",
              "                                                     [key], {});\n",
              "          if (!dataTable) return;\n",
              "\n",
              "          const docLinkHtml = 'Like what you see? Visit the ' +\n",
              "            '<a target=\"_blank\" href=https://colab.research.google.com/notebooks/data_table.ipynb>data table notebook</a>'\n",
              "            + ' to learn more about interactive tables.';\n",
              "          element.innerHTML = '';\n",
              "          dataTable['output_type'] = 'display_data';\n",
              "          await google.colab.output.renderOutput(dataTable, element);\n",
              "          const docLink = document.createElement('div');\n",
              "          docLink.innerHTML = docLinkHtml;\n",
              "          element.appendChild(docLink);\n",
              "        }\n",
              "      </script>\n",
              "    </div>\n",
              "  </div>\n",
              "  "
            ]
          },
          "metadata": {},
          "execution_count": 26
        }
      ],
      "source": [
        "import numpy as np\n",
        "import pandas as pd\n",
        "\n",
        "from sklearn.model_selection import train_test_split\n",
        "from sklearn.preprocessing import StandardScaler # necessary to reduce biases of large numbers\n",
        "from sklearn.neighbors import KNeighborsClassifier\n",
        "from sklearn.metrics import confusion_matrix\n",
        "from sklearn.metrics import f1_score\n",
        "from sklearn.metrics import accuracy_score\n",
        "\n",
        "dataset = pd.read_csv(\"strange_flowers.txt\",\n",
        "                      header=None,\n",
        "                      names=[\"red\", \"green\", \"blue\", \"size\", \"label\"],\n",
        "                      sep=\" \")\n",
        "dataset"
      ]
    },
    {
      "cell_type": "code",
      "execution_count": null,
      "id": "507b05e7-f7a5-4b10-bd6d-b8ce07d67f3e",
      "metadata": {
        "colab": {
          "base_uri": "https://localhost:8080/"
        },
        "id": "507b05e7-f7a5-4b10-bd6d-b8ce07d67f3e",
        "outputId": "04c09c42-38aa-495b-ca8a-bc9065df79ef"
      },
      "outputs": [
        {
          "output_type": "stream",
          "name": "stdout",
          "text": [
            "(795, 4)\n",
            "<class 'pandas.core.frame.DataFrame'>\n",
            "RangeIndex: 795 entries, 0 to 794\n",
            "Data columns (total 4 columns):\n",
            " #   Column  Non-Null Count  Dtype  \n",
            "---  ------  --------------  -----  \n",
            " 0   red     795 non-null    float64\n",
            " 1   green   795 non-null    float64\n",
            " 2   blue    795 non-null    float64\n",
            " 3   size    795 non-null    float64\n",
            "dtypes: float64(4)\n",
            "memory usage: 25.0 KB\n",
            "None\n",
            "              red       green        blue        size\n",
            "count  795.000000  795.000000  795.000000  795.000000\n",
            "mean   180.794969  134.603774   26.154717    3.568717\n",
            "std     96.182496   59.925796   39.094698    0.490436\n",
            "min      0.000000   81.000000    0.000000    2.400000\n",
            "25%    188.000000   98.000000    3.000000    3.200000\n",
            "50%    229.000000  107.000000    7.000000    3.520000\n",
            "75%    245.000000  120.000000   16.000000    4.000000\n",
            "max    255.000000  254.000000  111.000000    4.400000\n",
            "     red  green  blue  size\n",
            "0  238.0  104.0   8.0  3.65\n",
            "1  235.0  114.0   9.0  4.00\n",
            "2  252.0   93.0   9.0  3.71\n",
            "3  242.0  116.0   9.0  3.67\n",
            "4  251.0  117.0  15.0  3.49\n"
          ]
        }
      ],
      "source": [
        "df = dataset.drop('label', axis=1)\n",
        "print(df.shape)\n",
        "print(df.info())\n",
        "print(df.describe())\n",
        "print(df.head())"
      ]
    },
    {
      "cell_type": "code",
      "execution_count": null,
      "id": "5a3167e0-749c-4660-abcd-4057e0597fde",
      "metadata": {
        "colab": {
          "base_uri": "https://localhost:8080/"
        },
        "id": "5a3167e0-749c-4660-abcd-4057e0597fde",
        "outputId": "235ad329-bf99-48da-9ae1-4f890a8fe2b7"
      },
      "outputs": [
        {
          "output_type": "stream",
          "name": "stdout",
          "text": [
            "[[ 0.58460699 -0.57119956 -0.45894199 -0.30627378]\n",
            " [-1.89712845  1.86063754  1.85496972 -1.76994409]\n",
            " [ 0.58460699 -0.40348666 -0.30468121  0.75082145]\n",
            " [ 0.30187763 -0.55442827 -0.51036225  1.34035532]\n",
            " [-1.89712845  1.91095142  1.77783933 -0.89580766]]\n",
            "64     1.0\n",
            "632    4.0\n",
            "52     1.0\n",
            "527    3.0\n",
            "662    4.0\n",
            "Name: label, dtype: float64\n"
          ]
        }
      ],
      "source": [
        "labels = dataset.label\n",
        "X_train, X_test, y_train, y_test = train_test_split(df,\n",
        "                                                    labels,\n",
        "                                                    random_state=0,\n",
        "                                                    test_size=0.2)\n",
        "scaler = StandardScaler()\n",
        "X_train = scaler.fit_transform(X_train) #  transform\n",
        "X_test = scaler.transform(X_test) #  transform\n",
        "print(X_train[:5])\n",
        "print(y_train[:5])"
      ]
    },
    {
      "cell_type": "code",
      "execution_count": null,
      "id": "328e3c66-727c-4813-b253-62941ef95885",
      "metadata": {
        "id": "328e3c66-727c-4813-b253-62941ef95885"
      },
      "outputs": [],
      "source": [
        "# Define the model\n",
        "classifier = KNeighborsClassifier()"
      ]
    },
    {
      "cell_type": "code",
      "execution_count": null,
      "id": "39789f97-dd52-47ce-981c-59247a5ceb53",
      "metadata": {
        "colab": {
          "base_uri": "https://localhost:8080/",
          "height": 75
        },
        "id": "39789f97-dd52-47ce-981c-59247a5ceb53",
        "outputId": "5c9fdc67-05ee-476d-88c0-55a29ca10bff"
      },
      "outputs": [
        {
          "output_type": "execute_result",
          "data": {
            "text/plain": [
              "KNeighborsClassifier()"
            ],
            "text/html": [
              "<style>#sk-container-id-3 {color: black;background-color: white;}#sk-container-id-3 pre{padding: 0;}#sk-container-id-3 div.sk-toggleable {background-color: white;}#sk-container-id-3 label.sk-toggleable__label {cursor: pointer;display: block;width: 100%;margin-bottom: 0;padding: 0.3em;box-sizing: border-box;text-align: center;}#sk-container-id-3 label.sk-toggleable__label-arrow:before {content: \"▸\";float: left;margin-right: 0.25em;color: #696969;}#sk-container-id-3 label.sk-toggleable__label-arrow:hover:before {color: black;}#sk-container-id-3 div.sk-estimator:hover label.sk-toggleable__label-arrow:before {color: black;}#sk-container-id-3 div.sk-toggleable__content {max-height: 0;max-width: 0;overflow: hidden;text-align: left;background-color: #f0f8ff;}#sk-container-id-3 div.sk-toggleable__content pre {margin: 0.2em;color: black;border-radius: 0.25em;background-color: #f0f8ff;}#sk-container-id-3 input.sk-toggleable__control:checked~div.sk-toggleable__content {max-height: 200px;max-width: 100%;overflow: auto;}#sk-container-id-3 input.sk-toggleable__control:checked~label.sk-toggleable__label-arrow:before {content: \"▾\";}#sk-container-id-3 div.sk-estimator input.sk-toggleable__control:checked~label.sk-toggleable__label {background-color: #d4ebff;}#sk-container-id-3 div.sk-label input.sk-toggleable__control:checked~label.sk-toggleable__label {background-color: #d4ebff;}#sk-container-id-3 input.sk-hidden--visually {border: 0;clip: rect(1px 1px 1px 1px);clip: rect(1px, 1px, 1px, 1px);height: 1px;margin: -1px;overflow: hidden;padding: 0;position: absolute;width: 1px;}#sk-container-id-3 div.sk-estimator {font-family: monospace;background-color: #f0f8ff;border: 1px dotted black;border-radius: 0.25em;box-sizing: border-box;margin-bottom: 0.5em;}#sk-container-id-3 div.sk-estimator:hover {background-color: #d4ebff;}#sk-container-id-3 div.sk-parallel-item::after {content: \"\";width: 100%;border-bottom: 1px solid gray;flex-grow: 1;}#sk-container-id-3 div.sk-label:hover label.sk-toggleable__label {background-color: #d4ebff;}#sk-container-id-3 div.sk-serial::before {content: \"\";position: absolute;border-left: 1px solid gray;box-sizing: border-box;top: 0;bottom: 0;left: 50%;z-index: 0;}#sk-container-id-3 div.sk-serial {display: flex;flex-direction: column;align-items: center;background-color: white;padding-right: 0.2em;padding-left: 0.2em;position: relative;}#sk-container-id-3 div.sk-item {position: relative;z-index: 1;}#sk-container-id-3 div.sk-parallel {display: flex;align-items: stretch;justify-content: center;background-color: white;position: relative;}#sk-container-id-3 div.sk-item::before, #sk-container-id-3 div.sk-parallel-item::before {content: \"\";position: absolute;border-left: 1px solid gray;box-sizing: border-box;top: 0;bottom: 0;left: 50%;z-index: -1;}#sk-container-id-3 div.sk-parallel-item {display: flex;flex-direction: column;z-index: 1;position: relative;background-color: white;}#sk-container-id-3 div.sk-parallel-item:first-child::after {align-self: flex-end;width: 50%;}#sk-container-id-3 div.sk-parallel-item:last-child::after {align-self: flex-start;width: 50%;}#sk-container-id-3 div.sk-parallel-item:only-child::after {width: 0;}#sk-container-id-3 div.sk-dashed-wrapped {border: 1px dashed gray;margin: 0 0.4em 0.5em 0.4em;box-sizing: border-box;padding-bottom: 0.4em;background-color: white;}#sk-container-id-3 div.sk-label label {font-family: monospace;font-weight: bold;display: inline-block;line-height: 1.2em;}#sk-container-id-3 div.sk-label-container {text-align: center;}#sk-container-id-3 div.sk-container {/* jupyter's `normalize.less` sets `[hidden] { display: none; }` but bootstrap.min.css set `[hidden] { display: none !important; }` so we also need the `!important` here to be able to override the default hidden behavior on the sphinx rendered scikit-learn.org. See: https://github.com/scikit-learn/scikit-learn/issues/21755 */display: inline-block !important;position: relative;}#sk-container-id-3 div.sk-text-repr-fallback {display: none;}</style><div id=\"sk-container-id-3\" class=\"sk-top-container\"><div class=\"sk-text-repr-fallback\"><pre>KNeighborsClassifier()</pre><b>In a Jupyter environment, please rerun this cell to show the HTML representation or trust the notebook. <br />On GitHub, the HTML representation is unable to render, please try loading this page with nbviewer.org.</b></div><div class=\"sk-container\" hidden><div class=\"sk-item\"><div class=\"sk-estimator sk-toggleable\"><input class=\"sk-toggleable__control sk-hidden--visually\" id=\"sk-estimator-id-3\" type=\"checkbox\" checked><label for=\"sk-estimator-id-3\" class=\"sk-toggleable__label sk-toggleable__label-arrow\">KNeighborsClassifier</label><div class=\"sk-toggleable__content\"><pre>KNeighborsClassifier()</pre></div></div></div></div></div>"
            ]
          },
          "metadata": {},
          "execution_count": 30
        }
      ],
      "source": [
        "classifier.fit(X_train, y_train)"
      ]
    },
    {
      "cell_type": "code",
      "execution_count": null,
      "id": "39ac9f55-769d-457a-87df-d0accd7bb13c",
      "metadata": {
        "colab": {
          "base_uri": "https://localhost:8080/"
        },
        "id": "39ac9f55-769d-457a-87df-d0accd7bb13c",
        "outputId": "4cf47dbe-0094-4b14-8295-bcf08d98a13b"
      },
      "outputs": [
        {
          "output_type": "execute_result",
          "data": {
            "text/plain": [
              "array([3., 1., 3., 4., 3., 3., 1., 4., 3., 3., 4., 1., 3., 1., 2., 2., 2.,\n",
              "       3., 1., 4., 2., 3., 4., 2., 3., 3., 4., 4., 1., 2., 1., 1., 2., 3.,\n",
              "       1., 3., 3., 2., 2., 2., 3., 3., 4., 1., 4., 2., 3., 2., 3., 2., 2.,\n",
              "       3., 1., 3., 4., 1., 2., 4., 2., 3., 3., 4., 3., 4., 3., 1., 1., 2.,\n",
              "       1., 3., 3., 1., 4., 2., 2., 3., 2., 4., 2., 4., 1., 3., 4., 2., 4.,\n",
              "       3., 2., 2., 2., 3., 2., 2., 3., 3., 1., 4., 2., 1., 2., 2., 1., 2.,\n",
              "       4., 3., 3., 3., 2., 1., 2., 4., 2., 3., 3., 1., 2., 4., 3., 1., 1.,\n",
              "       2., 1., 4., 3., 4., 2., 2., 3., 2., 4., 1., 4., 2., 4., 4., 4., 4.,\n",
              "       4., 2., 4., 4., 4., 2., 3., 2., 1., 1., 2., 3., 1., 1., 3., 1., 2.,\n",
              "       4., 2., 4., 2., 3., 1.])"
            ]
          },
          "metadata": {},
          "execution_count": 31
        }
      ],
      "source": [
        "y_pred = classifier.predict(X_test)\n",
        "y_pred"
      ]
    },
    {
      "cell_type": "code",
      "execution_count": null,
      "id": "1e69bfab-9681-45f7-a555-4faad8d10eff",
      "metadata": {
        "colab": {
          "base_uri": "https://localhost:8080/"
        },
        "id": "1e69bfab-9681-45f7-a555-4faad8d10eff",
        "outputId": "0bae7d24-c0cb-4f0a-d806-4c9e95935a8c"
      },
      "outputs": [
        {
          "output_type": "stream",
          "name": "stdout",
          "text": [
            "[[32  0  0  0]\n",
            " [ 0 47  0  0]\n",
            " [ 0  0 44  0]\n",
            " [ 0  0  0 36]]\n"
          ]
        }
      ],
      "source": [
        "# Evaluate Model\n",
        "cm = confusion_matrix(y_test, y_pred)\n",
        "print(cm)"
      ]
    },
    {
      "cell_type": "code",
      "execution_count": null,
      "id": "f26adca3-4c2d-4fe0-8afb-e23c112cb2e7",
      "metadata": {
        "colab": {
          "base_uri": "https://localhost:8080/"
        },
        "id": "f26adca3-4c2d-4fe0-8afb-e23c112cb2e7",
        "outputId": "53f9e6bf-af7d-45b8-e8dc-c4893a36d6ed"
      },
      "outputs": [
        {
          "output_type": "stream",
          "name": "stdout",
          "text": [
            "1.0\n"
          ]
        }
      ],
      "source": [
        "print(accuracy_score(y_test, y_pred))"
      ]
    },
    {
      "cell_type": "markdown",
      "id": "4e81bfaf-3b62-40eb-85a5-8ea653f22183",
      "metadata": {
        "id": "4e81bfaf-3b62-40eb-85a5-8ea653f22183"
      },
      "source": []
    },
    {
      "cell_type": "code",
      "execution_count": null,
      "id": "3d197f24-2655-411d-bf1b-681078954d25",
      "metadata": {
        "id": "3d197f24-2655-411d-bf1b-681078954d25"
      },
      "outputs": [],
      "source": []
    },
    {
      "cell_type": "markdown",
      "id": "b0fe2106-94f5-4a7b-919c-2716bb690b4d",
      "metadata": {
        "id": "b0fe2106-94f5-4a7b-919c-2716bb690b4d"
      },
      "source": [
        "# Unsupervised Nearest Neighbors"
      ]
    },
    {
      "cell_type": "markdown",
      "id": "69b18d76-a576-42b3-b941-dad6d992be77",
      "metadata": {
        "id": "69b18d76-a576-42b3-b941-dad6d992be77"
      },
      "source": [
        "## Example 11"
      ]
    },
    {
      "cell_type": "markdown",
      "id": "27cac3bf-4892-4acb-a9dc-183194afa754",
      "metadata": {
        "id": "27cac3bf-4892-4acb-a9dc-183194afa754"
      },
      "source": [
        "In the following example, we construct a NearestNeighbors class from an array representing our data set and ask who’s the closest point to [1,1,1]"
      ]
    },
    {
      "cell_type": "code",
      "execution_count": null,
      "id": "aa36249b-0f5e-4ec4-8180-b3363c33e10d",
      "metadata": {
        "colab": {
          "base_uri": "https://localhost:8080/",
          "height": 75
        },
        "id": "aa36249b-0f5e-4ec4-8180-b3363c33e10d",
        "outputId": "c159b6ff-dabc-47a9-aed9-86e1cd2fa29d"
      },
      "outputs": [
        {
          "output_type": "execute_result",
          "data": {
            "text/plain": [
              "NearestNeighbors(n_neighbors=1)"
            ],
            "text/html": [
              "<style>#sk-container-id-4 {color: black;background-color: white;}#sk-container-id-4 pre{padding: 0;}#sk-container-id-4 div.sk-toggleable {background-color: white;}#sk-container-id-4 label.sk-toggleable__label {cursor: pointer;display: block;width: 100%;margin-bottom: 0;padding: 0.3em;box-sizing: border-box;text-align: center;}#sk-container-id-4 label.sk-toggleable__label-arrow:before {content: \"▸\";float: left;margin-right: 0.25em;color: #696969;}#sk-container-id-4 label.sk-toggleable__label-arrow:hover:before {color: black;}#sk-container-id-4 div.sk-estimator:hover label.sk-toggleable__label-arrow:before {color: black;}#sk-container-id-4 div.sk-toggleable__content {max-height: 0;max-width: 0;overflow: hidden;text-align: left;background-color: #f0f8ff;}#sk-container-id-4 div.sk-toggleable__content pre {margin: 0.2em;color: black;border-radius: 0.25em;background-color: #f0f8ff;}#sk-container-id-4 input.sk-toggleable__control:checked~div.sk-toggleable__content {max-height: 200px;max-width: 100%;overflow: auto;}#sk-container-id-4 input.sk-toggleable__control:checked~label.sk-toggleable__label-arrow:before {content: \"▾\";}#sk-container-id-4 div.sk-estimator input.sk-toggleable__control:checked~label.sk-toggleable__label {background-color: #d4ebff;}#sk-container-id-4 div.sk-label input.sk-toggleable__control:checked~label.sk-toggleable__label {background-color: #d4ebff;}#sk-container-id-4 input.sk-hidden--visually {border: 0;clip: rect(1px 1px 1px 1px);clip: rect(1px, 1px, 1px, 1px);height: 1px;margin: -1px;overflow: hidden;padding: 0;position: absolute;width: 1px;}#sk-container-id-4 div.sk-estimator {font-family: monospace;background-color: #f0f8ff;border: 1px dotted black;border-radius: 0.25em;box-sizing: border-box;margin-bottom: 0.5em;}#sk-container-id-4 div.sk-estimator:hover {background-color: #d4ebff;}#sk-container-id-4 div.sk-parallel-item::after {content: \"\";width: 100%;border-bottom: 1px solid gray;flex-grow: 1;}#sk-container-id-4 div.sk-label:hover label.sk-toggleable__label {background-color: #d4ebff;}#sk-container-id-4 div.sk-serial::before {content: \"\";position: absolute;border-left: 1px solid gray;box-sizing: border-box;top: 0;bottom: 0;left: 50%;z-index: 0;}#sk-container-id-4 div.sk-serial {display: flex;flex-direction: column;align-items: center;background-color: white;padding-right: 0.2em;padding-left: 0.2em;position: relative;}#sk-container-id-4 div.sk-item {position: relative;z-index: 1;}#sk-container-id-4 div.sk-parallel {display: flex;align-items: stretch;justify-content: center;background-color: white;position: relative;}#sk-container-id-4 div.sk-item::before, #sk-container-id-4 div.sk-parallel-item::before {content: \"\";position: absolute;border-left: 1px solid gray;box-sizing: border-box;top: 0;bottom: 0;left: 50%;z-index: -1;}#sk-container-id-4 div.sk-parallel-item {display: flex;flex-direction: column;z-index: 1;position: relative;background-color: white;}#sk-container-id-4 div.sk-parallel-item:first-child::after {align-self: flex-end;width: 50%;}#sk-container-id-4 div.sk-parallel-item:last-child::after {align-self: flex-start;width: 50%;}#sk-container-id-4 div.sk-parallel-item:only-child::after {width: 0;}#sk-container-id-4 div.sk-dashed-wrapped {border: 1px dashed gray;margin: 0 0.4em 0.5em 0.4em;box-sizing: border-box;padding-bottom: 0.4em;background-color: white;}#sk-container-id-4 div.sk-label label {font-family: monospace;font-weight: bold;display: inline-block;line-height: 1.2em;}#sk-container-id-4 div.sk-label-container {text-align: center;}#sk-container-id-4 div.sk-container {/* jupyter's `normalize.less` sets `[hidden] { display: none; }` but bootstrap.min.css set `[hidden] { display: none !important; }` so we also need the `!important` here to be able to override the default hidden behavior on the sphinx rendered scikit-learn.org. See: https://github.com/scikit-learn/scikit-learn/issues/21755 */display: inline-block !important;position: relative;}#sk-container-id-4 div.sk-text-repr-fallback {display: none;}</style><div id=\"sk-container-id-4\" class=\"sk-top-container\"><div class=\"sk-text-repr-fallback\"><pre>NearestNeighbors(n_neighbors=1)</pre><b>In a Jupyter environment, please rerun this cell to show the HTML representation or trust the notebook. <br />On GitHub, the HTML representation is unable to render, please try loading this page with nbviewer.org.</b></div><div class=\"sk-container\" hidden><div class=\"sk-item\"><div class=\"sk-estimator sk-toggleable\"><input class=\"sk-toggleable__control sk-hidden--visually\" id=\"sk-estimator-id-4\" type=\"checkbox\" checked><label for=\"sk-estimator-id-4\" class=\"sk-toggleable__label sk-toggleable__label-arrow\">NearestNeighbors</label><div class=\"sk-toggleable__content\"><pre>NearestNeighbors(n_neighbors=1)</pre></div></div></div></div></div>"
            ]
          },
          "metadata": {},
          "execution_count": 34
        }
      ],
      "source": [
        "samples = [[0., 0., 0.], [0., .5, 0.], [1., 1., .5]]\n",
        "from sklearn.neighbors import NearestNeighbors\n",
        "nn = NearestNeighbors(n_neighbors=1)\n",
        "nn.fit(samples)"
      ]
    },
    {
      "cell_type": "code",
      "execution_count": null,
      "id": "ce7f0e4c-4f90-4e84-a376-8a9145a7e06e",
      "metadata": {
        "colab": {
          "base_uri": "https://localhost:8080/"
        },
        "id": "ce7f0e4c-4f90-4e84-a376-8a9145a7e06e",
        "outputId": "5f5b59fa-afc1-4515-bf4a-cc0f62dbb37a"
      },
      "outputs": [
        {
          "output_type": "stream",
          "name": "stdout",
          "text": [
            "(array([[0.5]]), array([[2]]))\n"
          ]
        }
      ],
      "source": [
        "print(nn.kneighbors([[1., 1., 1.]]))"
      ]
    },
    {
      "cell_type": "markdown",
      "id": "4105046e-4ea6-46b5-9503-3d49a40829cd",
      "metadata": {
        "id": "4105046e-4ea6-46b5-9503-3d49a40829cd"
      },
      "source": [
        "As you can see, it returns [[0.5]], and [[2]], which means that the element is at distance 0.5 from the third element of samples (indexes start at 0)."
      ]
    },
    {
      "cell_type": "code",
      "execution_count": null,
      "id": "53d22793-2af9-45a5-a19b-ed7dcb4100de",
      "metadata": {
        "colab": {
          "base_uri": "https://localhost:8080/"
        },
        "id": "53d22793-2af9-45a5-a19b-ed7dcb4100de",
        "outputId": "69f0f2b9-5cf5-4126-f6b6-51f5f3b7d0fa"
      },
      "outputs": [
        {
          "output_type": "stream",
          "name": "stdout",
          "text": [
            "(array([[0.70710678]]), array([[1]]))\n"
          ]
        }
      ],
      "source": [
        "# What is the result below?\n",
        "# What is the meaning of the result?\n",
        "print(nn.kneighbors([[0.5, 0.5, 0.5]]))"
      ]
    },
    {
      "cell_type": "markdown",
      "id": "4df7b454-897c-44aa-b63a-177f88463de6",
      "metadata": {
        "id": "4df7b454-897c-44aa-b63a-177f88463de6"
      },
      "source": [
        "You can also query for multiple points:"
      ]
    },
    {
      "cell_type": "code",
      "execution_count": null,
      "id": "f6a8a294-61de-4abc-b634-000e4da28593",
      "metadata": {
        "colab": {
          "base_uri": "https://localhost:8080/"
        },
        "id": "f6a8a294-61de-4abc-b634-000e4da28593",
        "outputId": "bb7e430e-5b97-4f41-a5c4-5b63c0d757dd"
      },
      "outputs": [
        {
          "output_type": "execute_result",
          "data": {
            "text/plain": [
              "array([[1],\n",
              "       [2]])"
            ]
          },
          "metadata": {},
          "execution_count": 37
        }
      ],
      "source": [
        "X = [[0., 1., 0.], [1., 0., 1.]]\n",
        "nn.kneighbors(X, return_distance=False)"
      ]
    },
    {
      "cell_type": "code",
      "execution_count": null,
      "id": "ff498484-0947-44ad-b1db-0b723add2726",
      "metadata": {
        "id": "ff498484-0947-44ad-b1db-0b723add2726"
      },
      "outputs": [],
      "source": []
    },
    {
      "cell_type": "markdown",
      "id": "4cfe7479-745c-4b1b-98fd-3324d3069a93",
      "metadata": {
        "id": "4cfe7479-745c-4b1b-98fd-3324d3069a93"
      },
      "source": [
        "## Example 12"
      ]
    },
    {
      "cell_type": "markdown",
      "id": "665a208f-78ec-495f-af24-7716150e3b85",
      "metadata": {
        "id": "665a208f-78ec-495f-af24-7716150e3b85"
      },
      "source": [
        "For the simple task of finding the nearest neighbors between two sets of data, the unsupervised algorithms within sklearn.neighbors can be used:"
      ]
    },
    {
      "cell_type": "code",
      "execution_count": null,
      "id": "79c7929d-ee30-436c-8699-580602bfbea9",
      "metadata": {
        "id": "79c7929d-ee30-436c-8699-580602bfbea9"
      },
      "outputs": [],
      "source": [
        "from sklearn.neighbors import NearestNeighbors\n",
        "import numpy as np\n",
        "X = np.array([[-1, -1], [-2, -1], [-3, -2], [1, 1], [2, 1], [3, 2]])\n",
        "nn = NearestNeighbors(n_neighbors=2, algorithm='ball_tree').fit(X)\n",
        "distances, indices = nn.kneighbors(X)"
      ]
    },
    {
      "cell_type": "code",
      "execution_count": null,
      "id": "71018c8e-c7d1-4bba-856a-19be7a920198",
      "metadata": {
        "colab": {
          "base_uri": "https://localhost:8080/"
        },
        "id": "71018c8e-c7d1-4bba-856a-19be7a920198",
        "outputId": "56d5f056-6102-40ee-b2ea-2bcc67c3e827"
      },
      "outputs": [
        {
          "output_type": "execute_result",
          "data": {
            "text/plain": [
              "array([[0, 1],\n",
              "       [1, 0],\n",
              "       [2, 1],\n",
              "       [3, 4],\n",
              "       [4, 3],\n",
              "       [5, 4]])"
            ]
          },
          "metadata": {},
          "execution_count": 39
        }
      ],
      "source": [
        "indices"
      ]
    },
    {
      "cell_type": "code",
      "execution_count": null,
      "id": "76c66850-9260-437e-96c3-51ae9bc67258",
      "metadata": {
        "colab": {
          "base_uri": "https://localhost:8080/"
        },
        "id": "76c66850-9260-437e-96c3-51ae9bc67258",
        "outputId": "59812b47-e27e-4f72-e88c-564d92098a8a"
      },
      "outputs": [
        {
          "output_type": "execute_result",
          "data": {
            "text/plain": [
              "array([[0.        , 1.        ],\n",
              "       [0.        , 1.        ],\n",
              "       [0.        , 1.41421356],\n",
              "       [0.        , 1.        ],\n",
              "       [0.        , 1.        ],\n",
              "       [0.        , 1.41421356]])"
            ]
          },
          "metadata": {},
          "execution_count": 40
        }
      ],
      "source": [
        "distances"
      ]
    },
    {
      "cell_type": "markdown",
      "id": "cb0c338a-992d-4073-aeb1-321205d035a9",
      "metadata": {
        "id": "cb0c338a-992d-4073-aeb1-321205d035a9"
      },
      "source": [
        "Because the query set matches the training set, the nearest neighbor of each point is the point itself, at a distance of zero.\n",
        "\n",
        "It is also possible to efficiently produce a sparse graph showing the connections between neighboring points:"
      ]
    },
    {
      "cell_type": "code",
      "execution_count": null,
      "id": "ec3b3fa4-fa59-45fa-a920-85b6b145c6af",
      "metadata": {
        "colab": {
          "base_uri": "https://localhost:8080/"
        },
        "id": "ec3b3fa4-fa59-45fa-a920-85b6b145c6af",
        "outputId": "e9fd9cc4-4532-44c5-8e22-3249792aaf27"
      },
      "outputs": [
        {
          "output_type": "execute_result",
          "data": {
            "text/plain": [
              "array([[1., 1., 0., 0., 0., 0.],\n",
              "       [1., 1., 0., 0., 0., 0.],\n",
              "       [0., 1., 1., 0., 0., 0.],\n",
              "       [0., 0., 0., 1., 1., 0.],\n",
              "       [0., 0., 0., 1., 1., 0.],\n",
              "       [0., 0., 0., 0., 1., 1.]])"
            ]
          },
          "metadata": {},
          "execution_count": 41
        }
      ],
      "source": [
        "nn.kneighbors_graph(X).toarray()"
      ]
    },
    {
      "cell_type": "markdown",
      "id": "a66c82b9-da9e-4af0-a4ab-6aae2155ab94",
      "metadata": {
        "id": "a66c82b9-da9e-4af0-a4ab-6aae2155ab94"
      },
      "source": [
        "The dataset is structured such that points nearby in index order are nearby in parameter space, leading to an approximately block-diagonal matrix of K-nearest neighbors. Such a sparse graph is useful in a variety of circumstances which make use of spatial relationships between points for unsupervised learning: in particular, see Isomap, LocallyLinearEmbedding, and SpectralClustering."
      ]
    },
    {
      "cell_type": "markdown",
      "id": "407a76b1-74f6-438d-b56d-1584ce8bc6bf",
      "metadata": {
        "id": "407a76b1-74f6-438d-b56d-1584ce8bc6bf"
      },
      "source": [
        "## Example 13"
      ]
    },
    {
      "cell_type": "code",
      "execution_count": null,
      "id": "9d40ae37-170b-4afb-8fc9-a5c7b6c6a212",
      "metadata": {
        "id": "9d40ae37-170b-4afb-8fc9-a5c7b6c6a212"
      },
      "outputs": [],
      "source": []
    },
    {
      "cell_type": "code",
      "execution_count": null,
      "id": "b5dfcc2e-ce88-4abe-8e38-cce0e9724825",
      "metadata": {
        "id": "b5dfcc2e-ce88-4abe-8e38-cce0e9724825"
      },
      "outputs": [],
      "source": []
    },
    {
      "cell_type": "code",
      "execution_count": null,
      "id": "e8b3442e-69c4-4f24-b28c-413e91eb4629",
      "metadata": {
        "id": "e8b3442e-69c4-4f24-b28c-413e91eb4629"
      },
      "outputs": [],
      "source": []
    },
    {
      "cell_type": "code",
      "execution_count": null,
      "id": "232d3772-f118-4371-9b39-fa09719ac771",
      "metadata": {
        "id": "232d3772-f118-4371-9b39-fa09719ac771",
        "outputId": "1231ea20-a34e-41c8-9194-5e5dd4fe9015"
      },
      "outputs": [
        {
          "data": {
            "text/html": [
              "<style>#sk-container-id-4 {color: black;background-color: white;}#sk-container-id-4 pre{padding: 0;}#sk-container-id-4 div.sk-toggleable {background-color: white;}#sk-container-id-4 label.sk-toggleable__label {cursor: pointer;display: block;width: 100%;margin-bottom: 0;padding: 0.3em;box-sizing: border-box;text-align: center;}#sk-container-id-4 label.sk-toggleable__label-arrow:before {content: \"▸\";float: left;margin-right: 0.25em;color: #696969;}#sk-container-id-4 label.sk-toggleable__label-arrow:hover:before {color: black;}#sk-container-id-4 div.sk-estimator:hover label.sk-toggleable__label-arrow:before {color: black;}#sk-container-id-4 div.sk-toggleable__content {max-height: 0;max-width: 0;overflow: hidden;text-align: left;background-color: #f0f8ff;}#sk-container-id-4 div.sk-toggleable__content pre {margin: 0.2em;color: black;border-radius: 0.25em;background-color: #f0f8ff;}#sk-container-id-4 input.sk-toggleable__control:checked~div.sk-toggleable__content {max-height: 200px;max-width: 100%;overflow: auto;}#sk-container-id-4 input.sk-toggleable__control:checked~label.sk-toggleable__label-arrow:before {content: \"▾\";}#sk-container-id-4 div.sk-estimator input.sk-toggleable__control:checked~label.sk-toggleable__label {background-color: #d4ebff;}#sk-container-id-4 div.sk-label input.sk-toggleable__control:checked~label.sk-toggleable__label {background-color: #d4ebff;}#sk-container-id-4 input.sk-hidden--visually {border: 0;clip: rect(1px 1px 1px 1px);clip: rect(1px, 1px, 1px, 1px);height: 1px;margin: -1px;overflow: hidden;padding: 0;position: absolute;width: 1px;}#sk-container-id-4 div.sk-estimator {font-family: monospace;background-color: #f0f8ff;border: 1px dotted black;border-radius: 0.25em;box-sizing: border-box;margin-bottom: 0.5em;}#sk-container-id-4 div.sk-estimator:hover {background-color: #d4ebff;}#sk-container-id-4 div.sk-parallel-item::after {content: \"\";width: 100%;border-bottom: 1px solid gray;flex-grow: 1;}#sk-container-id-4 div.sk-label:hover label.sk-toggleable__label {background-color: #d4ebff;}#sk-container-id-4 div.sk-serial::before {content: \"\";position: absolute;border-left: 1px solid gray;box-sizing: border-box;top: 0;bottom: 0;left: 50%;z-index: 0;}#sk-container-id-4 div.sk-serial {display: flex;flex-direction: column;align-items: center;background-color: white;padding-right: 0.2em;padding-left: 0.2em;position: relative;}#sk-container-id-4 div.sk-item {position: relative;z-index: 1;}#sk-container-id-4 div.sk-parallel {display: flex;align-items: stretch;justify-content: center;background-color: white;position: relative;}#sk-container-id-4 div.sk-item::before, #sk-container-id-4 div.sk-parallel-item::before {content: \"\";position: absolute;border-left: 1px solid gray;box-sizing: border-box;top: 0;bottom: 0;left: 50%;z-index: -1;}#sk-container-id-4 div.sk-parallel-item {display: flex;flex-direction: column;z-index: 1;position: relative;background-color: white;}#sk-container-id-4 div.sk-parallel-item:first-child::after {align-self: flex-end;width: 50%;}#sk-container-id-4 div.sk-parallel-item:last-child::after {align-self: flex-start;width: 50%;}#sk-container-id-4 div.sk-parallel-item:only-child::after {width: 0;}#sk-container-id-4 div.sk-dashed-wrapped {border: 1px dashed gray;margin: 0 0.4em 0.5em 0.4em;box-sizing: border-box;padding-bottom: 0.4em;background-color: white;}#sk-container-id-4 div.sk-label label {font-family: monospace;font-weight: bold;display: inline-block;line-height: 1.2em;}#sk-container-id-4 div.sk-label-container {text-align: center;}#sk-container-id-4 div.sk-container {/* jupyter's `normalize.less` sets `[hidden] { display: none; }` but bootstrap.min.css set `[hidden] { display: none !important; }` so we also need the `!important` here to be able to override the default hidden behavior on the sphinx rendered scikit-learn.org. See: https://github.com/scikit-learn/scikit-learn/issues/21755 */display: inline-block !important;position: relative;}#sk-container-id-4 div.sk-text-repr-fallback {display: none;}</style><div id=\"sk-container-id-4\" class=\"sk-top-container\"><div class=\"sk-text-repr-fallback\"><pre>NearestNeighbors(algorithm=&#x27;ball_tree&#x27;, n_neighbors=3)</pre><b>In a Jupyter environment, please rerun this cell to show the HTML representation or trust the notebook. <br />On GitHub, the HTML representation is unable to render, please try loading this page with nbviewer.org.</b></div><div class=\"sk-container\" hidden><div class=\"sk-item\"><div class=\"sk-estimator sk-toggleable\"><input class=\"sk-toggleable__control sk-hidden--visually\" id=\"sk-estimator-id-4\" type=\"checkbox\" checked><label for=\"sk-estimator-id-4\" class=\"sk-toggleable__label sk-toggleable__label-arrow\">NearestNeighbors</label><div class=\"sk-toggleable__content\"><pre>NearestNeighbors(algorithm=&#x27;ball_tree&#x27;, n_neighbors=3)</pre></div></div></div></div></div>"
            ],
            "text/plain": [
              "NearestNeighbors(algorithm='ball_tree', n_neighbors=3)"
            ]
          },
          "execution_count": 25,
          "metadata": {},
          "output_type": "execute_result"
        }
      ],
      "source": []
    },
    {
      "cell_type": "code",
      "execution_count": null,
      "id": "9f07727b-8c51-4cc6-bc2d-e65d4ea85f30",
      "metadata": {
        "id": "9f07727b-8c51-4cc6-bc2d-e65d4ea85f30",
        "outputId": "258f1d0f-c124-4fff-c5cb-608bf1793829"
      },
      "outputs": [
        {
          "name": "stdout",
          "output_type": "stream",
          "text": [
            "[[0.         1.41421356 2.23606798]\n",
            " [0.         1.41421356 1.41421356]\n",
            " [0.         1.41421356 2.82842712]\n",
            " [0.         1.41421356 2.23606798]\n",
            " [0.         1.41421356 1.41421356]\n",
            " [0.         1.41421356 1.41421356]\n",
            " [0.         1.41421356 2.82842712]]\n",
            "[[0 1 3]\n",
            " [1 2 0]\n",
            " [2 1 0]\n",
            " [3 4 0]\n",
            " [4 5 3]\n",
            " [5 6 4]\n",
            " [6 5 4]]\n"
          ]
        }
      ],
      "source": []
    },
    {
      "cell_type": "code",
      "execution_count": null,
      "id": "01016b2a-1050-4492-8734-0991705b23e6",
      "metadata": {
        "id": "01016b2a-1050-4492-8734-0991705b23e6"
      },
      "outputs": [],
      "source": []
    },
    {
      "cell_type": "code",
      "execution_count": null,
      "id": "0e5c7c1b-a5a2-41d5-a456-4434056cbfe8",
      "metadata": {
        "id": "0e5c7c1b-a5a2-41d5-a456-4434056cbfe8"
      },
      "outputs": [],
      "source": []
    },
    {
      "cell_type": "code",
      "execution_count": null,
      "id": "c5b09238-1acb-4bac-9667-279621d3b57f",
      "metadata": {
        "id": "c5b09238-1acb-4bac-9667-279621d3b57f"
      },
      "outputs": [],
      "source": []
    },
    {
      "cell_type": "markdown",
      "id": "dc680e53-1de5-43ea-ab01-11537d8586cb",
      "metadata": {
        "id": "dc680e53-1de5-43ea-ab01-11537d8586cb"
      },
      "source": [
        "## Draw graph by random data"
      ]
    },
    {
      "cell_type": "code",
      "execution_count": null,
      "id": "71b95ba4-f355-4d03-b4b0-bcbb0b1ee7c6",
      "metadata": {
        "id": "71b95ba4-f355-4d03-b4b0-bcbb0b1ee7c6",
        "outputId": "ba6db42a-0819-4e36-bd74-c6ff192661f0"
      },
      "outputs": [
        {
          "data": {
            "image/png": "[encoded data removed]",
            "text/plain": [
              "<Figure size 640x480 with 1 Axes>"
            ]
          },
          "metadata": {},
          "output_type": "display_data"
        }
      ],
      "source": [
        "import matplotlib.pyplot as plt\n",
        "from sklearn.datasets import make_blobs\n",
        "\n",
        "n_classes = 6\n",
        "data, labels = make_blobs(n_samples=1000,\n",
        "                          centers=n_classes,\n",
        "                          cluster_std = 1.3,\n",
        "                          random_state=1)\n",
        "\n",
        "colours = ('green', 'red', 'blue', 'magenta', 'yellow', 'pink')\n",
        "\n",
        "fig, ax = plt.subplots()\n",
        "for n_class in range(0, n_classes):\n",
        "    ax.scatter(data[labels==n_class, 0], data[labels==n_class, 1],\n",
        "               c=colours[n_class], s=10, label=str(n_class))"
      ]
    },
    {
      "cell_type": "code",
      "execution_count": null,
      "id": "b048af20-cb5e-4eff-85dc-cb0f1e162566",
      "metadata": {
        "id": "b048af20-cb5e-4eff-85dc-cb0f1e162566"
      },
      "outputs": [],
      "source": []
    },
    {
      "cell_type": "code",
      "execution_count": null,
      "id": "c45d8ca9-1f6c-4ffe-9fbe-3356c14105f8",
      "metadata": {
        "id": "c45d8ca9-1f6c-4ffe-9fbe-3356c14105f8"
      },
      "outputs": [],
      "source": []
    }
  ],
  "metadata": {
    "kernelspec": {
      "display_name": "Python 3 (ipykernel)",
      "language": "python",
      "name": "python3"
    },
    "language_info": {
      "codemirror_mode": {
        "name": "ipython",
        "version": 3
      },
      "file_extension": ".py",
      "mimetype": "text/x-python",
      "name": "python",
      "nbconvert_exporter": "python",
      "pygments_lexer": "ipython3",
      "version": "3.8.15"
    },
    "colab": {
      "provenance": [],
      "include_colab_link": true
    }
  },
  "nbformat": 4,
  "nbformat_minor": 5
}