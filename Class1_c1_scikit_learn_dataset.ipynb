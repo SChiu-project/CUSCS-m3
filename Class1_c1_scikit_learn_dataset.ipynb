{
  "cells": [
    {
      "cell_type": "markdown",
      "metadata": {
        "id": "view-in-github",
        "colab_type": "text"
      },
      "source": [
        "<a href=\"https://colab.research.google.com/github/SChiu-project/CUSCS-m3/blob/main/Class1_c1_scikit_learn_dataset.ipynb\" target=\"_parent\"><img src=\"https://colab.research.google.com/assets/colab-badge.svg\" alt=\"Open In Colab\"/></a>"
      ]
    },
    {
      "cell_type": "markdown",
      "id": "2b27ce03-28df-4019-83e3-e6387b0868da",
      "metadata": {
        "id": "2b27ce03-28df-4019-83e3-e6387b0868da"
      },
      "source": [
        "# SciKit-Learn: Dataset"
      ]
    },
    {
      "cell_type": "markdown",
      "id": "14e2162c-7def-4c57-afde-8cd907178f23",
      "metadata": {
        "id": "14e2162c-7def-4c57-afde-8cd907178f23"
      },
      "source": [
        "- The sklearn.datasets package embeds some small toy datasets to use for learning.\n",
        "- This package also features helpers to fetch larger datasets commonly used by the machine learning community to benchmark algorithms on data that comes from the ‘real world’.\n",
        "- To evaluate the impact of the scale of the dataset (n_samples and n_features) while controlling the statistical properties of the data (typically the correlation and informativeness of the features), it is also possible to generate synthetic data.\n",
        "- General dataset API.\n",
        "  - There are three main kinds of dataset interfaces that can be used to get datasets depending on the desired type of dataset.\n",
        "- The dataset loaders.\n",
        "  - They can be used to load small standard datasets.\n",
        "- The dataset fetchers.\n",
        "  - They can be used to download and load larger datasets."
      ]
    },
    {
      "cell_type": "markdown",
      "id": "84920136-d1a5-482b-8554-12c05f3c5fc4",
      "metadata": {
        "id": "84920136-d1a5-482b-8554-12c05f3c5fc4"
      },
      "source": [
        "- Both loaders and fetchers functions return a Bunch object holding at least two items: an array of shape n_samples * n_features with key data (except for 20newsgroups) and a numpy array of length n_samples, containing the target values, with key target.\n",
        "- The Bunch object is a dictionary that exposes its keys as attributes.\n",
        "- It’s also possible for almost all of these function to constrain the output to be a tuple containing only the data and the target, by setting the return_X_y parameter to True.\n",
        "- The datasets also contain a full description in their DESCR attribute and some contain feature_names and target_names.\n",
        "- The dataset generation functions.\n",
        "    - They can be used to generate controlled synthetic datasets, described in the Generated datasets section.\n",
        "    - These functions return a tuple (X, y) consisting of a n_samples * n_features numpy array X and an array of length n_samples containing the targets y.\n",
        "- In addition, there are also miscellaneous tools to load datasets of other formats or from other locations."
      ]
    },
    {
      "cell_type": "markdown",
      "id": "f624a27e-d4ac-435c-ac18-fa522281892a",
      "metadata": {
        "id": "f624a27e-d4ac-435c-ac18-fa522281892a"
      },
      "source": [
        "## Toy datasets\n",
        "These datasets are useful to quickly illustrate the behavior of the various algorithms implemented in scikit-learn. They are however often too small to be representative of real world machine learning tasks.\n"
      ]
    },
    {
      "cell_type": "markdown",
      "id": "acac7737-509f-4863-b661-d7297788785e",
      "metadata": {
        "id": "acac7737-509f-4863-b661-d7297788785e"
      },
      "source": [
        "| Dataset | Description |\n",
        "| :- | :- |\n",
        "| load_iris(*[, return_X_y, as_frame]) | Load and return the iris dataset (classification). |\n",
        "| load_diabetes(*[, return_X_y, as_frame, scaled]) | Load and return the diabetes dataset (regression). |\n",
        "| load_digits(*[, n_class, return_X_y, as_frame])  | Load and return the digits dataset (classification). |\n",
        "| load_linnerud(*[, return_X_y, as_frame]) | Load and return the physical exercise Linnerud dataset. |\n",
        "| load_wine(*[, return_X_y, as_frame]) | Load and return the wine dataset (classification). |\n",
        "| load_breast_cancer(*[, return_X_y, as_frame]) | Load and return the breast cancer wisconsin dataset (classification). |"
      ]
    },
    {
      "cell_type": "markdown",
      "id": "a6f52de2-3aec-4327-b469-74038a4ec82e",
      "metadata": {
        "id": "a6f52de2-3aec-4327-b469-74038a4ec82e"
      },
      "source": [
        "### Iris plants dataset"
      ]
    },
    {
      "cell_type": "markdown",
      "id": "9be38d83-6b33-496a-a41d-01c1508c9811",
      "metadata": {
        "id": "9be38d83-6b33-496a-a41d-01c1508c9811"
      },
      "source": [
        "- The famous Iris database. The dataset is taken from Fisher’s paper. Note that it’s the same as in R, but not as in the UCI Machine Learning Repository, which has two wrong data points.\n",
        "- This is perhaps the best known database to be found in the pattern recognition literature. Fisher’s paper is a classic in the field and is referenced frequently to this day. (See Duda & Hart, for example.) The data set contains 3 classes of 50 instances each, where each class refers to a type of iris plant. One class is linearly separable from the other 2; the latter are NOT linearly separable from each other."
      ]
    },
    {
      "cell_type": "markdown",
      "id": "2b11e1ba-acc9-4f9f-a9e8-0d7462432d30",
      "metadata": {
        "id": "2b11e1ba-acc9-4f9f-a9e8-0d7462432d30"
      },
      "source": [
        "| Title | Value |\n",
        "| :- | :- |\n",
        "| Number of Instances: | 150 (50 in each of three classes) |\n",
        "| Number of Attributes: | 4 numeric, predictive attributes and the class |\n",
        "| Attribute Information: | •sepal length in cm <br> •sepal width in cm <br> •petal length in cm <br> •petal width in cm <br> |\n",
        "| class: | •Iris-Setosa <br> •Iris-Versicolour <br> •Iris-Virginica |\n",
        "| Missing Attribute Values:| None |\n",
        "| Class Distribution: | 33.3% for each of 3 classes. |"
      ]
    },
    {
      "cell_type": "markdown",
      "id": "oqL6_c03A0uP",
      "metadata": {
        "id": "oqL6_c03A0uP"
      },
      "source": [
        "![sepals_and_petals_600w.webp](data:image/webp;base64,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)"
      ]
    },
    {
      "cell_type": "markdown",
      "id": "65887ef8-4ce2-47bf-b346-d422d87b2fae",
      "metadata": {
        "id": "65887ef8-4ce2-47bf-b346-d422d87b2fae"
      },
      "source": [
        "#### Classwork\n",
        "\n",
        "Load dataset"
      ]
    },
    {
      "cell_type": "code",
      "source": [
        "## sklearn_datasets01.py\n",
        "from sklearn import datasets\n",
        "\n",
        "dataset = datasets.load_iris()\n",
        "print(dataset)\n",
        "\n",
        "X = dataset.data\n",
        "print(X)\n",
        "\n",
        "y = dataset.target\n",
        "print(y)"
      ],
      "metadata": {
        "id": "bPKi-nsRZfHK",
        "colab": {
          "base_uri": "https://localhost:8080/"
        },
        "outputId": "92269ccf-783e-41aa-e1cc-cb7b877b5a2c"
      },
      "id": "bPKi-nsRZfHK",
      "execution_count": null,
      "outputs": [
        {
          "output_type": "stream",
          "name": "stdout",
          "text": [
            "{'data': array([[5.1, 3.5, 1.4, 0.2],\n",
            "       [4.9, 3. , 1.4, 0.2],\n",
            "       [4.7, 3.2, 1.3, 0.2],\n",
            "       [4.6, 3.1, 1.5, 0.2],\n",
            "       [5. , 3.6, 1.4, 0.2],\n",
            "       [5.4, 3.9, 1.7, 0.4],\n",
            "       [4.6, 3.4, 1.4, 0.3],\n",
            "       [5. , 3.4, 1.5, 0.2],\n",
            "       [4.4, 2.9, 1.4, 0.2],\n",
            "       [4.9, 3.1, 1.5, 0.1],\n",
            "       [5.4, 3.7, 1.5, 0.2],\n",
            "       [4.8, 3.4, 1.6, 0.2],\n",
            "       [4.8, 3. , 1.4, 0.1],\n",
            "       [4.3, 3. , 1.1, 0.1],\n",
            "       [5.8, 4. , 1.2, 0.2],\n",
            "       [5.7, 4.4, 1.5, 0.4],\n",
            "       [5.4, 3.9, 1.3, 0.4],\n",
            "       [5.1, 3.5, 1.4, 0.3],\n",
            "       [5.7, 3.8, 1.7, 0.3],\n",
            "       [5.1, 3.8, 1.5, 0.3],\n",
            "       [5.4, 3.4, 1.7, 0.2],\n",
            "       [5.1, 3.7, 1.5, 0.4],\n",
            "       [4.6, 3.6, 1. , 0.2],\n",
            "       [5.1, 3.3, 1.7, 0.5],\n",
            "       [4.8, 3.4, 1.9, 0.2],\n",
            "       [5. , 3. , 1.6, 0.2],\n",
            "       [5. , 3.4, 1.6, 0.4],\n",
            "       [5.2, 3.5, 1.5, 0.2],\n",
            "       [5.2, 3.4, 1.4, 0.2],\n",
            "       [4.7, 3.2, 1.6, 0.2],\n",
            "       [4.8, 3.1, 1.6, 0.2],\n",
            "       [5.4, 3.4, 1.5, 0.4],\n",
            "       [5.2, 4.1, 1.5, 0.1],\n",
            "       [5.5, 4.2, 1.4, 0.2],\n",
            "       [4.9, 3.1, 1.5, 0.2],\n",
            "       [5. , 3.2, 1.2, 0.2],\n",
            "       [5.5, 3.5, 1.3, 0.2],\n",
            "       [4.9, 3.6, 1.4, 0.1],\n",
            "       [4.4, 3. , 1.3, 0.2],\n",
            "       [5.1, 3.4, 1.5, 0.2],\n",
            "       [5. , 3.5, 1.3, 0.3],\n",
            "       [4.5, 2.3, 1.3, 0.3],\n",
            "       [4.4, 3.2, 1.3, 0.2],\n",
            "       [5. , 3.5, 1.6, 0.6],\n",
            "       [5.1, 3.8, 1.9, 0.4],\n",
            "       [4.8, 3. , 1.4, 0.3],\n",
            "       [5.1, 3.8, 1.6, 0.2],\n",
            "       [4.6, 3.2, 1.4, 0.2],\n",
            "       [5.3, 3.7, 1.5, 0.2],\n",
            "       [5. , 3.3, 1.4, 0.2],\n",
            "       [7. , 3.2, 4.7, 1.4],\n",
            "       [6.4, 3.2, 4.5, 1.5],\n",
            "       [6.9, 3.1, 4.9, 1.5],\n",
            "       [5.5, 2.3, 4. , 1.3],\n",
            "       [6.5, 2.8, 4.6, 1.5],\n",
            "       [5.7, 2.8, 4.5, 1.3],\n",
            "       [6.3, 3.3, 4.7, 1.6],\n",
            "       [4.9, 2.4, 3.3, 1. ],\n",
            "       [6.6, 2.9, 4.6, 1.3],\n",
            "       [5.2, 2.7, 3.9, 1.4],\n",
            "       [5. , 2. , 3.5, 1. ],\n",
            "       [5.9, 3. , 4.2, 1.5],\n",
            "       [6. , 2.2, 4. , 1. ],\n",
            "       [6.1, 2.9, 4.7, 1.4],\n",
            "       [5.6, 2.9, 3.6, 1.3],\n",
            "       [6.7, 3.1, 4.4, 1.4],\n",
            "       [5.6, 3. , 4.5, 1.5],\n",
            "       [5.8, 2.7, 4.1, 1. ],\n",
            "       [6.2, 2.2, 4.5, 1.5],\n",
            "       [5.6, 2.5, 3.9, 1.1],\n",
            "       [5.9, 3.2, 4.8, 1.8],\n",
            "       [6.1, 2.8, 4. , 1.3],\n",
            "       [6.3, 2.5, 4.9, 1.5],\n",
            "       [6.1, 2.8, 4.7, 1.2],\n",
            "       [6.4, 2.9, 4.3, 1.3],\n",
            "       [6.6, 3. , 4.4, 1.4],\n",
            "       [6.8, 2.8, 4.8, 1.4],\n",
            "       [6.7, 3. , 5. , 1.7],\n",
            "       [6. , 2.9, 4.5, 1.5],\n",
            "       [5.7, 2.6, 3.5, 1. ],\n",
            "       [5.5, 2.4, 3.8, 1.1],\n",
            "       [5.5, 2.4, 3.7, 1. ],\n",
            "       [5.8, 2.7, 3.9, 1.2],\n",
            "       [6. , 2.7, 5.1, 1.6],\n",
            "       [5.4, 3. , 4.5, 1.5],\n",
            "       [6. , 3.4, 4.5, 1.6],\n",
            "       [6.7, 3.1, 4.7, 1.5],\n",
            "       [6.3, 2.3, 4.4, 1.3],\n",
            "       [5.6, 3. , 4.1, 1.3],\n",
            "       [5.5, 2.5, 4. , 1.3],\n",
            "       [5.5, 2.6, 4.4, 1.2],\n",
            "       [6.1, 3. , 4.6, 1.4],\n",
            "       [5.8, 2.6, 4. , 1.2],\n",
            "       [5. , 2.3, 3.3, 1. ],\n",
            "       [5.6, 2.7, 4.2, 1.3],\n",
            "       [5.7, 3. , 4.2, 1.2],\n",
            "       [5.7, 2.9, 4.2, 1.3],\n",
            "       [6.2, 2.9, 4.3, 1.3],\n",
            "       [5.1, 2.5, 3. , 1.1],\n",
            "       [5.7, 2.8, 4.1, 1.3],\n",
            "       [6.3, 3.3, 6. , 2.5],\n",
            "       [5.8, 2.7, 5.1, 1.9],\n",
            "       [7.1, 3. , 5.9, 2.1],\n",
            "       [6.3, 2.9, 5.6, 1.8],\n",
            "       [6.5, 3. , 5.8, 2.2],\n",
            "       [7.6, 3. , 6.6, 2.1],\n",
            "       [4.9, 2.5, 4.5, 1.7],\n",
            "       [7.3, 2.9, 6.3, 1.8],\n",
            "       [6.7, 2.5, 5.8, 1.8],\n",
            "       [7.2, 3.6, 6.1, 2.5],\n",
            "       [6.5, 3.2, 5.1, 2. ],\n",
            "       [6.4, 2.7, 5.3, 1.9],\n",
            "       [6.8, 3. , 5.5, 2.1],\n",
            "       [5.7, 2.5, 5. , 2. ],\n",
            "       [5.8, 2.8, 5.1, 2.4],\n",
            "       [6.4, 3.2, 5.3, 2.3],\n",
            "       [6.5, 3. , 5.5, 1.8],\n",
            "       [7.7, 3.8, 6.7, 2.2],\n",
            "       [7.7, 2.6, 6.9, 2.3],\n",
            "       [6. , 2.2, 5. , 1.5],\n",
            "       [6.9, 3.2, 5.7, 2.3],\n",
            "       [5.6, 2.8, 4.9, 2. ],\n",
            "       [7.7, 2.8, 6.7, 2. ],\n",
            "       [6.3, 2.7, 4.9, 1.8],\n",
            "       [6.7, 3.3, 5.7, 2.1],\n",
            "       [7.2, 3.2, 6. , 1.8],\n",
            "       [6.2, 2.8, 4.8, 1.8],\n",
            "       [6.1, 3. , 4.9, 1.8],\n",
            "       [6.4, 2.8, 5.6, 2.1],\n",
            "       [7.2, 3. , 5.8, 1.6],\n",
            "       [7.4, 2.8, 6.1, 1.9],\n",
            "       [7.9, 3.8, 6.4, 2. ],\n",
            "       [6.4, 2.8, 5.6, 2.2],\n",
            "       [6.3, 2.8, 5.1, 1.5],\n",
            "       [6.1, 2.6, 5.6, 1.4],\n",
            "       [7.7, 3. , 6.1, 2.3],\n",
            "       [6.3, 3.4, 5.6, 2.4],\n",
            "       [6.4, 3.1, 5.5, 1.8],\n",
            "       [6. , 3. , 4.8, 1.8],\n",
            "       [6.9, 3.1, 5.4, 2.1],\n",
            "       [6.7, 3.1, 5.6, 2.4],\n",
            "       [6.9, 3.1, 5.1, 2.3],\n",
            "       [5.8, 2.7, 5.1, 1.9],\n",
            "       [6.8, 3.2, 5.9, 2.3],\n",
            "       [6.7, 3.3, 5.7, 2.5],\n",
            "       [6.7, 3. , 5.2, 2.3],\n",
            "       [6.3, 2.5, 5. , 1.9],\n",
            "       [6.5, 3. , 5.2, 2. ],\n",
            "       [6.2, 3.4, 5.4, 2.3],\n",
            "       [5.9, 3. , 5.1, 1.8]]), 'target': array([0, 0, 0, 0, 0, 0, 0, 0, 0, 0, 0, 0, 0, 0, 0, 0, 0, 0, 0, 0, 0, 0,\n",
            "       0, 0, 0, 0, 0, 0, 0, 0, 0, 0, 0, 0, 0, 0, 0, 0, 0, 0, 0, 0, 0, 0,\n",
            "       0, 0, 0, 0, 0, 0, 1, 1, 1, 1, 1, 1, 1, 1, 1, 1, 1, 1, 1, 1, 1, 1,\n",
            "       1, 1, 1, 1, 1, 1, 1, 1, 1, 1, 1, 1, 1, 1, 1, 1, 1, 1, 1, 1, 1, 1,\n",
            "       1, 1, 1, 1, 1, 1, 1, 1, 1, 1, 1, 1, 2, 2, 2, 2, 2, 2, 2, 2, 2, 2,\n",
            "       2, 2, 2, 2, 2, 2, 2, 2, 2, 2, 2, 2, 2, 2, 2, 2, 2, 2, 2, 2, 2, 2,\n",
            "       2, 2, 2, 2, 2, 2, 2, 2, 2, 2, 2, 2, 2, 2, 2, 2, 2, 2]), 'frame': None, 'target_names': array(['setosa', 'versicolor', 'virginica'], dtype='<U10'), 'DESCR': '.. _iris_dataset:\\n\\nIris plants dataset\\n--------------------\\n\\n**Data Set Characteristics:**\\n\\n    :Number of Instances: 150 (50 in each of three classes)\\n    :Number of Attributes: 4 numeric, predictive attributes and the class\\n    :Attribute Information:\\n        - sepal length in cm\\n        - sepal width in cm\\n        - petal length in cm\\n        - petal width in cm\\n        - class:\\n                - Iris-Setosa\\n                - Iris-Versicolour\\n                - Iris-Virginica\\n                \\n    :Summary Statistics:\\n\\n    ============== ==== ==== ======= ===== ====================\\n                    Min  Max   Mean    SD   Class Correlation\\n    ============== ==== ==== ======= ===== ====================\\n    sepal length:   4.3  7.9   5.84   0.83    0.7826\\n    sepal width:    2.0  4.4   3.05   0.43   -0.4194\\n    petal length:   1.0  6.9   3.76   1.76    0.9490  (high!)\\n    petal width:    0.1  2.5   1.20   0.76    0.9565  (high!)\\n    ============== ==== ==== ======= ===== ====================\\n\\n    :Missing Attribute Values: None\\n    :Class Distribution: 33.3% for each of 3 classes.\\n    :Creator: R.A. Fisher\\n    :Donor: Michael Marshall (MARSHALL%PLU@io.arc.nasa.gov)\\n    :Date: July, 1988\\n\\nThe famous Iris database, first used by Sir R.A. Fisher. The dataset is taken\\nfrom Fisher\\'s paper. Note that it\\'s the same as in R, but not as in the UCI\\nMachine Learning Repository, which has two wrong data points.\\n\\nThis is perhaps the best known database to be found in the\\npattern recognition literature.  Fisher\\'s paper is a classic in the field and\\nis referenced frequently to this day.  (See Duda & Hart, for example.)  The\\ndata set contains 3 classes of 50 instances each, where each class refers to a\\ntype of iris plant.  One class is linearly separable from the other 2; the\\nlatter are NOT linearly separable from each other.\\n\\n.. topic:: References\\n\\n   - Fisher, R.A. \"The use of multiple measurements in taxonomic problems\"\\n     Annual Eugenics, 7, Part II, 179-188 (1936); also in \"Contributions to\\n     Mathematical Statistics\" (John Wiley, NY, 1950).\\n   - Duda, R.O., & Hart, P.E. (1973) Pattern Classification and Scene Analysis.\\n     (Q327.D83) John Wiley & Sons.  ISBN 0-471-22361-1.  See page 218.\\n   - Dasarathy, B.V. (1980) \"Nosing Around the Neighborhood: A New System\\n     Structure and Classification Rule for Recognition in Partially Exposed\\n     Environments\".  IEEE Transactions on Pattern Analysis and Machine\\n     Intelligence, Vol. PAMI-2, No. 1, 67-71.\\n   - Gates, G.W. (1972) \"The Reduced Nearest Neighbor Rule\".  IEEE Transactions\\n     on Information Theory, May 1972, 431-433.\\n   - See also: 1988 MLC Proceedings, 54-64.  Cheeseman et al\"s AUTOCLASS II\\n     conceptual clustering system finds 3 classes in the data.\\n   - Many, many more ...', 'feature_names': ['sepal length (cm)', 'sepal width (cm)', 'petal length (cm)', 'petal width (cm)'], 'filename': 'iris.csv', 'data_module': 'sklearn.datasets.data'}\n",
            "[[5.1 3.5 1.4 0.2]\n",
            " [4.9 3.  1.4 0.2]\n",
            " [4.7 3.2 1.3 0.2]\n",
            " [4.6 3.1 1.5 0.2]\n",
            " [5.  3.6 1.4 0.2]\n",
            " [5.4 3.9 1.7 0.4]\n",
            " [4.6 3.4 1.4 0.3]\n",
            " [5.  3.4 1.5 0.2]\n",
            " [4.4 2.9 1.4 0.2]\n",
            " [4.9 3.1 1.5 0.1]\n",
            " [5.4 3.7 1.5 0.2]\n",
            " [4.8 3.4 1.6 0.2]\n",
            " [4.8 3.  1.4 0.1]\n",
            " [4.3 3.  1.1 0.1]\n",
            " [5.8 4.  1.2 0.2]\n",
            " [5.7 4.4 1.5 0.4]\n",
            " [5.4 3.9 1.3 0.4]\n",
            " [5.1 3.5 1.4 0.3]\n",
            " [5.7 3.8 1.7 0.3]\n",
            " [5.1 3.8 1.5 0.3]\n",
            " [5.4 3.4 1.7 0.2]\n",
            " [5.1 3.7 1.5 0.4]\n",
            " [4.6 3.6 1.  0.2]\n",
            " [5.1 3.3 1.7 0.5]\n",
            " [4.8 3.4 1.9 0.2]\n",
            " [5.  3.  1.6 0.2]\n",
            " [5.  3.4 1.6 0.4]\n",
            " [5.2 3.5 1.5 0.2]\n",
            " [5.2 3.4 1.4 0.2]\n",
            " [4.7 3.2 1.6 0.2]\n",
            " [4.8 3.1 1.6 0.2]\n",
            " [5.4 3.4 1.5 0.4]\n",
            " [5.2 4.1 1.5 0.1]\n",
            " [5.5 4.2 1.4 0.2]\n",
            " [4.9 3.1 1.5 0.2]\n",
            " [5.  3.2 1.2 0.2]\n",
            " [5.5 3.5 1.3 0.2]\n",
            " [4.9 3.6 1.4 0.1]\n",
            " [4.4 3.  1.3 0.2]\n",
            " [5.1 3.4 1.5 0.2]\n",
            " [5.  3.5 1.3 0.3]\n",
            " [4.5 2.3 1.3 0.3]\n",
            " [4.4 3.2 1.3 0.2]\n",
            " [5.  3.5 1.6 0.6]\n",
            " [5.1 3.8 1.9 0.4]\n",
            " [4.8 3.  1.4 0.3]\n",
            " [5.1 3.8 1.6 0.2]\n",
            " [4.6 3.2 1.4 0.2]\n",
            " [5.3 3.7 1.5 0.2]\n",
            " [5.  3.3 1.4 0.2]\n",
            " [7.  3.2 4.7 1.4]\n",
            " [6.4 3.2 4.5 1.5]\n",
            " [6.9 3.1 4.9 1.5]\n",
            " [5.5 2.3 4.  1.3]\n",
            " [6.5 2.8 4.6 1.5]\n",
            " [5.7 2.8 4.5 1.3]\n",
            " [6.3 3.3 4.7 1.6]\n",
            " [4.9 2.4 3.3 1. ]\n",
            " [6.6 2.9 4.6 1.3]\n",
            " [5.2 2.7 3.9 1.4]\n",
            " [5.  2.  3.5 1. ]\n",
            " [5.9 3.  4.2 1.5]\n",
            " [6.  2.2 4.  1. ]\n",
            " [6.1 2.9 4.7 1.4]\n",
            " [5.6 2.9 3.6 1.3]\n",
            " [6.7 3.1 4.4 1.4]\n",
            " [5.6 3.  4.5 1.5]\n",
            " [5.8 2.7 4.1 1. ]\n",
            " [6.2 2.2 4.5 1.5]\n",
            " [5.6 2.5 3.9 1.1]\n",
            " [5.9 3.2 4.8 1.8]\n",
            " [6.1 2.8 4.  1.3]\n",
            " [6.3 2.5 4.9 1.5]\n",
            " [6.1 2.8 4.7 1.2]\n",
            " [6.4 2.9 4.3 1.3]\n",
            " [6.6 3.  4.4 1.4]\n",
            " [6.8 2.8 4.8 1.4]\n",
            " [6.7 3.  5.  1.7]\n",
            " [6.  2.9 4.5 1.5]\n",
            " [5.7 2.6 3.5 1. ]\n",
            " [5.5 2.4 3.8 1.1]\n",
            " [5.5 2.4 3.7 1. ]\n",
            " [5.8 2.7 3.9 1.2]\n",
            " [6.  2.7 5.1 1.6]\n",
            " [5.4 3.  4.5 1.5]\n",
            " [6.  3.4 4.5 1.6]\n",
            " [6.7 3.1 4.7 1.5]\n",
            " [6.3 2.3 4.4 1.3]\n",
            " [5.6 3.  4.1 1.3]\n",
            " [5.5 2.5 4.  1.3]\n",
            " [5.5 2.6 4.4 1.2]\n",
            " [6.1 3.  4.6 1.4]\n",
            " [5.8 2.6 4.  1.2]\n",
            " [5.  2.3 3.3 1. ]\n",
            " [5.6 2.7 4.2 1.3]\n",
            " [5.7 3.  4.2 1.2]\n",
            " [5.7 2.9 4.2 1.3]\n",
            " [6.2 2.9 4.3 1.3]\n",
            " [5.1 2.5 3.  1.1]\n",
            " [5.7 2.8 4.1 1.3]\n",
            " [6.3 3.3 6.  2.5]\n",
            " [5.8 2.7 5.1 1.9]\n",
            " [7.1 3.  5.9 2.1]\n",
            " [6.3 2.9 5.6 1.8]\n",
            " [6.5 3.  5.8 2.2]\n",
            " [7.6 3.  6.6 2.1]\n",
            " [4.9 2.5 4.5 1.7]\n",
            " [7.3 2.9 6.3 1.8]\n",
            " [6.7 2.5 5.8 1.8]\n",
            " [7.2 3.6 6.1 2.5]\n",
            " [6.5 3.2 5.1 2. ]\n",
            " [6.4 2.7 5.3 1.9]\n",
            " [6.8 3.  5.5 2.1]\n",
            " [5.7 2.5 5.  2. ]\n",
            " [5.8 2.8 5.1 2.4]\n",
            " [6.4 3.2 5.3 2.3]\n",
            " [6.5 3.  5.5 1.8]\n",
            " [7.7 3.8 6.7 2.2]\n",
            " [7.7 2.6 6.9 2.3]\n",
            " [6.  2.2 5.  1.5]\n",
            " [6.9 3.2 5.7 2.3]\n",
            " [5.6 2.8 4.9 2. ]\n",
            " [7.7 2.8 6.7 2. ]\n",
            " [6.3 2.7 4.9 1.8]\n",
            " [6.7 3.3 5.7 2.1]\n",
            " [7.2 3.2 6.  1.8]\n",
            " [6.2 2.8 4.8 1.8]\n",
            " [6.1 3.  4.9 1.8]\n",
            " [6.4 2.8 5.6 2.1]\n",
            " [7.2 3.  5.8 1.6]\n",
            " [7.4 2.8 6.1 1.9]\n",
            " [7.9 3.8 6.4 2. ]\n",
            " [6.4 2.8 5.6 2.2]\n",
            " [6.3 2.8 5.1 1.5]\n",
            " [6.1 2.6 5.6 1.4]\n",
            " [7.7 3.  6.1 2.3]\n",
            " [6.3 3.4 5.6 2.4]\n",
            " [6.4 3.1 5.5 1.8]\n",
            " [6.  3.  4.8 1.8]\n",
            " [6.9 3.1 5.4 2.1]\n",
            " [6.7 3.1 5.6 2.4]\n",
            " [6.9 3.1 5.1 2.3]\n",
            " [5.8 2.7 5.1 1.9]\n",
            " [6.8 3.2 5.9 2.3]\n",
            " [6.7 3.3 5.7 2.5]\n",
            " [6.7 3.  5.2 2.3]\n",
            " [6.3 2.5 5.  1.9]\n",
            " [6.5 3.  5.2 2. ]\n",
            " [6.2 3.4 5.4 2.3]\n",
            " [5.9 3.  5.1 1.8]]\n",
            "[0 0 0 0 0 0 0 0 0 0 0 0 0 0 0 0 0 0 0 0 0 0 0 0 0 0 0 0 0 0 0 0 0 0 0 0 0\n",
            " 0 0 0 0 0 0 0 0 0 0 0 0 0 1 1 1 1 1 1 1 1 1 1 1 1 1 1 1 1 1 1 1 1 1 1 1 1\n",
            " 1 1 1 1 1 1 1 1 1 1 1 1 1 1 1 1 1 1 1 1 1 1 1 1 1 1 2 2 2 2 2 2 2 2 2 2 2\n",
            " 2 2 2 2 2 2 2 2 2 2 2 2 2 2 2 2 2 2 2 2 2 2 2 2 2 2 2 2 2 2 2 2 2 2 2 2 2\n",
            " 2 2]\n"
          ]
        }
      ]
    },
    {
      "cell_type": "code",
      "source": [
        "len(X)"
      ],
      "metadata": {
        "colab": {
          "base_uri": "https://localhost:8080/"
        },
        "id": "MQKq_AozdDkV",
        "outputId": "46d1cbd1-7152-4ea0-933f-311c5d3a7df0"
      },
      "id": "MQKq_AozdDkV",
      "execution_count": null,
      "outputs": [
        {
          "output_type": "execute_result",
          "data": {
            "text/plain": [
              "150"
            ]
          },
          "metadata": {},
          "execution_count": 2
        }
      ]
    },
    {
      "cell_type": "code",
      "source": [
        "type(X)"
      ],
      "metadata": {
        "colab": {
          "base_uri": "https://localhost:8080/"
        },
        "id": "qU3qfrpSdGn9",
        "outputId": "4b0daa12-2c11-483d-e720-b08ea58d5e5a"
      },
      "id": "qU3qfrpSdGn9",
      "execution_count": null,
      "outputs": [
        {
          "output_type": "execute_result",
          "data": {
            "text/plain": [
              "numpy.ndarray"
            ]
          },
          "metadata": {},
          "execution_count": 3
        }
      ]
    },
    {
      "cell_type": "code",
      "source": [
        "print(X[0,0])"
      ],
      "metadata": {
        "colab": {
          "base_uri": "https://localhost:8080/"
        },
        "id": "dM-t3uHrfAYw",
        "outputId": "b74eed9e-a36b-494e-cfa3-22b06ae2a5ec"
      },
      "id": "dM-t3uHrfAYw",
      "execution_count": null,
      "outputs": [
        {
          "output_type": "stream",
          "name": "stdout",
          "text": [
            "5.1\n"
          ]
        }
      ]
    },
    {
      "cell_type": "code",
      "source": [
        "type(X[0,0])"
      ],
      "metadata": {
        "colab": {
          "base_uri": "https://localhost:8080/"
        },
        "id": "Un77PKW_dd-Q",
        "outputId": "115814c8-5907-4702-9ae0-593f6324a1fe"
      },
      "id": "Un77PKW_dd-Q",
      "execution_count": null,
      "outputs": [
        {
          "output_type": "execute_result",
          "data": {
            "text/plain": [
              "numpy.float64"
            ]
          },
          "metadata": {},
          "execution_count": 4
        }
      ]
    },
    {
      "cell_type": "code",
      "source": [
        "print(dataset.descr)"
      ],
      "metadata": {
        "id": "H3raE5jJYNn7"
      },
      "id": "H3raE5jJYNn7",
      "execution_count": null,
      "outputs": []
    },
    {
      "cell_type": "markdown",
      "id": "nOynKom2uM5F",
      "metadata": {
        "id": "nOynKom2uM5F"
      },
      "source": [
        "### Diabetes dataset"
      ]
    },
    {
      "cell_type": "markdown",
      "id": "xquUwzfBu5-M",
      "metadata": {
        "id": "xquUwzfBu5-M"
      },
      "source": [
        "- Ten baseline variables, age, sex, body mass index, average blood pressure, and six blood serum measurements were obtained for each of n = 442 diabetes patients, as well as the response of interest, a quantitative measure of disease progression one year after baseline.\n",
        "- Note: Each of these 10 feature variables have been mean centered and scaled by the standard deviation times the square root of n_samples (i.e. the sum of squares of each column totals 1).\n",
        "- Source URL: https://www4.stat.ncsu.edu/~boos/var.select/diabetes.html"
      ]
    },
    {
      "cell_type": "markdown",
      "id": "uqbSHrDquyc4",
      "metadata": {
        "id": "uqbSHrDquyc4"
      },
      "source": [
        "| Title | Value |\n",
        "| :- | :- |\n",
        "| Number of Instances: | 442 |\n",
        "| Number of Attributes: | First 10 columns are numeric predictive values |\n",
        "| Target: | Column 11 is a quantitative measure of disease progression one year after baseline |\n",
        "| Attribute Information: | •age age in years <br> •sex <br> •bmi body mass index •bp average blood pressure <br> •s1 tc, total serum cholesterol <br> •s2 ldl, low-density lipoproteins <br> •s3 hdl, high-density lipoproteins <br> •s4 tch, total cholesterol / HDL <br> •s5 ltg, possibly log of serum triglycerides level <br> •s6 glu, blood sugar level |"
      ]
    },
    {
      "cell_type": "markdown",
      "id": "cbafc7ba-7985-4e47-b2e8-80f4d6797dca",
      "metadata": {
        "id": "cbafc7ba-7985-4e47-b2e8-80f4d6797dca"
      },
      "source": [
        "#### Classwork\n",
        "\n",
        "Load dataset"
      ]
    },
    {
      "cell_type": "code",
      "execution_count": null,
      "id": "524abde0-dbe0-4cf9-92b3-0124dc655906",
      "metadata": {
        "id": "524abde0-dbe0-4cf9-92b3-0124dc655906"
      },
      "outputs": [],
      "source": []
    },
    {
      "cell_type": "markdown",
      "id": "0FmWZdo7uyZj",
      "metadata": {
        "id": "0FmWZdo7uyZj"
      },
      "source": [
        "### Optical recognition of handwritten digits dataset"
      ]
    },
    {
      "cell_type": "markdown",
      "id": "W0DI9Ry-ux00",
      "metadata": {
        "id": "W0DI9Ry-ux00"
      },
      "source": [
        "- This dataset is also named as MNIST.\n",
        "- This is a copy of the test set of the UCI ML hand-written digits datasets https://archive.ics.uci.edu/ml/datasets/Optical+Recognition+of+Handwritten+Digits\n",
        "- The data set contains images of hand-written digits: 10 classes where each class refers to a digit.\n",
        "- Preprocessing programs made available by NIST were used to extract normalized bitmaps of handwritten digits from a preprinted form. From a total of 43 people, 30 contributed to the training set and different 13 to the test set. 32x32 bitmaps are divided into nonoverlapping blocks of 4x4 and the number of on pixels are counted in each block. This generates an input matrix of 8x8 where each element is an integer in the range 0..16. This reduces dimensionality and gives invariance to small distortions."
      ]
    },
    {
      "cell_type": "markdown",
      "id": "LnAfq4IhxBZF",
      "metadata": {
        "id": "LnAfq4IhxBZF"
      },
      "source": [
        "| Title | Value |\n",
        "| :- | -: |\n",
        "| Number of Instances: | 1797 |\n",
        "| Number of Attributes: | 64 |\n",
        "| Attribute Information: | 8x8 image of integer pixels in the range 0..16. |\n",
        "| Missing Attribute Values: | None |"
      ]
    },
    {
      "cell_type": "markdown",
      "id": "de0ee042-7885-4f1f-a186-5813b75b3598",
      "metadata": {
        "id": "de0ee042-7885-4f1f-a186-5813b75b3598"
      },
      "source": [
        "#### Classwork\n",
        "\n",
        "Load dataset"
      ]
    },
    {
      "cell_type": "code",
      "execution_count": null,
      "id": "e6500536-ea09-4fb9-a040-a03cb5fdc84e",
      "metadata": {
        "id": "e6500536-ea09-4fb9-a040-a03cb5fdc84e"
      },
      "outputs": [],
      "source": []
    },
    {
      "cell_type": "markdown",
      "id": "d5fXxxIGx2dX",
      "metadata": {
        "id": "d5fXxxIGx2dX"
      },
      "source": [
        "### Linnerrud dataset"
      ]
    },
    {
      "cell_type": "markdown",
      "id": "DES7LYDax7bF",
      "metadata": {
        "id": "DES7LYDax7bF"
      },
      "source": [
        "- The Linnerud dataset is a multi-output regression dataset. It consists of three exercise (data) and three physiological (target) variables collected from twenty middle-aged men in a fitness club:\n",
        "- physiological - CSV containing 20 observations on 3 physiological variables:\n",
        "  - Weight, Waist and Pulse.\n",
        "- exercise - CSV containing 20 observations on 3 exercise variables:\n",
        "  - Chins, Situps and Jumps.\n",
        "\n"
      ]
    },
    {
      "cell_type": "markdown",
      "id": "UCpcWB83yIVY",
      "metadata": {
        "id": "UCpcWB83yIVY"
      },
      "source": [
        "| Title | Value |\n",
        "| :- | -: |\n",
        "| Number of Instances: | 20 |\n",
        "| Number of Attributes: | 3 |\n",
        "| Missing Attribute Values: | None |"
      ]
    },
    {
      "cell_type": "markdown",
      "id": "75fc547b-a7c9-4b35-aec1-92858ff78368",
      "metadata": {
        "id": "75fc547b-a7c9-4b35-aec1-92858ff78368"
      },
      "source": [
        "#### Classwork\n",
        "\n",
        "Load dataset"
      ]
    },
    {
      "cell_type": "code",
      "execution_count": null,
      "id": "efb4ee56-74c0-44cd-8d53-b6055acdebca",
      "metadata": {
        "id": "efb4ee56-74c0-44cd-8d53-b6055acdebca"
      },
      "outputs": [],
      "source": []
    },
    {
      "cell_type": "markdown",
      "id": "43JVLMKzyRfl",
      "metadata": {
        "id": "43JVLMKzyRfl"
      },
      "source": [
        "### Wine recognition dataset"
      ]
    },
    {
      "cell_type": "markdown",
      "id": "jHggHX1TyWpz",
      "metadata": {
        "id": "jHggHX1TyWpz"
      },
      "source": [
        "- This is a copy of UCI ML Wine recognition datasets. https://archive.ics.uci.edu/ml/machine-learning-databases/wine/wine.data\n",
        "- The data is the results of a chemical analysis of wines grown in the same region in Italy by three different cultivators. There are thirteen different measurements taken for different constituents found in the three types of wine."
      ]
    },
    {
      "cell_type": "markdown",
      "id": "qTqVZL8FydyW",
      "metadata": {
        "id": "qTqVZL8FydyW"
      },
      "source": [
        "| Title | Value |\n",
        "| :- | :- |\n",
        "| Number of Instances: | 178 |\n",
        "| Number of Attributes: | 13 numeric, predictive attributes and the class |\n",
        "| Attribute Information: |Alcohol <br> Malic acid <br> Ash <br> Alcalinity of ash <br> Magnesium <br> Total phenols <br> Flavanoids <br> Nonflavanoid phenols <br> Proanthocyanins <br> Color intensity <br> Hue <br> OD280/OD315 of diluted wines <br> Proline |\n",
        "| Missing Attribute Values: | None |\n",
        "| Class Distribution: | class_0 (59), class_1 (71), class_2 (48) |\n",
        "| Missing Attribute Values: | None |\n",
        "| Class Distribution: | 212 - Malignant, 357 - Benign |"
      ]
    },
    {
      "cell_type": "markdown",
      "id": "fcfd6208-8a4c-415f-8fd9-f9e4d35ef141",
      "metadata": {
        "id": "fcfd6208-8a4c-415f-8fd9-f9e4d35ef141"
      },
      "source": [
        "#### Classwork\n",
        "\n",
        "Load dataset"
      ]
    },
    {
      "cell_type": "code",
      "execution_count": null,
      "id": "8ca35bd9-9f1a-4993-9c75-13d171504830",
      "metadata": {
        "id": "8ca35bd9-9f1a-4993-9c75-13d171504830"
      },
      "outputs": [],
      "source": []
    },
    {
      "cell_type": "markdown",
      "id": "t3K6VTXry7Kd",
      "metadata": {
        "id": "t3K6VTXry7Kd"
      },
      "source": [
        "### Breast cancer wisconsin (diagnostic) dataset"
      ]
    },
    {
      "cell_type": "markdown",
      "id": "tgDBSAl83Qgj",
      "metadata": {
        "id": "tgDBSAl83Qgj"
      },
      "source": [
        "This is a copy of UCI ML Breast Cancer Wisconsin (Diagnostic) datasets. https://goo.gl/U2Uwz2\n",
        "\n",
        "Features are computed from a digitized image of a fine needle aspirate (FNA) of a breast mass. They describe characteristics of the cell nuclei present in the image.\n",
        "\n",
        "Separating plane described above was obtained using Multisurface Method-Tree (MSM-T) [K. P. Bennett, “Decision Tree Construction Via Linear Programming.” Proceedings of the 4th Midwest Artificial Intelligence and Cognitive Science Society, pp. 97-101, 1992], a classification method which uses linear programming to construct a decision tree. Relevant features were selected using an exhaustive search in the space of 1-4 features and 1-3 separating planes.\n",
        "\n",
        "The actual linear program used to obtain the separating plane in the 3-dimensional space is that described in: [K. P. Bennett and O. L. Mangasarian: “Robust Linear Programming Discrimination of Two Linearly Inseparable Sets”, Optimization Methods and Software 1, 1992, 23-34].\n",
        "\n",
        "This database is also available through the UW CS ftp server:\n",
        "\n",
        "ftp ftp.cs.wisc.edu cd math-prog/cpo-dataset/machine-learn/WDBC/"
      ]
    },
    {
      "cell_type": "markdown",
      "id": "YWOJwRhw2SZL",
      "metadata": {
        "id": "YWOJwRhw2SZL"
      },
      "source": [
        "| Title | Value |\n",
        "| :- | :- |\n",
        "| Number of Instances: | 569 |\n",
        "| Number of Attributes: | 30 numeric, predictive attributes and the class |\n",
        "| Attribute Information: | - radius (mean of distances from center to points on the perimeter)texture (standard deviation of gray-scale values) <br> - - perimeter <br> - area <br> - smoothness (local variation in radius lengths) <br> - compactness (perimeter^2 / area - 1.0) <br> - concavity (severity of concave portions of the contour) <br> - concave points (number of concave portions of the contour) <br> - symmetry <br> - fractal dimension (“coastline approximation” - 1)  <br> The mean, standard error, and “worst” or largest (mean of the three worst/largest values) of these features were computed for each image, resulting in 30 features. For instance, field 0 is Mean Radius, field 10 is Radius SE, field 20 is Worst Radius. <br> class:  <br> -- WDBC-Malignant <br> -- WDBC-Benign |\n",
        "| Missing Attribute Values: | None |\n",
        "| Class Distribution: | 212 - Malignant, 357 - Benign |"
      ]
    },
    {
      "cell_type": "markdown",
      "id": "88403ffa-c06b-4018-ba3f-6f1b17ba5243",
      "metadata": {
        "id": "88403ffa-c06b-4018-ba3f-6f1b17ba5243"
      },
      "source": [
        "#### Classwork\n",
        "\n",
        "Load dataset"
      ]
    },
    {
      "cell_type": "code",
      "execution_count": null,
      "id": "c0f7f933-2a8a-4766-b389-a54f12157918",
      "metadata": {
        "id": "c0f7f933-2a8a-4766-b389-a54f12157918"
      },
      "outputs": [],
      "source": []
    },
    {
      "cell_type": "markdown",
      "id": "mz6-Wuvr3N3F",
      "metadata": {
        "id": "mz6-Wuvr3N3F"
      },
      "source": [
        "## Real world datasets"
      ]
    },
    {
      "cell_type": "markdown",
      "id": "vO3HMR47BAS0",
      "metadata": {
        "id": "vO3HMR47BAS0"
      },
      "source": [
        "scikit-learn provides tools to load larger datasets, downloading them if necessary.\n",
        "\n",
        "They can be loaded using the following functions:\n",
        "\n",
        "| function | description |\n",
        "| :- | :- |\n",
        "| [`fetch_olivetti_faces`](https://scikit-learn.org/stable/modules/generated/sklearn.datasets.fetch_olivetti_faces.html#sklearn.datasets.fetch_olivetti_faces \"sklearn.datasets.fetch_olivetti_faces\")(\\*[, data_home, ...])                                  | Load the Olivetti faces data-set from AT&T (classification).                 |\n",
        "| [`fetch_20newsgroups`](https://scikit-learn.org/stable/modules/generated/sklearn.datasets.fetch_20newsgroups.html#sklearn.datasets.fetch_20newsgroups \"sklearn.datasets.fetch_20newsgroups\")(\\*[, data_home, subset, ...])                                  | Load the filenames and data from the 20 newsgroups dataset (classification). |\n",
        "| [`fetch_20newsgroups_vectorized`](https://scikit-learn.org/stable/modules/generated/sklearn.datasets.fetch_20newsgroups_vectorized.html#sklearn.datasets.fetch_20newsgroups_vectorized \"sklearn.datasets.fetch_20newsgroups_vectorized\")(\\*[, subset, ...]) | Load and vectorize the 20 newsgroups dataset (classification).               |\n",
        "| [`fetch_lfw_people`](https://scikit-learn.org/stable/modules/generated/sklearn.datasets.fetch_lfw_people.html#sklearn.datasets.fetch_lfw_people \"sklearn.datasets.fetch_lfw_people\")(\\*[, data_home, funneled, ...])                                        | Load the Labeled Faces in the Wild (LFW) people dataset (classification).    |\n",
        "| [`fetch_lfw_pairs`](https://scikit-learn.org/stable/modules/generated/sklearn.datasets.fetch_lfw_pairs.html#sklearn.datasets.fetch_lfw_pairs \"sklearn.datasets.fetch_lfw_pairs\")(\\*[, subset, data_home, ...])                                              | Load the Labeled Faces in the Wild (LFW) pairs dataset (classification).     |\n",
        "| [`fetch_covtype`](https://scikit-learn.org/stable/modules/generated/sklearn.datasets.fetch_covtype.html#sklearn.datasets.fetch_covtype \"sklearn.datasets.fetch_covtype\")(\\*[, data_home, ...])                                                              | Load the covertype dataset (classification).                                 |\n",
        "| [`fetch_rcv1`](https://scikit-learn.org/stable/modules/generated/sklearn.datasets.fetch_rcv1.html#sklearn.datasets.fetch_rcv1 \"sklearn.datasets.fetch_rcv1\")(\\*[, data_home, subset, ...])                                                                  | Load the RCV1 multilabel dataset (classification).                           |\n",
        "| [`fetch_kddcup99`](https://scikit-learn.org/stable/modules/generated/sklearn.datasets.fetch_kddcup99.html#sklearn.datasets.fetch_kddcup99 \"sklearn.datasets.fetch_kddcup99\")(\\*[, subset, data_home, ...])                                                  | Load the kddcup99 dataset (classification).                                  |\n",
        "| [`fetch_california_housing`](https://scikit-learn.org/stable/modules/generated/sklearn.datasets.fetch_california_housing.html#sklearn.datasets.fetch_california_housing \"sklearn.datasets.fetch_california_housing\")(\\*[, data_home, ...])                  | Load the California housing dataset (regression).                            |"
      ]
    },
    {
      "cell_type": "markdown",
      "id": "e0bdd7d8-9d3c-4e19-9a53-6b307f09ad61",
      "metadata": {
        "id": "e0bdd7d8-9d3c-4e19-9a53-6b307f09ad61"
      },
      "source": [
        "#### Classwork\n",
        "\n",
        "Load dataset"
      ]
    },
    {
      "cell_type": "code",
      "execution_count": null,
      "id": "6a0e5eca-a4bf-4726-8a88-4c5ac8bee41d",
      "metadata": {
        "id": "6a0e5eca-a4bf-4726-8a88-4c5ac8bee41d"
      },
      "outputs": [],
      "source": []
    },
    {
      "cell_type": "markdown",
      "id": "RXI7JRHkBFsI",
      "metadata": {
        "id": "RXI7JRHkBFsI"
      },
      "source": [
        "### The Olivetti faces dataset"
      ]
    },
    {
      "cell_type": "markdown",
      "id": "bOrZ_28JBxXY",
      "metadata": {
        "id": "bOrZ_28JBxXY"
      },
      "source": [
        "This dataset contains a set of face images taken between April 1992 and April 1994 at AT&T Laboratories Cambridge. The sklearn.datasets.fetch_olivetti_faces function is the data fetching / caching function that downloads the data archive from AT&T.\n",
        "\n",
        "As described on the original website:\n",
        "\n",
        "There are ten different images of each of 40 distinct subjects. For some subjects, the images were taken at different times, varying the lighting, facial expressions (open / closed eyes, smiling / not smiling) and facial details (glasses / no glasses). All the images were taken against a dark homogeneous background with the subjects in an upright, frontal position (with tolerance for some side movement).\n",
        "\n",
        "Data Set Characteristics:\n",
        "\n",
        "| Variable | Data |\n",
        "| :- | -: |\n",
        "| Classes        | 40                    |\n",
        "| Samples total  | 400                   |\n",
        "| Dimensionality | 4096                  |\n",
        "| Features       | real, between 0 and 1 |\n",
        "\n",
        "The image is quantized to 256 grey levels and stored as unsigned 8-bit integers; the loader will convert these to floating point values on the interval [0, 1], which are easier to work with for many algorithms.\n",
        "\n",
        "The “target” for this database is an integer from 0 to 39 indicating the identity of the person pictured; however, with only 10 examples per class, this relatively small dataset is more interesting from an unsupervised or semi-supervised perspective.\n",
        "\n",
        "The original dataset consisted of 92 x 112, while the version available here consists of 64x64 images.\n",
        "\n",
        "When using these images, please give credit to AT&T Laboratories Cambridge."
      ]
    },
    {
      "cell_type": "markdown",
      "id": "6dd8402f-c410-4d30-b6d9-d33759f89644",
      "metadata": {
        "id": "6dd8402f-c410-4d30-b6d9-d33759f89644"
      },
      "source": [
        "#### Classwork\n",
        "\n",
        "Load dataset"
      ]
    },
    {
      "cell_type": "code",
      "execution_count": null,
      "id": "4ffd06e5-c6dc-42b2-8b44-ac4fd64164b1",
      "metadata": {
        "id": "4ffd06e5-c6dc-42b2-8b44-ac4fd64164b1"
      },
      "outputs": [],
      "source": []
    },
    {
      "cell_type": "markdown",
      "id": "UkHgFF3vCI5I",
      "metadata": {
        "id": "UkHgFF3vCI5I"
      },
      "source": [
        "### The 20 newsgroups text dataset"
      ]
    },
    {
      "cell_type": "markdown",
      "id": "IIp4p6K5CZWx",
      "metadata": {
        "id": "IIp4p6K5CZWx"
      },
      "source": [
        "The 20 newsgroups dataset comprises around 18000 newsgroups posts on 20 topics split in two subsets: one for training (or development) and the other one for testing (or for performance evaluation). The split between the train and test set is based upon a messages posted before and after a specific date.\n",
        "\n",
        "This module contains two loaders. The first one, sklearn.datasets.fetch_20newsgroups, returns a list of the raw texts that can be fed to text feature extractors such as CountVectorizer with custom parameters so as to extract feature vectors. The second one, sklearn.datasets.fetch_20newsgroups_vectorized, returns ready-to-use features, i.e., it is not necessary to use a feature extractor.\n",
        "\n",
        "Data Set Characteristics:\n",
        "\n",
        "| Variable | Data |\n",
        "| :- | -: |\n",
        "| Classes        | 20    |\n",
        "| Samples total  | 18846 |\n",
        "| Dimensionality | 1     |\n",
        "| Features       | text  |\n",
        "\n"
      ]
    },
    {
      "cell_type": "markdown",
      "id": "08879890-3078-4170-91a8-b27dbd09fe5d",
      "metadata": {
        "id": "08879890-3078-4170-91a8-b27dbd09fe5d"
      },
      "source": [
        "#### Classwork\n",
        "\n",
        "Load dataset"
      ]
    },
    {
      "cell_type": "code",
      "execution_count": null,
      "id": "5d515269-4fde-44e3-89ff-a7f2c2a33c1b",
      "metadata": {
        "id": "5d515269-4fde-44e3-89ff-a7f2c2a33c1b"
      },
      "outputs": [],
      "source": []
    },
    {
      "cell_type": "markdown",
      "id": "FGmIEnFpDFlG",
      "metadata": {
        "id": "FGmIEnFpDFlG"
      },
      "source": [
        "### The Labeled Faces in the Wild face recognition dataset"
      ]
    },
    {
      "cell_type": "markdown",
      "id": "jz132JMBEPou",
      "metadata": {
        "id": "jz132JMBEPou"
      },
      "source": [
        "This dataset is a collection of JPEG pictures of famous people collected over the internet, all details are available on the official website:\n",
        "\n",
        "http://vis-www.cs.umass.edu/lfw/\n",
        "\n",
        "Each picture is centered on a single face. The typical task is called Face Verification: given a pair of two pictures, a binary classifier must predict whether the two images are from the same person.\n",
        "\n",
        "An alternative task, Face Recognition or Face Identification is: given the picture of the face of an unknown person, identify the name of the person by referring to a gallery of previously seen pictures of identified persons.\n",
        "\n",
        "Both Face Verification and Face Recognition are tasks that are typically performed on the output of a model trained to perform Face Detection. The most popular model for Face Detection is called Viola-Jones and is implemented in the OpenCV library. The LFW faces were extracted by this face detector from various online websites.\n",
        "\n",
        "Data Set Characteristics:\n",
        "\n",
        "| Variable | Data |\n",
        "| :- | -: |\n",
        "| Classes        | 5749                    |\n",
        "| Samples total  | 13233                   |\n",
        "| Dimensionality | 5828                    |\n",
        "| Features       | real, between 0 and 255 |\n",
        "\n"
      ]
    },
    {
      "cell_type": "markdown",
      "id": "f0e2a0eb-0bd5-435c-96b1-a5d5bc5bc7a3",
      "metadata": {
        "id": "f0e2a0eb-0bd5-435c-96b1-a5d5bc5bc7a3"
      },
      "source": [
        "#### Classwork\n",
        "\n",
        "Load dataset"
      ]
    },
    {
      "cell_type": "code",
      "execution_count": null,
      "id": "dc0cac05-4306-490b-a4fb-654c5e6b7f06",
      "metadata": {
        "id": "dc0cac05-4306-490b-a4fb-654c5e6b7f06"
      },
      "outputs": [],
      "source": []
    },
    {
      "cell_type": "markdown",
      "id": "V65ylxfVEgVL",
      "metadata": {
        "id": "V65ylxfVEgVL"
      },
      "source": [
        "### Forest covertypes"
      ]
    },
    {
      "cell_type": "markdown",
      "id": "mYyb7TZZEkwA",
      "metadata": {
        "id": "mYyb7TZZEkwA"
      },
      "source": [
        "The samples in this dataset correspond to 30×30m patches of forest in the US, collected for the task of predicting each patch’s cover type, i.e. the dominant species of tree. There are seven covertypes, making this a multiclass classification problem. Each sample has 54 features, described on the dataset’s homepage. Some of the features are boolean indicators, while others are discrete or continuous measurements.\n",
        "\n",
        "Data Set Characteristics:\n",
        "\n",
        "\n",
        "| Variable | Data |\n",
        "| :- | -: |\n",
        "| Classes        | 7      |\n",
        "| Samples total  | 581012 |\n",
        "| Dimensionality | 54     |\n",
        "| Features       | int    |\n",
        "\n",
        "sklearn.datasets.fetch_covtype will load the covertype dataset; it returns a dictionary-like ‘Bunch’ object with the feature matrix in the data member and the target values in target. If optional argument ‘as_frame’ is set to ‘True’, it will return data and target as pandas data frame, and there will be an additional member frame as well. The dataset will be downloaded from the web if necessary."
      ]
    },
    {
      "cell_type": "markdown",
      "id": "4268251e-f022-4d82-9879-db44294cd55b",
      "metadata": {
        "id": "4268251e-f022-4d82-9879-db44294cd55b"
      },
      "source": [
        "#### Classwork\n",
        "\n",
        "Load dataset"
      ]
    },
    {
      "cell_type": "code",
      "execution_count": null,
      "id": "b27fd497-fafb-44bc-bea9-c43bb5596219",
      "metadata": {
        "id": "b27fd497-fafb-44bc-bea9-c43bb5596219"
      },
      "outputs": [],
      "source": []
    },
    {
      "cell_type": "markdown",
      "id": "qUfRWK8bEzDp",
      "metadata": {
        "id": "qUfRWK8bEzDp"
      },
      "source": [
        "### RCV1 dataset"
      ]
    },
    {
      "cell_type": "markdown",
      "id": "lnxta9osE-cz",
      "metadata": {
        "id": "lnxta9osE-cz"
      },
      "source": [
        "Reuters Corpus Volume I (RCV1) is an archive of over 800,000 manually categorized newswire stories made available by Reuters, Ltd. for research purposes. The dataset is extensively described in [1].\n",
        "\n",
        "Data Set Characteristics:\n",
        "\n",
        "| Variable | Data |\n",
        "| :- | -: |\n",
        "| Classes        | 103                   |\n",
        "| Samples total  | 804414                |\n",
        "| Dimensionality | 47236                 |\n",
        "| Features       | real, between 0 and 1 |\n",
        "\n",
        "The dataset will be downloaded from the rcv1 homepage if necessary. The compressed size is about 656 MB."
      ]
    },
    {
      "cell_type": "markdown",
      "id": "7b4803da-004e-403c-b118-7ca4a7ef1786",
      "metadata": {
        "id": "7b4803da-004e-403c-b118-7ca4a7ef1786"
      },
      "source": [
        "#### Classwork\n",
        "\n",
        "Load dataset"
      ]
    },
    {
      "cell_type": "code",
      "execution_count": null,
      "id": "ed29f219-3d2d-406c-a2fe-478f9d888855",
      "metadata": {
        "id": "ed29f219-3d2d-406c-a2fe-478f9d888855"
      },
      "outputs": [],
      "source": []
    },
    {
      "cell_type": "markdown",
      "id": "-uhlZDjCFxRM",
      "metadata": {
        "id": "-uhlZDjCFxRM"
      },
      "source": [
        "### Kddcup 99 dataset"
      ]
    },
    {
      "cell_type": "markdown",
      "id": "cCFucAK0Fyuk",
      "metadata": {
        "id": "cCFucAK0Fyuk"
      },
      "source": [
        "The KDD Cup ‘99 dataset was created by processing the tcpdump portions of the 1998 DARPA Intrusion Detection System (IDS) Evaluation dataset, created by MIT Lincoln Lab [2]. The artificial data (described on the dataset’s homepage) was generated using a closed network and hand-injected attacks to produce a large number of different types of attack with normal activity in the background. As the initial goal was to produce a large training set for supervised learning algorithms, there is a large proportion (80.1%) of abnormal data which is unrealistic in real world, and inappropriate for unsupervised anomaly detection which aims at detecting ‘abnormal’ data, i.e.:\n",
        "\n",
        "- qualitatively different from normal data\n",
        "- in large minority among the observations.\n",
        "\n",
        "We thus transform the KDD Data set into two different data sets: SA and SF.\n",
        "- SA is obtained by simply selecting all the normal data, and a small proportion of abnormal data to gives an anomaly proportion of 1%.\n",
        "- SF is obtained as in [3] by simply picking up the data whose attribute logged_in is positive, thus focusing on the intrusion attack, which gives a proportion of 0.3% of attack.\n",
        "- http and smtp are two subsets of SF corresponding with third feature equal to ‘http’ (resp. to ‘smtp’).\n",
        "\n",
        "General KDD structure :\n",
        "\n",
        "SA structure :\n",
        "\n",
        "| Variable | Data |\n",
        "| :- | -: |\n",
        "| Samples total  | 4898431                                    |\n",
        "| Dimensionality | 41                                         |\n",
        "| Features       | discrete (int) or continuous (float)       |\n",
        "| Targets        | str, ‘normal.’ or name of the anomaly type |\n",
        "\n",
        "SF structure :\n",
        "\n",
        "| Variable | Data |\n",
        "| :- | -: |\n",
        "| Samples total  | 976158                                     |\n",
        "| Dimensionality | 41                                         |\n",
        "| Features       | discrete (int) or continuous (float)       |\n",
        "| Targets        | str, ‘normal.’ or name of the anomaly type |\n",
        "\n",
        "http structure :\n",
        "\n",
        "| Variable | Data |\n",
        "| :- | -: |\n",
        "| Samples total  | 619052                                     |\n",
        "| Dimensionality | 3                                          |\n",
        "| Features       | discrete (int) or continuous (float)       |\n",
        "| Targets        | str, ‘normal.’ or name of the anomaly type |\n",
        "\n",
        "smtp structure :\n",
        "\n",
        "| Variable | Data |\n",
        "| :- | -: |\n",
        "| Samples total  | 95373                                      |\n",
        "| Dimensionality | 3                                          |\n",
        "| Features       | discrete (int) or continuous (float)       |\n",
        "| Targets        | str, ‘normal.’ or name of the anomaly type |\n",
        "\n",
        "sklearn.datasets.fetch_kddcup99 will load the kddcup99 dataset; it returns a dictionary-like object with the feature matrix in the data member and the target values in target. The “as_frame” optional argument converts data into a pandas DataFrame and target into a pandas Series. The dataset will be downloaded from the web if necessary."
      ]
    },
    {
      "cell_type": "markdown",
      "id": "ee481b62-80f2-445d-8dc1-65861b2bc420",
      "metadata": {
        "id": "ee481b62-80f2-445d-8dc1-65861b2bc420"
      },
      "source": [
        "#### Classwork\n",
        "\n",
        "Load dataset"
      ]
    },
    {
      "cell_type": "code",
      "execution_count": null,
      "id": "3d2e7f3c-034c-4149-8219-cdf10202dce9",
      "metadata": {
        "id": "3d2e7f3c-034c-4149-8219-cdf10202dce9"
      },
      "outputs": [],
      "source": []
    },
    {
      "cell_type": "markdown",
      "id": "TIZZ_seQGda5",
      "metadata": {
        "id": "TIZZ_seQGda5"
      },
      "source": [
        "### California Housing dataset"
      ]
    },
    {
      "cell_type": "markdown",
      "id": "zjLCVePzGepv",
      "metadata": {
        "id": "zjLCVePzGepv"
      },
      "source": [
        "This dataset was obtained from the StatLib repository. https://www.dcc.fc.up.pt/~ltorgo/Regression/cal_housing.html\n",
        "\n",
        "The target variable is the median house value for California districts, expressed in hundreds of thousands of dollars ($100,000).\n",
        "\n",
        "This dataset was derived from the 1990 U.S. census, using one row per census block group. A block group is the smallest geographical unit for which the U.S. Census Bureau publishes sample data (a block group typically has a population of 600 to 3,000 people).\n",
        "\n",
        "A household is a group of people residing within a home. Since the average number of rooms and bedrooms in this dataset are provided per household, these columns may take surprisingly large values for block groups with few households and many empty houses, such as vacation resorts.\n",
        "\n",
        "It can be downloaded/loaded using the sklearn.datasets.fetch_california_housing function.\n",
        "\n",
        "Data Set Characteristics:\n",
        "\n",
        "| Variable | Data |\n",
        "| :- | :- |\n",
        "| Number of Instances: | 20640 |\n",
        "| Number of Attributes: | 8 numeric, predictive attributes and the target |\n",
        "| Attribute Information:| - MedInc median income in block group <br> - HouseAge median house age in block group - AveRooms average number of rooms per household <br> - AveBedrms average number of bedrooms per household <br> - Population block group population <br> - AveOccup average number of household members <br> - Latitude block group latitude <br> - Longitude block group longitude |\n",
        "| Missing Attribute Values: | None |"
      ]
    },
    {
      "cell_type": "markdown",
      "id": "de66916e-ecce-4d79-a56d-6abce481db81",
      "metadata": {
        "id": "de66916e-ecce-4d79-a56d-6abce481db81"
      },
      "source": [
        "#### Classwork\n",
        "\n",
        "Load dataset"
      ]
    },
    {
      "cell_type": "code",
      "execution_count": null,
      "id": "b2489f15-2b27-4280-a7c1-92986aab0d3d",
      "metadata": {
        "id": "b2489f15-2b27-4280-a7c1-92986aab0d3d"
      },
      "outputs": [],
      "source": []
    },
    {
      "cell_type": "markdown",
      "id": "SShjCTTQIEc2",
      "metadata": {
        "id": "SShjCTTQIEc2"
      },
      "source": [
        "## Generated datasets"
      ]
    },
    {
      "cell_type": "markdown",
      "id": "f0yrzYOHIGTk",
      "metadata": {
        "id": "f0yrzYOHIGTk"
      },
      "source": [
        "In addition, scikit-learn includes various random sample generators that can be used to build artificial datasets of controlled size and complexity."
      ]
    },
    {
      "cell_type": "markdown",
      "id": "119dea19-7276-43c2-baf6-3b9349282f27",
      "metadata": {
        "id": "119dea19-7276-43c2-baf6-3b9349282f27"
      },
      "source": [
        "#### Classwork\n",
        "\n",
        "Load dataset"
      ]
    },
    {
      "cell_type": "code",
      "execution_count": null,
      "id": "c477d558-1adb-43e8-80a5-ba3706e4c7d4",
      "metadata": {
        "id": "c477d558-1adb-43e8-80a5-ba3706e4c7d4"
      },
      "outputs": [],
      "source": []
    },
    {
      "cell_type": "markdown",
      "id": "pk3zNXt9IJIk",
      "metadata": {
        "id": "pk3zNXt9IJIk"
      },
      "source": [
        "### Generators for classification and clustering"
      ]
    },
    {
      "cell_type": "markdown",
      "id": "udohVIXJILmE",
      "metadata": {
        "id": "udohVIXJILmE"
      },
      "source": [
        "#### Single label"
      ]
    },
    {
      "cell_type": "markdown",
      "id": "imyaIA1QIYSE",
      "metadata": {
        "id": "imyaIA1QIYSE"
      },
      "source": [
        "\n",
        "Both make_blobs and make_classification create multiclass datasets by allocating each class one or more normally-distributed clusters of points. make_blobs provides greater control regarding the centers and standard deviations of each cluster, and is used to demonstrate clustering. make_classification specializes in introducing noise by way of: correlated, redundant and uninformative features; multiple Gaussian clusters per class; and linear transformations of the feature space.\n",
        "\n",
        "make_gaussian_quantiles divides a single Gaussian cluster into near-equal-size classes separated by concentric hyperspheres. make_hastie_10_2 generates a similar binary, 10-dimensional problem.\n",
        "\n",
        "make_circles and make_moons generate 2d binary classification datasets that are challenging to certain algorithms (e.g. centroid-based clustering or linear classification), including optional Gaussian noise. They are useful for visualization. make_circles produces Gaussian data with a spherical decision boundary for binary classification, while make_moons produces two interleaving half circles."
      ]
    },
    {
      "cell_type": "code",
      "source": [
        "from sklearn.datasets import make_blobs\n",
        "features, target = make_blobs(n_samples = 100,\n",
        "                  n_features = 2,\n",
        "                  centers = 3,\n",
        "                  cluster_std = 0.5,\n",
        "                  shuffle = True,\n",
        "                  random_state = 1)\n",
        "\n",
        "print(features[:3])\n",
        "print(target[:3])"
      ],
      "metadata": {
        "colab": {
          "base_uri": "https://localhost:8080/"
        },
        "id": "P7npQ19eXlCZ",
        "outputId": "e89c8be2-2b18-4375-cebb-3a05f8d988ee"
      },
      "id": "P7npQ19eXlCZ",
      "execution_count": null,
      "outputs": [
        {
          "output_type": "stream",
          "name": "stdout",
          "text": [
            "[[ -1.22685609   3.25572052]\n",
            " [ -9.57463218  -4.38310652]\n",
            " [-10.71976941  -4.20558148]]\n",
            "[0 1 1]\n"
          ]
        }
      ]
    },
    {
      "cell_type": "markdown",
      "id": "wbMQj_mYIfyD",
      "metadata": {
        "id": "wbMQj_mYIfyD"
      },
      "source": [
        "#### Multilabel"
      ]
    },
    {
      "cell_type": "markdown",
      "id": "pTgR7bg_LmVs",
      "metadata": {
        "id": "pTgR7bg_LmVs"
      },
      "source": [
        "make_multilabel_classification generates random samples with multiple labels, reflecting a bag of words drawn from a mixture of topics. The number of topics for each document is drawn from a Poisson distribution, and the topics themselves are drawn from a fixed random distribution. Similarly, the number of words is drawn from Poisson, with words drawn from a multinomial, where each topic defines a probability distribution over words. Simplifications with respect to true bag-of-words mixtures include:\n",
        "\n",
        "- Per-topic word distributions are independently drawn, where in reality all would be affected by a sparse base distribution, and would be correlated.\n",
        "- For a document generated from multiple topics, all topics are weighted equally in generating its bag of words.\n",
        "- Documents without labels words at random, rather than from a base distribution."
      ]
    },
    {
      "cell_type": "markdown",
      "id": "EAVL5EBFLqMW",
      "metadata": {
        "id": "EAVL5EBFLqMW"
      },
      "source": [
        "#### Biclustering"
      ]
    },
    {
      "cell_type": "markdown",
      "id": "hsFACoudLtIX",
      "metadata": {
        "id": "hsFACoudLtIX"
      },
      "source": [
        "\n",
        "| Variable | Data |\n",
        "| :- | :- |\n",
        "| [`make_biclusters`](https://scikit-learn.org/stable/modules/generated/sklearn.datasets.make_biclusters.html#sklearn.datasets.make_biclusters \"sklearn.datasets.make_biclusters\")(shape, n_clusters, \\*[, ...])         | Generate a constant block diagonal structure array for biclustering.  |\n",
        "| [`make_checkerboard`](https://scikit-learn.org/stable/modules/generated/sklearn.datasets.make_checkerboard.html#sklearn.datasets.make_checkerboard \"sklearn.datasets.make_checkerboard\")(shape, n_clusters, \\*[, ...]) | Generate an array with block checkerboard structure for biclustering. |"
      ]
    },
    {
      "cell_type": "markdown",
      "id": "d4d0cdf0-b1f5-4276-b469-97167acaf655",
      "metadata": {
        "id": "d4d0cdf0-b1f5-4276-b469-97167acaf655"
      },
      "source": [
        "#### Classwork\n",
        "\n",
        "Load dataset"
      ]
    },
    {
      "cell_type": "code",
      "execution_count": null,
      "id": "40b8008b-54c2-4737-84c6-db5ed9777793",
      "metadata": {
        "id": "40b8008b-54c2-4737-84c6-db5ed9777793",
        "colab": {
          "base_uri": "https://localhost:8080/"
        },
        "outputId": "70944906-cc29-4e3f-f669-2e2ef742daa0"
      },
      "outputs": [
        {
          "output_type": "stream",
          "name": "stdout",
          "text": [
            "[[ 1.06354768 -1.42632219  1.02163151]\n",
            " [ 0.23156977  1.49535261  0.33251578]\n",
            " [ 0.15972951  0.83533515 -0.40869554]]\n",
            "[1 0 0]\n"
          ]
        }
      ],
      "source": [
        "from sklearn.datasets import make_classification\n",
        "features, target = make_classification(\n",
        "    n_samples = 100,\n",
        "    n_features = 3,\n",
        "    n_informative = 3,\n",
        "    n_redundant = 0,\n",
        "    n_classes = 2,\n",
        "    weights = [.25, .75],\n",
        "    random_state = 1\n",
        ")\n",
        "\n",
        "print(features[:3])\n",
        "print(target[:3])"
      ]
    },
    {
      "cell_type": "code",
      "source": [
        "import matplotlib.pyplot as plt\n",
        "plt.scatter(features[:, 0], features[:, 1], c=target)\n",
        "plt.show()"
      ],
      "metadata": {
        "colab": {
          "base_uri": "https://localhost:8080/",
          "height": 430
        },
        "id": "x_u3RxWmW6xL",
        "outputId": "5e738850-81aa-4101-de40-2daee682392c"
      },
      "id": "x_u3RxWmW6xL",
      "execution_count": null,
      "outputs": [
        {
          "output_type": "display_data",
          "data": {
            "text/plain": [
              "<Figure size 640x480 with 1 Axes>"
            ],
            "image/png": "[encoded data removed]"
          },
          "metadata": {}
        }
      ]
    },
    {
      "cell_type": "markdown",
      "id": "YiwqvGPqL3wU",
      "metadata": {
        "id": "YiwqvGPqL3wU"
      },
      "source": [
        "### Generators for regression"
      ]
    },
    {
      "cell_type": "markdown",
      "id": "NAqC3TukL-nF",
      "metadata": {
        "id": "NAqC3TukL-nF"
      },
      "source": [
        "make_regression produces regression targets as an optionally-sparse random linear combination of random features, with noise. Its informative features may be uncorrelated, or low rank (few features account for most of the variance).\n",
        "\n",
        "Other regression generators generate functions deterministically from randomized features. make_sparse_uncorrelated produces a target as a linear combination of four features with fixed coefficients. Others encode explicitly non-linear relations: make_friedman1 is related by polynomial and sine transforms; make_friedman2 includes feature multiplication and reciprocation; and make_friedman3 is similar with an arctan transformation on the target.\n",
        "\n"
      ]
    },
    {
      "cell_type": "markdown",
      "id": "4fac4a83-03c1-427b-8600-290025d0b009",
      "metadata": {
        "id": "4fac4a83-03c1-427b-8600-290025d0b009"
      },
      "source": [
        "#### Classwork\n",
        "\n",
        "Load dataset"
      ]
    },
    {
      "cell_type": "code",
      "execution_count": null,
      "id": "452ee1e1-8785-45fd-a65b-ed1b2da53a77",
      "metadata": {
        "colab": {
          "base_uri": "https://localhost:8080/"
        },
        "id": "452ee1e1-8785-45fd-a65b-ed1b2da53a77",
        "outputId": "38e5b2ca-fe2f-4d6c-f32e-6522c9b96002"
      },
      "outputs": [
        {
          "output_type": "stream",
          "name": "stdout",
          "text": [
            "[[ 1.29322588 -0.61736206 -0.11044703]\n",
            " [-2.793085    0.36633201  1.93752881]\n",
            " [ 0.80186103 -0.18656977  0.0465673 ]]\n",
            "[-10.37865986  25.5124503   19.67705609]\n",
            "[44.19042807 98.97517077 58.15774073]\n"
          ]
        }
      ],
      "source": [
        "from sklearn.datasets import make_regression\n",
        "features, target, coefficients = make_regression(\n",
        "    n_samples = 100,\n",
        "    n_features = 3,\n",
        "    n_informative = 3,\n",
        "    n_targets = 1,\n",
        "    noise = 0.0,\n",
        "    coef = True,\n",
        "    random_state = 1\n",
        ")\n",
        "print(features[:3])\n",
        "print(target[:3])\n",
        "print(coefficients)"
      ]
    },
    {
      "cell_type": "code",
      "source": [
        "import matplotlib.pyplot as plt\n",
        "plt.scatter(features[:,0],target[:])\n",
        "plt.show()"
      ],
      "metadata": {
        "colab": {
          "base_uri": "https://localhost:8080/",
          "height": 430
        },
        "id": "_COworZ8bflp",
        "outputId": "be876fa7-1322-402f-f540-cda55fbe5c9c"
      },
      "id": "_COworZ8bflp",
      "execution_count": null,
      "outputs": [
        {
          "output_type": "display_data",
          "data": {
            "text/plain": [
              "<Figure size 640x480 with 1 Axes>"
            ],
            "image/png": "[encoded data removed]"
          },
          "metadata": {}
        }
      ]
    },
    {
      "cell_type": "markdown",
      "id": "taxGPuyaMB11",
      "metadata": {
        "id": "taxGPuyaMB11"
      },
      "source": [
        "### Generators for manifold learning¶"
      ]
    },
    {
      "cell_type": "markdown",
      "id": "o4gw0Mt6MDhK",
      "metadata": {
        "id": "o4gw0Mt6MDhK"
      },
      "source": [
        "| Variable | Data |\n",
        "| :- | :- |\n",
        "| [`make_s_curve`](https://scikit-learn.org/stable/modules/generated/sklearn.datasets.make_s_curve.html#sklearn.datasets.make_s_curve \"sklearn.datasets.make_s_curve\")([n_samples, noise, random_state])    | Generate an S curve dataset.   |\n",
        "| [`make_swiss_roll`](https://scikit-learn.org/stable/modules/generated/sklearn.datasets.make_swiss_roll.html#sklearn.datasets.make_swiss_roll \"sklearn.datasets.make_swiss_roll\")([n_samples, noise, ...]) | Generate a swiss roll dataset. |"
      ]
    },
    {
      "cell_type": "markdown",
      "id": "9e007ab6-59db-4d4b-9167-8135a2218a19",
      "metadata": {
        "id": "9e007ab6-59db-4d4b-9167-8135a2218a19"
      },
      "source": [
        "#### Classwork\n",
        "\n",
        "Load dataset"
      ]
    },
    {
      "cell_type": "code",
      "execution_count": null,
      "id": "4eccbf52-edcc-4f0a-a7b2-4814b6fca454",
      "metadata": {
        "id": "4eccbf52-edcc-4f0a-a7b2-4814b6fca454"
      },
      "outputs": [],
      "source": []
    },
    {
      "cell_type": "markdown",
      "id": "8HPS50vRMJKG",
      "metadata": {
        "id": "8HPS50vRMJKG"
      },
      "source": [
        "### Generators for decomposition"
      ]
    },
    {
      "cell_type": "markdown",
      "id": "4Ph3RO_kMMFU",
      "metadata": {
        "id": "4Ph3RO_kMMFU"
      },
      "source": [
        "| Variable | Data |\n",
        "| :- | :- |\n",
        "| [`make_low_rank_matrix`](https://scikit-learn.org/stable/modules/generated/sklearn.datasets.make_low_rank_matrix.html#sklearn.datasets.make_low_rank_matrix \"sklearn.datasets.make_low_rank_matrix\")([n_samples, ...])                   | Generate a mostly low rank matrix with bell-shaped singular values. |\n",
        "| [`make_sparse_coded_signal`](https://scikit-learn.org/stable/modules/generated/sklearn.datasets.make_sparse_coded_signal.html#sklearn.datasets.make_sparse_coded_signal \"sklearn.datasets.make_sparse_coded_signal\")(n_samples, \\*, ...) | Generate a signal as a sparse combination of dictionary elements.   |\n",
        "| [`make_spd_matrix`](https://scikit-learn.org/stable/modules/generated/sklearn.datasets.make_spd_matrix.html#sklearn.datasets.make_spd_matrix \"sklearn.datasets.make_spd_matrix\")(n_dim, \\*[, random_state])                              | Generate a random symmetric, positive-definite matrix.              |\n",
        "| [`make_sparse_spd_matrix`](https://scikit-learn.org/stable/modules/generated/sklearn.datasets.make_sparse_spd_matrix.html#sklearn.datasets.make_sparse_spd_matrix \"sklearn.datasets.make_sparse_spd_matrix\")([dim, alpha, ...])          | Generate a sparse symmetric definite positive matrix.               |"
      ]
    },
    {
      "cell_type": "markdown",
      "id": "747eb29f-73c8-4c39-91aa-f3fc74de7569",
      "metadata": {
        "id": "747eb29f-73c8-4c39-91aa-f3fc74de7569"
      },
      "source": [
        "#### Classwork\n",
        "\n",
        "Load dataset"
      ]
    },
    {
      "cell_type": "markdown",
      "id": "1V6PSF2oO2WE",
      "metadata": {
        "id": "1V6PSF2oO2WE"
      },
      "source": [
        "## Loading other datasets"
      ]
    },
    {
      "cell_type": "markdown",
      "id": "5oov8xGEO4wD",
      "metadata": {
        "id": "5oov8xGEO4wD"
      },
      "source": [
        "### Sample images"
      ]
    },
    {
      "cell_type": "markdown",
      "id": "5tgP7qf1PAmT",
      "metadata": {
        "id": "5tgP7qf1PAmT"
      },
      "source": [
        "Scikit-learn also embeds a couple of sample JPEG images published under Creative Commons license by their authors. Those images can be useful to test algorithms and pipelines on 2D data.\n",
        "\n",
        "Warning The default coding of images is based on the uint8 dtype to spare memory. Often machine learning algorithms work best if the input is converted to a floating point representation first. Also, if you plan to use matplotlib.pyplpt.imshow, don’t forget to scale to the range 0 - 1 as done in the following example.\n",
        "\n",
        "| [`load_sample_images`](https://scikit-learn.org/stable/modules/generated/sklearn.datasets.load_sample_images.html#sklearn.datasets.load_sample_images \"sklearn.datasets.load_sample_images\")()       | Load sample images for image manipulation.     |\n",
        "| ---------------------------------------------------------------------------------------------------------------------------------------------------------------------------------------------------- | ---------------------------------------------- |\n",
        "| [`load_sample_image`](https://scikit-learn.org/stable/modules/generated/sklearn.datasets.load_sample_image.html#sklearn.datasets.load_sample_image \"sklearn.datasets.load_sample_image\")(image_name) | Load the numpy array of a single sample image. |"
      ]
    },
    {
      "cell_type": "markdown",
      "id": "jahR0uLHPyfP",
      "metadata": {
        "id": "jahR0uLHPyfP"
      },
      "source": [
        "### Datasets in svmlight / libsvm format"
      ]
    },
    {
      "cell_type": "markdown",
      "id": "w3gfgZ-YP0XS",
      "metadata": {
        "id": "w3gfgZ-YP0XS"
      },
      "source": [
        "scikit-learn includes utility functions for loading datasets in the svmlight / libsvm format. In this format, each line takes the form <label> <feature-id>:<feature-value> <feature-id>:<feature-value> .... This format is especially suitable for sparse datasets. In this module, scipy sparse CSR matrices are used for X and numpy arrays are used for y.\n",
        "\n",
        "Related links:\n",
        "\n",
        "Public datasets in svmlight / libsvm format: https://www.csie.ntu.edu.tw/~cjlin/libsvmtools/datasets\n",
        "\n",
        "Faster API-compatible implementation: https://github.com/mblondel/svmlight-loader"
      ]
    },
    {
      "cell_type": "markdown",
      "id": "s--dB60YP6Tw",
      "metadata": {
        "id": "s--dB60YP6Tw"
      },
      "source": [
        "### Downloading datasets from the openml.org repository"
      ]
    },
    {
      "cell_type": "markdown",
      "id": "Fayydp68QA2Q",
      "metadata": {
        "id": "Fayydp68QA2Q"
      },
      "source": [
        "openml.org is a public repository for machine learning data and experiments, that allows everybody to upload open datasets.\n",
        "\n",
        "The sklearn.datasets package is able to download datasets from the repository using the function sklearn.datasets.fetch_openml."
      ]
    },
    {
      "cell_type": "markdown",
      "id": "Mu3wRAOvQGVQ",
      "metadata": {
        "id": "Mu3wRAOvQGVQ"
      },
      "source": [
        "### Loading from external datasets\n"
      ]
    },
    {
      "cell_type": "markdown",
      "id": "9EER21fKQH38",
      "metadata": {
        "id": "9EER21fKQH38"
      },
      "source": [
        "scikit-learn works on any numeric data stored as numpy arrays or scipy sparse matrices. Other types that are convertible to numeric arrays such as pandas DataFrame are also acceptable.\n",
        "\n",
        "Here are some recommended ways to load standard columnar data into a format usable by scikit-learn:\n",
        "\n",
        "pandas.io provides tools to read data from common formats including CSV, Excel, JSON and SQL. DataFrames may also be constructed from lists of tuples or dicts. Pandas handles heterogeneous data smoothly and provides tools for manipulation and conversion into a numeric array suitable for scikit-learn.\n",
        "\n",
        "scipy.io specializes in binary formats often used in scientific computing context such as .mat and .arff\n",
        "\n",
        "numpy/routines.io for standard loading of columnar data into numpy arrays\n",
        "\n",
        "scikit-learn’s datasets.load_svmlight_file for the svmlight or libSVM sparse format\n",
        "\n",
        "scikit-learn’s datasets.load_files for directories of text files where the name of each directory is the name of each category and each file inside of each directory corresponds to one sample from that category\n",
        "\n",
        "For some miscellaneous data such as images, videos, and audio, you may wish to refer to:\n",
        "- skimage.io or Imageio for loading images and videos into numpy arrays\n",
        "- scipy.io.wavfile.read for reading WAV files into a numpy array\n",
        "\n",
        "Categorical (or nominal) features stored as strings (common in pandas DataFrames) will need converting to numerical features using OneHotEncoder or OrdinalEncoder or similar. See Preprocessing data.\n",
        "\n",
        "Note: if you manage your own numerical data it is recommended to use an optimized file format such as HDF5 to reduce data load times. Various libraries such as H5Py, PyTables and pandas provides a Python interface for reading and writing data in that format.\n",
        "\n"
      ]
    }
  ],
  "metadata": {
    "colab": {
      "provenance": [],
      "include_colab_link": true
    },
    "kernelspec": {
      "display_name": "Python 3 (ipykernel)",
      "language": "python",
      "name": "python3"
    },
    "language_info": {
      "codemirror_mode": {
        "name": "ipython",
        "version": 3
      },
      "file_extension": ".py",
      "mimetype": "text/x-python",
      "name": "python",
      "nbconvert_exporter": "python",
      "pygments_lexer": "ipython3",
      "version": "3.8.15"
    }
  },
  "nbformat": 4,
  "nbformat_minor": 5
}