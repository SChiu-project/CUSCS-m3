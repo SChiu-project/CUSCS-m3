{
  "cells": [
    {
      "cell_type": "markdown",
      "metadata": {
        "id": "view-in-github",
        "colab_type": "text"
      },
      "source": [
        "<a href=\"https://colab.research.google.com/github/SChiu-project/CUSCS-m3/blob/main/Class3_Decision_Tree.ipynb\" target=\"_parent\"><img src=\"https://colab.research.google.com/assets/colab-badge.svg\" alt=\"Open In Colab\"/></a>"
      ]
    },
    {
      "cell_type": "markdown",
      "id": "bdc57cb7-eccb-426d-9e3e-17efd8faa263",
      "metadata": {
        "id": "bdc57cb7-eccb-426d-9e3e-17efd8faa263"
      },
      "source": [
        "# Decision Tree"
      ]
    },
    {
      "cell_type": "markdown",
      "id": "014f6605-cbb9-466e-8396-9e1978c170c4",
      "metadata": {
        "id": "014f6605-cbb9-466e-8396-9e1978c170c4"
      },
      "source": [
        "Decision Tree Pros\n",
        "\n",
        "- Decision trees are easy to interpret and visualize.\n",
        "- It can easily capture Non-linear patterns.\n",
        "- It requires fewer data preprocessing from the user, for example, there is no need to normalize columns.\n",
        "- It can be used for feature engineering such as predicting missing values, suitable for variable selection.\n",
        "- The decision tree has no assumptions about distribution because of the non-parametric nature of the algorithm. (Source)\n",
        "\n",
        "Decision Tree Cons\n",
        "\n",
        "- Sensitive to noisy data. It can overfit noisy data.\n",
        "- The small variation(or variance) in data can result in the different decision tree. This can be reduced by bagging and boosting algorithms.\n",
        "- Decision trees are biased with imbalance dataset, so it is recommended that balance out the dataset before creating the decision tree."
      ]
    },
    {
      "cell_type": "markdown",
      "id": "6b410ebf-6c56-46c0-aa75-3917346372bb",
      "metadata": {
        "id": "6b410ebf-6c56-46c0-aa75-3917346372bb"
      },
      "source": [
        "## Classification"
      ]
    },
    {
      "cell_type": "code",
      "execution_count": null,
      "id": "ca9610c8-5d38-41d6-9984-afa5be486e39",
      "metadata": {
        "id": "ca9610c8-5d38-41d6-9984-afa5be486e39"
      },
      "outputs": [],
      "source": [
        "from sklearn import tree\n",
        "X = [[0, 0], [1, 1], [3, 3], [4, 4]]\n",
        "Y = [0, 0, 1, 1]\n",
        "dtc = tree.DecisionTreeClassifier()\n",
        "dtc = dtc.fit(X, Y)"
      ]
    },
    {
      "cell_type": "code",
      "execution_count": null,
      "id": "ff1d235d-ab8d-496b-b113-42274b6bf504",
      "metadata": {
        "id": "ff1d235d-ab8d-496b-b113-42274b6bf504",
        "outputId": "0c4d1245-6965-4c1a-fcbe-0d530089dbb2"
      },
      "outputs": [
        {
          "name": "stdout",
          "output_type": "stream",
          "text": [
            "[1]\n"
          ]
        }
      ],
      "source": [
        "predict = dtc.predict([[2.5, 2.5]])\n",
        "print(predict)"
      ]
    },
    {
      "cell_type": "code",
      "execution_count": null,
      "id": "34d342b9-96e8-4415-aa3f-350cc9dfc576",
      "metadata": {
        "id": "34d342b9-96e8-4415-aa3f-350cc9dfc576",
        "outputId": "60fd5688-274b-4619-9680-d9d5dd6d82f6"
      },
      "outputs": [
        {
          "name": "stdout",
          "output_type": "stream",
          "text": [
            "[[0. 1.]]\n"
          ]
        }
      ],
      "source": [
        "# the probability of each class\n",
        "predict = dtc.predict_proba([[2.5, 2.5]])\n",
        "print(predict)"
      ]
    },
    {
      "cell_type": "code",
      "execution_count": null,
      "id": "bf3b45db-4a2a-4717-a994-aa181c5729dc",
      "metadata": {
        "id": "bf3b45db-4a2a-4717-a994-aa181c5729dc",
        "outputId": "b8e7f84f-c478-4bfe-e9eb-197dfb21f5c3"
      },
      "outputs": [
        {
          "name": "stdout",
          "output_type": "stream",
          "text": [
            "[[1. 0.]]\n"
          ]
        }
      ],
      "source": [
        "predict = dtc.predict_proba([[2, 2]])\n",
        "print(predict)"
      ]
    },
    {
      "cell_type": "markdown",
      "id": "aba29297-2977-48e5-a467-7c6b8759ead3",
      "metadata": {
        "id": "aba29297-2977-48e5-a467-7c6b8759ead3"
      },
      "source": [
        "## iris"
      ]
    },
    {
      "cell_type": "code",
      "execution_count": null,
      "id": "3be546e0-af80-47e2-ac8a-a5fb58471efd",
      "metadata": {
        "id": "3be546e0-af80-47e2-ac8a-a5fb58471efd",
        "outputId": "bb4e0ddd-65e5-44c8-dcf8-c0b38ff4cdf5"
      },
      "outputs": [
        {
          "name": "stdout",
          "output_type": "stream",
          "text": [
            "[0 0 0 0 0 0 0 0 0 0 0 0 0 0 0 0 0 0 0 0 0 0 0 0 0 0 0 0 0 0 0 0 0 0 0 0 0\n",
            " 0 0 0 0 0 0 0 0 0 0 0 0 0 1 1 1 1 1 1 1 1 1 1 1 1 1 1 1 1 1 1 1 1 1 1 1 1\n",
            " 1 1 1 1 1 1 1 1 1 1 1 1 1 1 1 1 1 1 1 1 1 1 1 1 1 1 2 2 2 2 2 2 2 2 2 2 2\n",
            " 2 2 2 2 2 2 2 2 2 2 2 2 2 2 2 2 2 2 2 2 2 2 2 2 2 2 2 2 2 2 2 2 2 2 2 2 2\n",
            " 2 2]\n",
            "[0 0 0 0 0 0 0 0 0 0 0 0 0 0 0 0 0 0 0 0 0 0 0 0 0 0 0 0 0 0 0 0 0 0 0 0 0\n",
            " 0 0 0 0 0 0 0 0 0 0 0 0 0 1 1 1 1 1 1 1 1 1 1 1 1 1 1 1 1 1 1 1 1 1 1 1 1\n",
            " 1 1 1 1 1 1 1 1 1 1 1 1 1 1 1 1 1 1 1 1 1 1 1 1 1 1 2 2 2 2 2 2 2 2 2 2 2\n",
            " 2 2 2 2 2 2 2 2 2 2 2 2 2 2 2 2 2 2 2 2 2 2 2 2 2 2 2 2 2 2 2 2 2 2 2 2 2\n",
            " 2 2]\n"
          ]
        }
      ],
      "source": [
        "from sklearn.datasets import load_iris\n",
        "from sklearn import tree\n",
        "iris = load_iris()\n",
        "X, y = iris.data, iris.target\n",
        "dtc = tree.DecisionTreeClassifier()\n",
        "dtc = dtc.fit(X, y)\n",
        "predict = dtc.predict(X)\n",
        "print(y)\n",
        "print(predict)"
      ]
    },
    {
      "cell_type": "code",
      "execution_count": null,
      "id": "871e7411-1cde-4710-ad02-1c30d7b84574",
      "metadata": {
        "id": "871e7411-1cde-4710-ad02-1c30d7b84574",
        "outputId": "59edd7b4-5a33-43bd-90f2-c2470fe94a80"
      },
      "outputs": [
        {
          "name": "stdout",
          "output_type": "stream",
          "text": [
            "1.0\n"
          ]
        }
      ],
      "source": [
        "from sklearn import metrics\n",
        "accuracy = metrics.accuracy_score(y, predict)\n",
        "print(accuracy)"
      ]
    },
    {
      "cell_type": "code",
      "execution_count": null,
      "id": "cd468ea0-c3a4-422f-abaa-ec04dfa568e1",
      "metadata": {
        "id": "cd468ea0-c3a4-422f-abaa-ec04dfa568e1",
        "outputId": "e2f458f4-6137-4ef8-c661-6ef5134bc6c4"
      },
      "outputs": [
        {
          "data": {
            "text/plain": [
              "[Text(0.5, 0.9166666666666666, 'x[2] <= 2.45\\ngini = 0.667\\nsamples = 150\\nvalue = [50, 50, 50]'),\n",
              " Text(0.4230769230769231, 0.75, 'gini = 0.0\\nsamples = 50\\nvalue = [50, 0, 0]'),\n",
              " Text(0.5769230769230769, 0.75, 'x[3] <= 1.75\\ngini = 0.5\\nsamples = 100\\nvalue = [0, 50, 50]'),\n",
              " Text(0.3076923076923077, 0.5833333333333334, 'x[2] <= 4.95\\ngini = 0.168\\nsamples = 54\\nvalue = [0, 49, 5]'),\n",
              " Text(0.15384615384615385, 0.4166666666666667, 'x[3] <= 1.65\\ngini = 0.041\\nsamples = 48\\nvalue = [0, 47, 1]'),\n",
              " Text(0.07692307692307693, 0.25, 'gini = 0.0\\nsamples = 47\\nvalue = [0, 47, 0]'),\n",
              " Text(0.23076923076923078, 0.25, 'gini = 0.0\\nsamples = 1\\nvalue = [0, 0, 1]'),\n",
              " Text(0.46153846153846156, 0.4166666666666667, 'x[3] <= 1.55\\ngini = 0.444\\nsamples = 6\\nvalue = [0, 2, 4]'),\n",
              " Text(0.38461538461538464, 0.25, 'gini = 0.0\\nsamples = 3\\nvalue = [0, 0, 3]'),\n",
              " Text(0.5384615384615384, 0.25, 'x[2] <= 5.45\\ngini = 0.444\\nsamples = 3\\nvalue = [0, 2, 1]'),\n",
              " Text(0.46153846153846156, 0.08333333333333333, 'gini = 0.0\\nsamples = 2\\nvalue = [0, 2, 0]'),\n",
              " Text(0.6153846153846154, 0.08333333333333333, 'gini = 0.0\\nsamples = 1\\nvalue = [0, 0, 1]'),\n",
              " Text(0.8461538461538461, 0.5833333333333334, 'x[2] <= 4.85\\ngini = 0.043\\nsamples = 46\\nvalue = [0, 1, 45]'),\n",
              " Text(0.7692307692307693, 0.4166666666666667, 'x[0] <= 5.95\\ngini = 0.444\\nsamples = 3\\nvalue = [0, 1, 2]'),\n",
              " Text(0.6923076923076923, 0.25, 'gini = 0.0\\nsamples = 1\\nvalue = [0, 1, 0]'),\n",
              " Text(0.8461538461538461, 0.25, 'gini = 0.0\\nsamples = 2\\nvalue = [0, 0, 2]'),\n",
              " Text(0.9230769230769231, 0.4166666666666667, 'gini = 0.0\\nsamples = 43\\nvalue = [0, 0, 43]')]"
            ]
          },
          "execution_count": 6,
          "metadata": {},
          "output_type": "execute_result"
        },
        {
          "data": {
            "image/png": "[encoded data removed]",
            "text/plain": [
              "<Figure size 640x480 with 1 Axes>"
            ]
          },
          "metadata": {},
          "output_type": "display_data"
        }
      ],
      "source": [
        "tree.plot_tree(dtc)"
      ]
    },
    {
      "cell_type": "markdown",
      "id": "6909e8b1-e99c-4ef7-8933-dbba2a2b5f19",
      "metadata": {
        "id": "6909e8b1-e99c-4ef7-8933-dbba2a2b5f19"
      },
      "source": [
        "## Graphviz"
      ]
    },
    {
      "cell_type": "markdown",
      "id": "bfe6f3e7-4d3f-4bee-b703-1a0c9392bf62",
      "metadata": {
        "id": "bfe6f3e7-4d3f-4bee-b703-1a0c9392bf62"
      },
      "source": [
        "We can also export the tree in Graphviz format using the export_graphviz exporter."
      ]
    },
    {
      "cell_type": "code",
      "execution_count": null,
      "id": "8e9d87c8-6f49-4eb4-a735-b3dc15a60b6a",
      "metadata": {
        "id": "8e9d87c8-6f49-4eb4-a735-b3dc15a60b6a",
        "outputId": "9461c6b2-669a-48e3-d731-1bab3379705f"
      },
      "outputs": [
        {
          "ename": "ExecutableNotFound",
          "evalue": "failed to execute PosixPath('dot'), make sure the Graphviz executables are on your systems' PATH",
          "output_type": "error",
          "traceback": [
            "\u001b[0;31m---------------------------------------------------------------------------\u001b[0m",
            "\u001b[0;31mFileNotFoundError\u001b[0m                         Traceback (most recent call last)",
            "File \u001b[0;32m~/Library/jupyterlab-desktop/jlab_server/lib/python3.8/site-packages/graphviz/backend/execute.py:81\u001b[0m, in \u001b[0;36mrun_check\u001b[0;34m(cmd, input_lines, encoding, quiet, **kwargs)\u001b[0m\n\u001b[1;32m     80\u001b[0m     \u001b[38;5;28;01melse\u001b[39;00m:\n\u001b[0;32m---> 81\u001b[0m         proc \u001b[38;5;241m=\u001b[39m \u001b[43msubprocess\u001b[49m\u001b[38;5;241;43m.\u001b[39;49m\u001b[43mrun\u001b[49m\u001b[43m(\u001b[49m\u001b[43mcmd\u001b[49m\u001b[43m,\u001b[49m\u001b[43m \u001b[49m\u001b[38;5;241;43m*\u001b[39;49m\u001b[38;5;241;43m*\u001b[39;49m\u001b[43mkwargs\u001b[49m\u001b[43m)\u001b[49m\n\u001b[1;32m     82\u001b[0m \u001b[38;5;28;01mexcept\u001b[39;00m \u001b[38;5;167;01mOSError\u001b[39;00m \u001b[38;5;28;01mas\u001b[39;00m e:\n",
            "File \u001b[0;32m~/Library/jupyterlab-desktop/jlab_server/lib/python3.8/subprocess.py:493\u001b[0m, in \u001b[0;36mrun\u001b[0;34m(input, capture_output, timeout, check, *popenargs, **kwargs)\u001b[0m\n\u001b[1;32m    491\u001b[0m     kwargs[\u001b[38;5;124m'\u001b[39m\u001b[38;5;124mstderr\u001b[39m\u001b[38;5;124m'\u001b[39m] \u001b[38;5;241m=\u001b[39m PIPE\n\u001b[0;32m--> 493\u001b[0m \u001b[38;5;28;01mwith\u001b[39;00m \u001b[43mPopen\u001b[49m\u001b[43m(\u001b[49m\u001b[38;5;241;43m*\u001b[39;49m\u001b[43mpopenargs\u001b[49m\u001b[43m,\u001b[49m\u001b[43m \u001b[49m\u001b[38;5;241;43m*\u001b[39;49m\u001b[38;5;241;43m*\u001b[39;49m\u001b[43mkwargs\u001b[49m\u001b[43m)\u001b[49m \u001b[38;5;28;01mas\u001b[39;00m process:\n\u001b[1;32m    494\u001b[0m     \u001b[38;5;28;01mtry\u001b[39;00m:\n",
            "File \u001b[0;32m~/Library/jupyterlab-desktop/jlab_server/lib/python3.8/subprocess.py:858\u001b[0m, in \u001b[0;36mPopen.__init__\u001b[0;34m(self, args, bufsize, executable, stdin, stdout, stderr, preexec_fn, close_fds, shell, cwd, env, universal_newlines, startupinfo, creationflags, restore_signals, start_new_session, pass_fds, encoding, errors, text)\u001b[0m\n\u001b[1;32m    855\u001b[0m             \u001b[38;5;28mself\u001b[39m\u001b[38;5;241m.\u001b[39mstderr \u001b[38;5;241m=\u001b[39m io\u001b[38;5;241m.\u001b[39mTextIOWrapper(\u001b[38;5;28mself\u001b[39m\u001b[38;5;241m.\u001b[39mstderr,\n\u001b[1;32m    856\u001b[0m                     encoding\u001b[38;5;241m=\u001b[39mencoding, errors\u001b[38;5;241m=\u001b[39merrors)\n\u001b[0;32m--> 858\u001b[0m     \u001b[38;5;28;43mself\u001b[39;49m\u001b[38;5;241;43m.\u001b[39;49m\u001b[43m_execute_child\u001b[49m\u001b[43m(\u001b[49m\u001b[43margs\u001b[49m\u001b[43m,\u001b[49m\u001b[43m \u001b[49m\u001b[43mexecutable\u001b[49m\u001b[43m,\u001b[49m\u001b[43m \u001b[49m\u001b[43mpreexec_fn\u001b[49m\u001b[43m,\u001b[49m\u001b[43m \u001b[49m\u001b[43mclose_fds\u001b[49m\u001b[43m,\u001b[49m\n\u001b[1;32m    859\u001b[0m \u001b[43m                        \u001b[49m\u001b[43mpass_fds\u001b[49m\u001b[43m,\u001b[49m\u001b[43m \u001b[49m\u001b[43mcwd\u001b[49m\u001b[43m,\u001b[49m\u001b[43m \u001b[49m\u001b[43menv\u001b[49m\u001b[43m,\u001b[49m\n\u001b[1;32m    860\u001b[0m \u001b[43m                        \u001b[49m\u001b[43mstartupinfo\u001b[49m\u001b[43m,\u001b[49m\u001b[43m \u001b[49m\u001b[43mcreationflags\u001b[49m\u001b[43m,\u001b[49m\u001b[43m \u001b[49m\u001b[43mshell\u001b[49m\u001b[43m,\u001b[49m\n\u001b[1;32m    861\u001b[0m \u001b[43m                        \u001b[49m\u001b[43mp2cread\u001b[49m\u001b[43m,\u001b[49m\u001b[43m \u001b[49m\u001b[43mp2cwrite\u001b[49m\u001b[43m,\u001b[49m\n\u001b[1;32m    862\u001b[0m \u001b[43m                        \u001b[49m\u001b[43mc2pread\u001b[49m\u001b[43m,\u001b[49m\u001b[43m \u001b[49m\u001b[43mc2pwrite\u001b[49m\u001b[43m,\u001b[49m\n\u001b[1;32m    863\u001b[0m \u001b[43m                        \u001b[49m\u001b[43merrread\u001b[49m\u001b[43m,\u001b[49m\u001b[43m \u001b[49m\u001b[43merrwrite\u001b[49m\u001b[43m,\u001b[49m\n\u001b[1;32m    864\u001b[0m \u001b[43m                        \u001b[49m\u001b[43mrestore_signals\u001b[49m\u001b[43m,\u001b[49m\u001b[43m \u001b[49m\u001b[43mstart_new_session\u001b[49m\u001b[43m)\u001b[49m\n\u001b[1;32m    865\u001b[0m \u001b[38;5;28;01mexcept\u001b[39;00m:\n\u001b[1;32m    866\u001b[0m     \u001b[38;5;66;03m# Cleanup if the child failed starting.\u001b[39;00m\n",
            "File \u001b[0;32m~/Library/jupyterlab-desktop/jlab_server/lib/python3.8/subprocess.py:1704\u001b[0m, in \u001b[0;36mPopen._execute_child\u001b[0;34m(self, args, executable, preexec_fn, close_fds, pass_fds, cwd, env, startupinfo, creationflags, shell, p2cread, p2cwrite, c2pread, c2pwrite, errread, errwrite, restore_signals, start_new_session)\u001b[0m\n\u001b[1;32m   1703\u001b[0m         err_msg \u001b[38;5;241m=\u001b[39m os\u001b[38;5;241m.\u001b[39mstrerror(errno_num)\n\u001b[0;32m-> 1704\u001b[0m     \u001b[38;5;28;01mraise\u001b[39;00m child_exception_type(errno_num, err_msg, err_filename)\n\u001b[1;32m   1705\u001b[0m \u001b[38;5;28;01mraise\u001b[39;00m child_exception_type(err_msg)\n",
            "\u001b[0;31mFileNotFoundError\u001b[0m: [Errno 2] No such file or directory: PosixPath('dot')",
            "\nThe above exception was the direct cause of the following exception:\n",
            "\u001b[0;31mExecutableNotFound\u001b[0m                        Traceback (most recent call last)",
            "Cell \u001b[0;32mIn[7], line 5\u001b[0m\n\u001b[1;32m      3\u001b[0m dot_data \u001b[38;5;241m=\u001b[39m tree\u001b[38;5;241m.\u001b[39mexport_graphviz(dtc, out_file\u001b[38;5;241m=\u001b[39m\u001b[38;5;28;01mNone\u001b[39;00m) \n\u001b[1;32m      4\u001b[0m graph \u001b[38;5;241m=\u001b[39m graphviz\u001b[38;5;241m.\u001b[39mSource(dot_data) \n\u001b[0;32m----> 5\u001b[0m \u001b[43mgraph\u001b[49m\u001b[38;5;241;43m.\u001b[39;49m\u001b[43mrender\u001b[49m\u001b[43m(\u001b[49m\u001b[38;5;124;43m\"\u001b[39;49m\u001b[38;5;124;43miris\u001b[39;49m\u001b[38;5;124;43m\"\u001b[39;49m\u001b[43m)\u001b[49m \n",
            "File \u001b[0;32m~/Library/jupyterlab-desktop/jlab_server/lib/python3.8/site-packages/graphviz/_tools.py:171\u001b[0m, in \u001b[0;36mdeprecate_positional_args.<locals>.decorator.<locals>.wrapper\u001b[0;34m(*args, **kwargs)\u001b[0m\n\u001b[1;32m    162\u001b[0m     wanted \u001b[38;5;241m=\u001b[39m \u001b[38;5;124m'\u001b[39m\u001b[38;5;124m, \u001b[39m\u001b[38;5;124m'\u001b[39m\u001b[38;5;241m.\u001b[39mjoin(\u001b[38;5;124mf\u001b[39m\u001b[38;5;124m'\u001b[39m\u001b[38;5;132;01m{\u001b[39;00mname\u001b[38;5;132;01m}\u001b[39;00m\u001b[38;5;124m=\u001b[39m\u001b[38;5;132;01m{\u001b[39;00mvalue\u001b[38;5;132;01m!r}\u001b[39;00m\u001b[38;5;124m'\u001b[39m\n\u001b[1;32m    163\u001b[0m                        \u001b[38;5;28;01mfor\u001b[39;00m name, value \u001b[38;5;129;01min\u001b[39;00m deprecated\u001b[38;5;241m.\u001b[39mitems())\n\u001b[1;32m    164\u001b[0m     warnings\u001b[38;5;241m.\u001b[39mwarn(\u001b[38;5;124mf\u001b[39m\u001b[38;5;124m'\u001b[39m\u001b[38;5;124mThe signature of \u001b[39m\u001b[38;5;132;01m{\u001b[39;00mfunc\u001b[38;5;241m.\u001b[39m\u001b[38;5;18m__name__\u001b[39m\u001b[38;5;132;01m}\u001b[39;00m\u001b[38;5;124m will be reduced\u001b[39m\u001b[38;5;124m'\u001b[39m\n\u001b[1;32m    165\u001b[0m                   \u001b[38;5;124mf\u001b[39m\u001b[38;5;124m'\u001b[39m\u001b[38;5;124m to \u001b[39m\u001b[38;5;132;01m{\u001b[39;00msupported_number\u001b[38;5;132;01m}\u001b[39;00m\u001b[38;5;124m positional args\u001b[39m\u001b[38;5;124m'\u001b[39m\n\u001b[1;32m    166\u001b[0m                   \u001b[38;5;124mf\u001b[39m\u001b[38;5;124m'\u001b[39m\u001b[38;5;124m \u001b[39m\u001b[38;5;132;01m{\u001b[39;00m\u001b[38;5;28mlist\u001b[39m(supported)\u001b[38;5;132;01m}\u001b[39;00m\u001b[38;5;124m: pass \u001b[39m\u001b[38;5;132;01m{\u001b[39;00mwanted\u001b[38;5;132;01m}\u001b[39;00m\u001b[38;5;124m'\u001b[39m\n\u001b[1;32m    167\u001b[0m                   \u001b[38;5;124m'\u001b[39m\u001b[38;5;124m as keyword arg(s)\u001b[39m\u001b[38;5;124m'\u001b[39m,\n\u001b[1;32m    168\u001b[0m                   stacklevel\u001b[38;5;241m=\u001b[39mstacklevel,\n\u001b[1;32m    169\u001b[0m                   category\u001b[38;5;241m=\u001b[39mcategory)\n\u001b[0;32m--> 171\u001b[0m \u001b[38;5;28;01mreturn\u001b[39;00m \u001b[43mfunc\u001b[49m\u001b[43m(\u001b[49m\u001b[38;5;241;43m*\u001b[39;49m\u001b[43margs\u001b[49m\u001b[43m,\u001b[49m\u001b[43m \u001b[49m\u001b[38;5;241;43m*\u001b[39;49m\u001b[38;5;241;43m*\u001b[39;49m\u001b[43mkwargs\u001b[49m\u001b[43m)\u001b[49m\n",
            "File \u001b[0;32m~/Library/jupyterlab-desktop/jlab_server/lib/python3.8/site-packages/graphviz/rendering.py:122\u001b[0m, in \u001b[0;36mRender.render\u001b[0;34m(self, filename, directory, view, cleanup, format, renderer, formatter, neato_no_op, quiet, quiet_view, outfile, engine, raise_if_result_exists, overwrite_source)\u001b[0m\n\u001b[1;32m    118\u001b[0m filepath \u001b[38;5;241m=\u001b[39m \u001b[38;5;28mself\u001b[39m\u001b[38;5;241m.\u001b[39msave(filename, directory\u001b[38;5;241m=\u001b[39mdirectory, skip_existing\u001b[38;5;241m=\u001b[39m\u001b[38;5;28;01mNone\u001b[39;00m)\n\u001b[1;32m    120\u001b[0m args\u001b[38;5;241m.\u001b[39mappend(filepath)\n\u001b[0;32m--> 122\u001b[0m rendered \u001b[38;5;241m=\u001b[39m \u001b[38;5;28;43mself\u001b[39;49m\u001b[38;5;241;43m.\u001b[39;49m\u001b[43m_render\u001b[49m\u001b[43m(\u001b[49m\u001b[38;5;241;43m*\u001b[39;49m\u001b[43margs\u001b[49m\u001b[43m,\u001b[49m\u001b[43m \u001b[49m\u001b[38;5;241;43m*\u001b[39;49m\u001b[38;5;241;43m*\u001b[39;49m\u001b[43mkwargs\u001b[49m\u001b[43m)\u001b[49m\n\u001b[1;32m    124\u001b[0m \u001b[38;5;28;01mif\u001b[39;00m cleanup:\n\u001b[1;32m    125\u001b[0m     log\u001b[38;5;241m.\u001b[39mdebug(\u001b[38;5;124m'\u001b[39m\u001b[38;5;124mdelete \u001b[39m\u001b[38;5;132;01m%r\u001b[39;00m\u001b[38;5;124m'\u001b[39m, filepath)\n",
            "File \u001b[0;32m~/Library/jupyterlab-desktop/jlab_server/lib/python3.8/site-packages/graphviz/_tools.py:171\u001b[0m, in \u001b[0;36mdeprecate_positional_args.<locals>.decorator.<locals>.wrapper\u001b[0;34m(*args, **kwargs)\u001b[0m\n\u001b[1;32m    162\u001b[0m     wanted \u001b[38;5;241m=\u001b[39m \u001b[38;5;124m'\u001b[39m\u001b[38;5;124m, \u001b[39m\u001b[38;5;124m'\u001b[39m\u001b[38;5;241m.\u001b[39mjoin(\u001b[38;5;124mf\u001b[39m\u001b[38;5;124m'\u001b[39m\u001b[38;5;132;01m{\u001b[39;00mname\u001b[38;5;132;01m}\u001b[39;00m\u001b[38;5;124m=\u001b[39m\u001b[38;5;132;01m{\u001b[39;00mvalue\u001b[38;5;132;01m!r}\u001b[39;00m\u001b[38;5;124m'\u001b[39m\n\u001b[1;32m    163\u001b[0m                        \u001b[38;5;28;01mfor\u001b[39;00m name, value \u001b[38;5;129;01min\u001b[39;00m deprecated\u001b[38;5;241m.\u001b[39mitems())\n\u001b[1;32m    164\u001b[0m     warnings\u001b[38;5;241m.\u001b[39mwarn(\u001b[38;5;124mf\u001b[39m\u001b[38;5;124m'\u001b[39m\u001b[38;5;124mThe signature of \u001b[39m\u001b[38;5;132;01m{\u001b[39;00mfunc\u001b[38;5;241m.\u001b[39m\u001b[38;5;18m__name__\u001b[39m\u001b[38;5;132;01m}\u001b[39;00m\u001b[38;5;124m will be reduced\u001b[39m\u001b[38;5;124m'\u001b[39m\n\u001b[1;32m    165\u001b[0m                   \u001b[38;5;124mf\u001b[39m\u001b[38;5;124m'\u001b[39m\u001b[38;5;124m to \u001b[39m\u001b[38;5;132;01m{\u001b[39;00msupported_number\u001b[38;5;132;01m}\u001b[39;00m\u001b[38;5;124m positional args\u001b[39m\u001b[38;5;124m'\u001b[39m\n\u001b[1;32m    166\u001b[0m                   \u001b[38;5;124mf\u001b[39m\u001b[38;5;124m'\u001b[39m\u001b[38;5;124m \u001b[39m\u001b[38;5;132;01m{\u001b[39;00m\u001b[38;5;28mlist\u001b[39m(supported)\u001b[38;5;132;01m}\u001b[39;00m\u001b[38;5;124m: pass \u001b[39m\u001b[38;5;132;01m{\u001b[39;00mwanted\u001b[38;5;132;01m}\u001b[39;00m\u001b[38;5;124m'\u001b[39m\n\u001b[1;32m    167\u001b[0m                   \u001b[38;5;124m'\u001b[39m\u001b[38;5;124m as keyword arg(s)\u001b[39m\u001b[38;5;124m'\u001b[39m,\n\u001b[1;32m    168\u001b[0m                   stacklevel\u001b[38;5;241m=\u001b[39mstacklevel,\n\u001b[1;32m    169\u001b[0m                   category\u001b[38;5;241m=\u001b[39mcategory)\n\u001b[0;32m--> 171\u001b[0m \u001b[38;5;28;01mreturn\u001b[39;00m \u001b[43mfunc\u001b[49m\u001b[43m(\u001b[49m\u001b[38;5;241;43m*\u001b[39;49m\u001b[43margs\u001b[49m\u001b[43m,\u001b[49m\u001b[43m \u001b[49m\u001b[38;5;241;43m*\u001b[39;49m\u001b[38;5;241;43m*\u001b[39;49m\u001b[43mkwargs\u001b[49m\u001b[43m)\u001b[49m\n",
            "File \u001b[0;32m~/Library/jupyterlab-desktop/jlab_server/lib/python3.8/site-packages/graphviz/backend/rendering.py:324\u001b[0m, in \u001b[0;36mrender\u001b[0;34m(engine, format, filepath, renderer, formatter, neato_no_op, quiet, outfile, raise_if_result_exists, overwrite_filepath)\u001b[0m\n\u001b[1;32m    320\u001b[0m     \u001b[38;5;28;01mraise\u001b[39;00m exceptions\u001b[38;5;241m.\u001b[39mFileExistsError(\u001b[38;5;124mf\u001b[39m\u001b[38;5;124m'\u001b[39m\u001b[38;5;124moutput file exists: \u001b[39m\u001b[38;5;132;01m{\u001b[39;00mos\u001b[38;5;241m.\u001b[39mfspath(outfile)\u001b[38;5;132;01m!r}\u001b[39;00m\u001b[38;5;124m'\u001b[39m)\n\u001b[1;32m    322\u001b[0m cmd \u001b[38;5;241m+\u001b[39m\u001b[38;5;241m=\u001b[39m args\n\u001b[0;32m--> 324\u001b[0m \u001b[43mexecute\u001b[49m\u001b[38;5;241;43m.\u001b[39;49m\u001b[43mrun_check\u001b[49m\u001b[43m(\u001b[49m\u001b[43mcmd\u001b[49m\u001b[43m,\u001b[49m\n\u001b[1;32m    325\u001b[0m \u001b[43m                  \u001b[49m\u001b[43mcwd\u001b[49m\u001b[38;5;241;43m=\u001b[39;49m\u001b[43mfilepath\u001b[49m\u001b[38;5;241;43m.\u001b[39;49m\u001b[43mparent\u001b[49m\u001b[43m \u001b[49m\u001b[38;5;28;43;01mif\u001b[39;49;00m\u001b[43m \u001b[49m\u001b[43mfilepath\u001b[49m\u001b[38;5;241;43m.\u001b[39;49m\u001b[43mparent\u001b[49m\u001b[38;5;241;43m.\u001b[39;49m\u001b[43mparts\u001b[49m\u001b[43m \u001b[49m\u001b[38;5;28;43;01melse\u001b[39;49;00m\u001b[43m \u001b[49m\u001b[38;5;28;43;01mNone\u001b[39;49;00m\u001b[43m,\u001b[49m\n\u001b[1;32m    326\u001b[0m \u001b[43m                  \u001b[49m\u001b[43mquiet\u001b[49m\u001b[38;5;241;43m=\u001b[39;49m\u001b[43mquiet\u001b[49m\u001b[43m,\u001b[49m\n\u001b[1;32m    327\u001b[0m \u001b[43m                  \u001b[49m\u001b[43mcapture_output\u001b[49m\u001b[38;5;241;43m=\u001b[39;49m\u001b[38;5;28;43;01mTrue\u001b[39;49;00m\u001b[43m)\u001b[49m\n\u001b[1;32m    329\u001b[0m \u001b[38;5;28;01mreturn\u001b[39;00m os\u001b[38;5;241m.\u001b[39mfspath(outfile)\n",
            "File \u001b[0;32m~/Library/jupyterlab-desktop/jlab_server/lib/python3.8/site-packages/graphviz/backend/execute.py:84\u001b[0m, in \u001b[0;36mrun_check\u001b[0;34m(cmd, input_lines, encoding, quiet, **kwargs)\u001b[0m\n\u001b[1;32m     82\u001b[0m \u001b[38;5;28;01mexcept\u001b[39;00m \u001b[38;5;167;01mOSError\u001b[39;00m \u001b[38;5;28;01mas\u001b[39;00m e:\n\u001b[1;32m     83\u001b[0m     \u001b[38;5;28;01mif\u001b[39;00m e\u001b[38;5;241m.\u001b[39merrno \u001b[38;5;241m==\u001b[39m errno\u001b[38;5;241m.\u001b[39mENOENT:\n\u001b[0;32m---> 84\u001b[0m         \u001b[38;5;28;01mraise\u001b[39;00m ExecutableNotFound(cmd) \u001b[38;5;28;01mfrom\u001b[39;00m \u001b[38;5;21;01me\u001b[39;00m\n\u001b[1;32m     85\u001b[0m     \u001b[38;5;28;01mraise\u001b[39;00m\n\u001b[1;32m     87\u001b[0m \u001b[38;5;28;01mif\u001b[39;00m \u001b[38;5;129;01mnot\u001b[39;00m quiet \u001b[38;5;129;01mand\u001b[39;00m proc\u001b[38;5;241m.\u001b[39mstderr:\n",
            "\u001b[0;31mExecutableNotFound\u001b[0m: failed to execute PosixPath('dot'), make sure the Graphviz executables are on your systems' PATH"
          ]
        }
      ],
      "source": [
        "from sklearn import tree\n",
        "import graphviz\n",
        "dot_data = tree.export_graphviz(dtc, out_file=None)\n",
        "graph = graphviz.Source(dot_data)\n",
        "graph.render(\"iris\")"
      ]
    },
    {
      "cell_type": "code",
      "execution_count": null,
      "id": "50609068-442c-4b43-8729-34130fdfe0f5",
      "metadata": {
        "id": "50609068-442c-4b43-8729-34130fdfe0f5",
        "outputId": "cbd24141-1a4d-4837-ef8c-c242d26beae6"
      },
      "outputs": [
        {
          "ename": "ExecutableNotFound",
          "evalue": "failed to execute PosixPath('dot'), make sure the Graphviz executables are on your systems' PATH",
          "output_type": "error",
          "traceback": [
            "\u001b[0;31m---------------------------------------------------------------------------\u001b[0m",
            "\u001b[0;31mFileNotFoundError\u001b[0m                         Traceback (most recent call last)",
            "File \u001b[0;32m~/Library/jupyterlab-desktop/jlab_server/lib/python3.8/site-packages/graphviz/backend/execute.py:79\u001b[0m, in \u001b[0;36mrun_check\u001b[0;34m(cmd, input_lines, encoding, quiet, **kwargs)\u001b[0m\n\u001b[1;32m     78\u001b[0m         kwargs[\u001b[38;5;124m'\u001b[39m\u001b[38;5;124mstdout\u001b[39m\u001b[38;5;124m'\u001b[39m] \u001b[38;5;241m=\u001b[39m kwargs[\u001b[38;5;124m'\u001b[39m\u001b[38;5;124mstderr\u001b[39m\u001b[38;5;124m'\u001b[39m] \u001b[38;5;241m=\u001b[39m subprocess\u001b[38;5;241m.\u001b[39mPIPE\n\u001b[0;32m---> 79\u001b[0m     proc \u001b[38;5;241m=\u001b[39m \u001b[43m_run_input_lines\u001b[49m\u001b[43m(\u001b[49m\u001b[43mcmd\u001b[49m\u001b[43m,\u001b[49m\u001b[43m \u001b[49m\u001b[43minput_lines\u001b[49m\u001b[43m,\u001b[49m\u001b[43m \u001b[49m\u001b[43mkwargs\u001b[49m\u001b[38;5;241;43m=\u001b[39;49m\u001b[43mkwargs\u001b[49m\u001b[43m)\u001b[49m\n\u001b[1;32m     80\u001b[0m \u001b[38;5;28;01melse\u001b[39;00m:\n",
            "File \u001b[0;32m~/Library/jupyterlab-desktop/jlab_server/lib/python3.8/site-packages/graphviz/backend/execute.py:99\u001b[0m, in \u001b[0;36m_run_input_lines\u001b[0;34m(cmd, input_lines, kwargs)\u001b[0m\n\u001b[1;32m     98\u001b[0m \u001b[38;5;28;01mdef\u001b[39;00m \u001b[38;5;21m_run_input_lines\u001b[39m(cmd, input_lines, \u001b[38;5;241m*\u001b[39m, kwargs):\n\u001b[0;32m---> 99\u001b[0m     popen \u001b[38;5;241m=\u001b[39m \u001b[43msubprocess\u001b[49m\u001b[38;5;241;43m.\u001b[39;49m\u001b[43mPopen\u001b[49m\u001b[43m(\u001b[49m\u001b[43mcmd\u001b[49m\u001b[43m,\u001b[49m\u001b[43m \u001b[49m\u001b[43mstdin\u001b[49m\u001b[38;5;241;43m=\u001b[39;49m\u001b[43msubprocess\u001b[49m\u001b[38;5;241;43m.\u001b[39;49m\u001b[43mPIPE\u001b[49m\u001b[43m,\u001b[49m\u001b[43m \u001b[49m\u001b[38;5;241;43m*\u001b[39;49m\u001b[38;5;241;43m*\u001b[39;49m\u001b[43mkwargs\u001b[49m\u001b[43m)\u001b[49m\n\u001b[1;32m    101\u001b[0m     stdin_write \u001b[38;5;241m=\u001b[39m popen\u001b[38;5;241m.\u001b[39mstdin\u001b[38;5;241m.\u001b[39mwrite\n",
            "File \u001b[0;32m~/Library/jupyterlab-desktop/jlab_server/lib/python3.8/subprocess.py:858\u001b[0m, in \u001b[0;36mPopen.__init__\u001b[0;34m(self, args, bufsize, executable, stdin, stdout, stderr, preexec_fn, close_fds, shell, cwd, env, universal_newlines, startupinfo, creationflags, restore_signals, start_new_session, pass_fds, encoding, errors, text)\u001b[0m\n\u001b[1;32m    855\u001b[0m             \u001b[38;5;28mself\u001b[39m\u001b[38;5;241m.\u001b[39mstderr \u001b[38;5;241m=\u001b[39m io\u001b[38;5;241m.\u001b[39mTextIOWrapper(\u001b[38;5;28mself\u001b[39m\u001b[38;5;241m.\u001b[39mstderr,\n\u001b[1;32m    856\u001b[0m                     encoding\u001b[38;5;241m=\u001b[39mencoding, errors\u001b[38;5;241m=\u001b[39merrors)\n\u001b[0;32m--> 858\u001b[0m     \u001b[38;5;28;43mself\u001b[39;49m\u001b[38;5;241;43m.\u001b[39;49m\u001b[43m_execute_child\u001b[49m\u001b[43m(\u001b[49m\u001b[43margs\u001b[49m\u001b[43m,\u001b[49m\u001b[43m \u001b[49m\u001b[43mexecutable\u001b[49m\u001b[43m,\u001b[49m\u001b[43m \u001b[49m\u001b[43mpreexec_fn\u001b[49m\u001b[43m,\u001b[49m\u001b[43m \u001b[49m\u001b[43mclose_fds\u001b[49m\u001b[43m,\u001b[49m\n\u001b[1;32m    859\u001b[0m \u001b[43m                        \u001b[49m\u001b[43mpass_fds\u001b[49m\u001b[43m,\u001b[49m\u001b[43m \u001b[49m\u001b[43mcwd\u001b[49m\u001b[43m,\u001b[49m\u001b[43m \u001b[49m\u001b[43menv\u001b[49m\u001b[43m,\u001b[49m\n\u001b[1;32m    860\u001b[0m \u001b[43m                        \u001b[49m\u001b[43mstartupinfo\u001b[49m\u001b[43m,\u001b[49m\u001b[43m \u001b[49m\u001b[43mcreationflags\u001b[49m\u001b[43m,\u001b[49m\u001b[43m \u001b[49m\u001b[43mshell\u001b[49m\u001b[43m,\u001b[49m\n\u001b[1;32m    861\u001b[0m \u001b[43m                        \u001b[49m\u001b[43mp2cread\u001b[49m\u001b[43m,\u001b[49m\u001b[43m \u001b[49m\u001b[43mp2cwrite\u001b[49m\u001b[43m,\u001b[49m\n\u001b[1;32m    862\u001b[0m \u001b[43m                        \u001b[49m\u001b[43mc2pread\u001b[49m\u001b[43m,\u001b[49m\u001b[43m \u001b[49m\u001b[43mc2pwrite\u001b[49m\u001b[43m,\u001b[49m\n\u001b[1;32m    863\u001b[0m \u001b[43m                        \u001b[49m\u001b[43merrread\u001b[49m\u001b[43m,\u001b[49m\u001b[43m \u001b[49m\u001b[43merrwrite\u001b[49m\u001b[43m,\u001b[49m\n\u001b[1;32m    864\u001b[0m \u001b[43m                        \u001b[49m\u001b[43mrestore_signals\u001b[49m\u001b[43m,\u001b[49m\u001b[43m \u001b[49m\u001b[43mstart_new_session\u001b[49m\u001b[43m)\u001b[49m\n\u001b[1;32m    865\u001b[0m \u001b[38;5;28;01mexcept\u001b[39;00m:\n\u001b[1;32m    866\u001b[0m     \u001b[38;5;66;03m# Cleanup if the child failed starting.\u001b[39;00m\n",
            "File \u001b[0;32m~/Library/jupyterlab-desktop/jlab_server/lib/python3.8/subprocess.py:1704\u001b[0m, in \u001b[0;36mPopen._execute_child\u001b[0;34m(self, args, executable, preexec_fn, close_fds, pass_fds, cwd, env, startupinfo, creationflags, shell, p2cread, p2cwrite, c2pread, c2pwrite, errread, errwrite, restore_signals, start_new_session)\u001b[0m\n\u001b[1;32m   1703\u001b[0m         err_msg \u001b[38;5;241m=\u001b[39m os\u001b[38;5;241m.\u001b[39mstrerror(errno_num)\n\u001b[0;32m-> 1704\u001b[0m     \u001b[38;5;28;01mraise\u001b[39;00m child_exception_type(errno_num, err_msg, err_filename)\n\u001b[1;32m   1705\u001b[0m \u001b[38;5;28;01mraise\u001b[39;00m child_exception_type(err_msg)\n",
            "\u001b[0;31mFileNotFoundError\u001b[0m: [Errno 2] No such file or directory: PosixPath('dot')",
            "\nThe above exception was the direct cause of the following exception:\n",
            "\u001b[0;31mExecutableNotFound\u001b[0m                        Traceback (most recent call last)",
            "File \u001b[0;32m~/Library/jupyterlab-desktop/jlab_server/lib/python3.8/site-packages/IPython/core/formatters.py:972\u001b[0m, in \u001b[0;36mMimeBundleFormatter.__call__\u001b[0;34m(self, obj, include, exclude)\u001b[0m\n\u001b[1;32m    969\u001b[0m     method \u001b[38;5;241m=\u001b[39m get_real_method(obj, \u001b[38;5;28mself\u001b[39m\u001b[38;5;241m.\u001b[39mprint_method)\n\u001b[1;32m    971\u001b[0m     \u001b[38;5;28;01mif\u001b[39;00m method \u001b[38;5;129;01mis\u001b[39;00m \u001b[38;5;129;01mnot\u001b[39;00m \u001b[38;5;28;01mNone\u001b[39;00m:\n\u001b[0;32m--> 972\u001b[0m         \u001b[38;5;28;01mreturn\u001b[39;00m \u001b[43mmethod\u001b[49m\u001b[43m(\u001b[49m\u001b[43minclude\u001b[49m\u001b[38;5;241;43m=\u001b[39;49m\u001b[43minclude\u001b[49m\u001b[43m,\u001b[49m\u001b[43m \u001b[49m\u001b[43mexclude\u001b[49m\u001b[38;5;241;43m=\u001b[39;49m\u001b[43mexclude\u001b[49m\u001b[43m)\u001b[49m\n\u001b[1;32m    973\u001b[0m     \u001b[38;5;28;01mreturn\u001b[39;00m \u001b[38;5;28;01mNone\u001b[39;00m\n\u001b[1;32m    974\u001b[0m \u001b[38;5;28;01melse\u001b[39;00m:\n",
            "File \u001b[0;32m~/Library/jupyterlab-desktop/jlab_server/lib/python3.8/site-packages/graphviz/jupyter_integration.py:98\u001b[0m, in \u001b[0;36mJupyterIntegration._repr_mimebundle_\u001b[0;34m(self, include, exclude, **_)\u001b[0m\n\u001b[1;32m     96\u001b[0m include \u001b[38;5;241m=\u001b[39m \u001b[38;5;28mset\u001b[39m(include) \u001b[38;5;28;01mif\u001b[39;00m include \u001b[38;5;129;01mis\u001b[39;00m \u001b[38;5;129;01mnot\u001b[39;00m \u001b[38;5;28;01mNone\u001b[39;00m \u001b[38;5;28;01melse\u001b[39;00m {\u001b[38;5;28mself\u001b[39m\u001b[38;5;241m.\u001b[39m_jupyter_mimetype}\n\u001b[1;32m     97\u001b[0m include \u001b[38;5;241m-\u001b[39m\u001b[38;5;241m=\u001b[39m \u001b[38;5;28mset\u001b[39m(exclude \u001b[38;5;129;01mor\u001b[39;00m [])\n\u001b[0;32m---> 98\u001b[0m \u001b[38;5;28;01mreturn\u001b[39;00m {mimetype: \u001b[38;5;28mgetattr\u001b[39m(\u001b[38;5;28mself\u001b[39m, method_name)()\n\u001b[1;32m     99\u001b[0m         \u001b[38;5;28;01mfor\u001b[39;00m mimetype, method_name \u001b[38;5;129;01min\u001b[39;00m MIME_TYPES\u001b[38;5;241m.\u001b[39mitems()\n\u001b[1;32m    100\u001b[0m         \u001b[38;5;28;01mif\u001b[39;00m mimetype \u001b[38;5;129;01min\u001b[39;00m include}\n",
            "File \u001b[0;32m~/Library/jupyterlab-desktop/jlab_server/lib/python3.8/site-packages/graphviz/jupyter_integration.py:98\u001b[0m, in \u001b[0;36m<dictcomp>\u001b[0;34m(.0)\u001b[0m\n\u001b[1;32m     96\u001b[0m include \u001b[38;5;241m=\u001b[39m \u001b[38;5;28mset\u001b[39m(include) \u001b[38;5;28;01mif\u001b[39;00m include \u001b[38;5;129;01mis\u001b[39;00m \u001b[38;5;129;01mnot\u001b[39;00m \u001b[38;5;28;01mNone\u001b[39;00m \u001b[38;5;28;01melse\u001b[39;00m {\u001b[38;5;28mself\u001b[39m\u001b[38;5;241m.\u001b[39m_jupyter_mimetype}\n\u001b[1;32m     97\u001b[0m include \u001b[38;5;241m-\u001b[39m\u001b[38;5;241m=\u001b[39m \u001b[38;5;28mset\u001b[39m(exclude \u001b[38;5;129;01mor\u001b[39;00m [])\n\u001b[0;32m---> 98\u001b[0m \u001b[38;5;28;01mreturn\u001b[39;00m {mimetype: \u001b[38;5;28;43mgetattr\u001b[39;49m\u001b[43m(\u001b[49m\u001b[38;5;28;43mself\u001b[39;49m\u001b[43m,\u001b[49m\u001b[43m \u001b[49m\u001b[43mmethod_name\u001b[49m\u001b[43m)\u001b[49m\u001b[43m(\u001b[49m\u001b[43m)\u001b[49m\n\u001b[1;32m     99\u001b[0m         \u001b[38;5;28;01mfor\u001b[39;00m mimetype, method_name \u001b[38;5;129;01min\u001b[39;00m MIME_TYPES\u001b[38;5;241m.\u001b[39mitems()\n\u001b[1;32m    100\u001b[0m         \u001b[38;5;28;01mif\u001b[39;00m mimetype \u001b[38;5;129;01min\u001b[39;00m include}\n",
            "File \u001b[0;32m~/Library/jupyterlab-desktop/jlab_server/lib/python3.8/site-packages/graphviz/jupyter_integration.py:112\u001b[0m, in \u001b[0;36mJupyterIntegration._repr_image_svg_xml\u001b[0;34m(self)\u001b[0m\n\u001b[1;32m    110\u001b[0m \u001b[38;5;28;01mdef\u001b[39;00m \u001b[38;5;21m_repr_image_svg_xml\u001b[39m(\u001b[38;5;28mself\u001b[39m) \u001b[38;5;241m-\u001b[39m\u001b[38;5;241m>\u001b[39m \u001b[38;5;28mstr\u001b[39m:\n\u001b[1;32m    111\u001b[0m     \u001b[38;5;124;03m\"\"\"Return the rendered graph as SVG string.\"\"\"\u001b[39;00m\n\u001b[0;32m--> 112\u001b[0m     \u001b[38;5;28;01mreturn\u001b[39;00m \u001b[38;5;28;43mself\u001b[39;49m\u001b[38;5;241;43m.\u001b[39;49m\u001b[43mpipe\u001b[49m\u001b[43m(\u001b[49m\u001b[38;5;28;43mformat\u001b[39;49m\u001b[38;5;241;43m=\u001b[39;49m\u001b[38;5;124;43m'\u001b[39;49m\u001b[38;5;124;43msvg\u001b[39;49m\u001b[38;5;124;43m'\u001b[39;49m\u001b[43m,\u001b[49m\u001b[43m \u001b[49m\u001b[43mencoding\u001b[49m\u001b[38;5;241;43m=\u001b[39;49m\u001b[43mSVG_ENCODING\u001b[49m\u001b[43m)\u001b[49m\n",
            "File \u001b[0;32m~/Library/jupyterlab-desktop/jlab_server/lib/python3.8/site-packages/graphviz/piping.py:104\u001b[0m, in \u001b[0;36mPipe.pipe\u001b[0;34m(self, format, renderer, formatter, neato_no_op, quiet, engine, encoding)\u001b[0m\n\u001b[1;32m     55\u001b[0m \u001b[38;5;28;01mdef\u001b[39;00m \u001b[38;5;21mpipe\u001b[39m(\u001b[38;5;28mself\u001b[39m,\n\u001b[1;32m     56\u001b[0m          \u001b[38;5;28mformat\u001b[39m: typing\u001b[38;5;241m.\u001b[39mOptional[\u001b[38;5;28mstr\u001b[39m] \u001b[38;5;241m=\u001b[39m \u001b[38;5;28;01mNone\u001b[39;00m,\n\u001b[1;32m     57\u001b[0m          renderer: typing\u001b[38;5;241m.\u001b[39mOptional[\u001b[38;5;28mstr\u001b[39m] \u001b[38;5;241m=\u001b[39m \u001b[38;5;28;01mNone\u001b[39;00m,\n\u001b[0;32m   (...)\u001b[0m\n\u001b[1;32m     61\u001b[0m          engine: typing\u001b[38;5;241m.\u001b[39mOptional[\u001b[38;5;28mstr\u001b[39m] \u001b[38;5;241m=\u001b[39m \u001b[38;5;28;01mNone\u001b[39;00m,\n\u001b[1;32m     62\u001b[0m          encoding: typing\u001b[38;5;241m.\u001b[39mOptional[\u001b[38;5;28mstr\u001b[39m] \u001b[38;5;241m=\u001b[39m \u001b[38;5;28;01mNone\u001b[39;00m) \u001b[38;5;241m-\u001b[39m\u001b[38;5;241m>\u001b[39m typing\u001b[38;5;241m.\u001b[39mUnion[\u001b[38;5;28mbytes\u001b[39m, \u001b[38;5;28mstr\u001b[39m]:\n\u001b[1;32m     63\u001b[0m     \u001b[38;5;124;03m\"\"\"Return the source piped through the Graphviz layout command.\u001b[39;00m\n\u001b[1;32m     64\u001b[0m \n\u001b[1;32m     65\u001b[0m \u001b[38;5;124;03m    Args:\u001b[39;00m\n\u001b[0;32m   (...)\u001b[0m\n\u001b[1;32m    102\u001b[0m \u001b[38;5;124;03m        '<?xml version='\u001b[39;00m\n\u001b[1;32m    103\u001b[0m \u001b[38;5;124;03m    \"\"\"\u001b[39;00m\n\u001b[0;32m--> 104\u001b[0m     \u001b[38;5;28;01mreturn\u001b[39;00m \u001b[38;5;28;43mself\u001b[39;49m\u001b[38;5;241;43m.\u001b[39;49m\u001b[43m_pipe_legacy\u001b[49m\u001b[43m(\u001b[49m\u001b[38;5;28;43mformat\u001b[39;49m\u001b[43m,\u001b[49m\n\u001b[1;32m    105\u001b[0m \u001b[43m                             \u001b[49m\u001b[43mrenderer\u001b[49m\u001b[38;5;241;43m=\u001b[39;49m\u001b[43mrenderer\u001b[49m\u001b[43m,\u001b[49m\n\u001b[1;32m    106\u001b[0m \u001b[43m                             \u001b[49m\u001b[43mformatter\u001b[49m\u001b[38;5;241;43m=\u001b[39;49m\u001b[43mformatter\u001b[49m\u001b[43m,\u001b[49m\n\u001b[1;32m    107\u001b[0m \u001b[43m                             \u001b[49m\u001b[43mneato_no_op\u001b[49m\u001b[38;5;241;43m=\u001b[39;49m\u001b[43mneato_no_op\u001b[49m\u001b[43m,\u001b[49m\n\u001b[1;32m    108\u001b[0m \u001b[43m                             \u001b[49m\u001b[43mquiet\u001b[49m\u001b[38;5;241;43m=\u001b[39;49m\u001b[43mquiet\u001b[49m\u001b[43m,\u001b[49m\n\u001b[1;32m    109\u001b[0m \u001b[43m                             \u001b[49m\u001b[43mengine\u001b[49m\u001b[38;5;241;43m=\u001b[39;49m\u001b[43mengine\u001b[49m\u001b[43m,\u001b[49m\n\u001b[1;32m    110\u001b[0m \u001b[43m                             \u001b[49m\u001b[43mencoding\u001b[49m\u001b[38;5;241;43m=\u001b[39;49m\u001b[43mencoding\u001b[49m\u001b[43m)\u001b[49m\n",
            "File \u001b[0;32m~/Library/jupyterlab-desktop/jlab_server/lib/python3.8/site-packages/graphviz/_tools.py:171\u001b[0m, in \u001b[0;36mdeprecate_positional_args.<locals>.decorator.<locals>.wrapper\u001b[0;34m(*args, **kwargs)\u001b[0m\n\u001b[1;32m    162\u001b[0m     wanted \u001b[38;5;241m=\u001b[39m \u001b[38;5;124m'\u001b[39m\u001b[38;5;124m, \u001b[39m\u001b[38;5;124m'\u001b[39m\u001b[38;5;241m.\u001b[39mjoin(\u001b[38;5;124mf\u001b[39m\u001b[38;5;124m'\u001b[39m\u001b[38;5;132;01m{\u001b[39;00mname\u001b[38;5;132;01m}\u001b[39;00m\u001b[38;5;124m=\u001b[39m\u001b[38;5;132;01m{\u001b[39;00mvalue\u001b[38;5;132;01m!r}\u001b[39;00m\u001b[38;5;124m'\u001b[39m\n\u001b[1;32m    163\u001b[0m                        \u001b[38;5;28;01mfor\u001b[39;00m name, value \u001b[38;5;129;01min\u001b[39;00m deprecated\u001b[38;5;241m.\u001b[39mitems())\n\u001b[1;32m    164\u001b[0m     warnings\u001b[38;5;241m.\u001b[39mwarn(\u001b[38;5;124mf\u001b[39m\u001b[38;5;124m'\u001b[39m\u001b[38;5;124mThe signature of \u001b[39m\u001b[38;5;132;01m{\u001b[39;00mfunc\u001b[38;5;241m.\u001b[39m\u001b[38;5;18m__name__\u001b[39m\u001b[38;5;132;01m}\u001b[39;00m\u001b[38;5;124m will be reduced\u001b[39m\u001b[38;5;124m'\u001b[39m\n\u001b[1;32m    165\u001b[0m                   \u001b[38;5;124mf\u001b[39m\u001b[38;5;124m'\u001b[39m\u001b[38;5;124m to \u001b[39m\u001b[38;5;132;01m{\u001b[39;00msupported_number\u001b[38;5;132;01m}\u001b[39;00m\u001b[38;5;124m positional args\u001b[39m\u001b[38;5;124m'\u001b[39m\n\u001b[1;32m    166\u001b[0m                   \u001b[38;5;124mf\u001b[39m\u001b[38;5;124m'\u001b[39m\u001b[38;5;124m \u001b[39m\u001b[38;5;132;01m{\u001b[39;00m\u001b[38;5;28mlist\u001b[39m(supported)\u001b[38;5;132;01m}\u001b[39;00m\u001b[38;5;124m: pass \u001b[39m\u001b[38;5;132;01m{\u001b[39;00mwanted\u001b[38;5;132;01m}\u001b[39;00m\u001b[38;5;124m'\u001b[39m\n\u001b[1;32m    167\u001b[0m                   \u001b[38;5;124m'\u001b[39m\u001b[38;5;124m as keyword arg(s)\u001b[39m\u001b[38;5;124m'\u001b[39m,\n\u001b[1;32m    168\u001b[0m                   stacklevel\u001b[38;5;241m=\u001b[39mstacklevel,\n\u001b[1;32m    169\u001b[0m                   category\u001b[38;5;241m=\u001b[39mcategory)\n\u001b[0;32m--> 171\u001b[0m \u001b[38;5;28;01mreturn\u001b[39;00m \u001b[43mfunc\u001b[49m\u001b[43m(\u001b[49m\u001b[38;5;241;43m*\u001b[39;49m\u001b[43margs\u001b[49m\u001b[43m,\u001b[49m\u001b[43m \u001b[49m\u001b[38;5;241;43m*\u001b[39;49m\u001b[38;5;241;43m*\u001b[39;49m\u001b[43mkwargs\u001b[49m\u001b[43m)\u001b[49m\n",
            "File \u001b[0;32m~/Library/jupyterlab-desktop/jlab_server/lib/python3.8/site-packages/graphviz/piping.py:121\u001b[0m, in \u001b[0;36mPipe._pipe_legacy\u001b[0;34m(self, format, renderer, formatter, neato_no_op, quiet, engine, encoding)\u001b[0m\n\u001b[1;32m    112\u001b[0m \u001b[38;5;129m@_tools\u001b[39m\u001b[38;5;241m.\u001b[39mdeprecate_positional_args(supported_number\u001b[38;5;241m=\u001b[39m\u001b[38;5;241m2\u001b[39m)\n\u001b[1;32m    113\u001b[0m \u001b[38;5;28;01mdef\u001b[39;00m \u001b[38;5;21m_pipe_legacy\u001b[39m(\u001b[38;5;28mself\u001b[39m,\n\u001b[1;32m    114\u001b[0m                  \u001b[38;5;28mformat\u001b[39m: typing\u001b[38;5;241m.\u001b[39mOptional[\u001b[38;5;28mstr\u001b[39m] \u001b[38;5;241m=\u001b[39m \u001b[38;5;28;01mNone\u001b[39;00m,\n\u001b[0;32m   (...)\u001b[0m\n\u001b[1;32m    119\u001b[0m                  engine: typing\u001b[38;5;241m.\u001b[39mOptional[\u001b[38;5;28mstr\u001b[39m] \u001b[38;5;241m=\u001b[39m \u001b[38;5;28;01mNone\u001b[39;00m,\n\u001b[1;32m    120\u001b[0m                  encoding: typing\u001b[38;5;241m.\u001b[39mOptional[\u001b[38;5;28mstr\u001b[39m] \u001b[38;5;241m=\u001b[39m \u001b[38;5;28;01mNone\u001b[39;00m) \u001b[38;5;241m-\u001b[39m\u001b[38;5;241m>\u001b[39m typing\u001b[38;5;241m.\u001b[39mUnion[\u001b[38;5;28mbytes\u001b[39m, \u001b[38;5;28mstr\u001b[39m]:\n\u001b[0;32m--> 121\u001b[0m     \u001b[38;5;28;01mreturn\u001b[39;00m \u001b[38;5;28;43mself\u001b[39;49m\u001b[38;5;241;43m.\u001b[39;49m\u001b[43m_pipe_future\u001b[49m\u001b[43m(\u001b[49m\u001b[38;5;28;43mformat\u001b[39;49m\u001b[43m,\u001b[49m\n\u001b[1;32m    122\u001b[0m \u001b[43m                             \u001b[49m\u001b[43mrenderer\u001b[49m\u001b[38;5;241;43m=\u001b[39;49m\u001b[43mrenderer\u001b[49m\u001b[43m,\u001b[49m\n\u001b[1;32m    123\u001b[0m \u001b[43m                             \u001b[49m\u001b[43mformatter\u001b[49m\u001b[38;5;241;43m=\u001b[39;49m\u001b[43mformatter\u001b[49m\u001b[43m,\u001b[49m\n\u001b[1;32m    124\u001b[0m \u001b[43m                             \u001b[49m\u001b[43mneato_no_op\u001b[49m\u001b[38;5;241;43m=\u001b[39;49m\u001b[43mneato_no_op\u001b[49m\u001b[43m,\u001b[49m\n\u001b[1;32m    125\u001b[0m \u001b[43m                             \u001b[49m\u001b[43mquiet\u001b[49m\u001b[38;5;241;43m=\u001b[39;49m\u001b[43mquiet\u001b[49m\u001b[43m,\u001b[49m\n\u001b[1;32m    126\u001b[0m \u001b[43m                             \u001b[49m\u001b[43mengine\u001b[49m\u001b[38;5;241;43m=\u001b[39;49m\u001b[43mengine\u001b[49m\u001b[43m,\u001b[49m\n\u001b[1;32m    127\u001b[0m \u001b[43m                             \u001b[49m\u001b[43mencoding\u001b[49m\u001b[38;5;241;43m=\u001b[39;49m\u001b[43mencoding\u001b[49m\u001b[43m)\u001b[49m\n",
            "File \u001b[0;32m~/Library/jupyterlab-desktop/jlab_server/lib/python3.8/site-packages/graphviz/piping.py:149\u001b[0m, in \u001b[0;36mPipe._pipe_future\u001b[0;34m(self, format, renderer, formatter, neato_no_op, quiet, engine, encoding)\u001b[0m\n\u001b[1;32m    146\u001b[0m \u001b[38;5;28;01mif\u001b[39;00m encoding \u001b[38;5;129;01mis\u001b[39;00m \u001b[38;5;129;01mnot\u001b[39;00m \u001b[38;5;28;01mNone\u001b[39;00m:\n\u001b[1;32m    147\u001b[0m     \u001b[38;5;28;01mif\u001b[39;00m codecs\u001b[38;5;241m.\u001b[39mlookup(encoding) \u001b[38;5;129;01mis\u001b[39;00m codecs\u001b[38;5;241m.\u001b[39mlookup(\u001b[38;5;28mself\u001b[39m\u001b[38;5;241m.\u001b[39mencoding):\n\u001b[1;32m    148\u001b[0m         \u001b[38;5;66;03m# common case: both stdin and stdout need the same encoding\u001b[39;00m\n\u001b[0;32m--> 149\u001b[0m         \u001b[38;5;28;01mreturn\u001b[39;00m \u001b[38;5;28;43mself\u001b[39;49m\u001b[38;5;241;43m.\u001b[39;49m\u001b[43m_pipe_lines_string\u001b[49m\u001b[43m(\u001b[49m\u001b[38;5;241;43m*\u001b[39;49m\u001b[43margs\u001b[49m\u001b[43m,\u001b[49m\u001b[43m \u001b[49m\u001b[43mencoding\u001b[49m\u001b[38;5;241;43m=\u001b[39;49m\u001b[43mencoding\u001b[49m\u001b[43m,\u001b[49m\u001b[43m \u001b[49m\u001b[38;5;241;43m*\u001b[39;49m\u001b[38;5;241;43m*\u001b[39;49m\u001b[43mkwargs\u001b[49m\u001b[43m)\u001b[49m\n\u001b[1;32m    150\u001b[0m     \u001b[38;5;28;01mtry\u001b[39;00m:\n\u001b[1;32m    151\u001b[0m         raw \u001b[38;5;241m=\u001b[39m \u001b[38;5;28mself\u001b[39m\u001b[38;5;241m.\u001b[39m_pipe_lines(\u001b[38;5;241m*\u001b[39margs, input_encoding\u001b[38;5;241m=\u001b[39m\u001b[38;5;28mself\u001b[39m\u001b[38;5;241m.\u001b[39mencoding, \u001b[38;5;241m*\u001b[39m\u001b[38;5;241m*\u001b[39mkwargs)\n",
            "File \u001b[0;32m~/Library/jupyterlab-desktop/jlab_server/lib/python3.8/site-packages/graphviz/backend/piping.py:212\u001b[0m, in \u001b[0;36mpipe_lines_string\u001b[0;34m(engine, format, input_lines, encoding, renderer, formatter, neato_no_op, quiet)\u001b[0m\n\u001b[1;32m    206\u001b[0m cmd \u001b[38;5;241m=\u001b[39m dot_command\u001b[38;5;241m.\u001b[39mcommand(engine, \u001b[38;5;28mformat\u001b[39m,\n\u001b[1;32m    207\u001b[0m                           renderer\u001b[38;5;241m=\u001b[39mrenderer,\n\u001b[1;32m    208\u001b[0m                           formatter\u001b[38;5;241m=\u001b[39mformatter,\n\u001b[1;32m    209\u001b[0m                           neato_no_op\u001b[38;5;241m=\u001b[39mneato_no_op)\n\u001b[1;32m    210\u001b[0m kwargs \u001b[38;5;241m=\u001b[39m {\u001b[38;5;124m'\u001b[39m\u001b[38;5;124minput_lines\u001b[39m\u001b[38;5;124m'\u001b[39m: input_lines, \u001b[38;5;124m'\u001b[39m\u001b[38;5;124mencoding\u001b[39m\u001b[38;5;124m'\u001b[39m: encoding}\n\u001b[0;32m--> 212\u001b[0m proc \u001b[38;5;241m=\u001b[39m \u001b[43mexecute\u001b[49m\u001b[38;5;241;43m.\u001b[39;49m\u001b[43mrun_check\u001b[49m\u001b[43m(\u001b[49m\u001b[43mcmd\u001b[49m\u001b[43m,\u001b[49m\u001b[43m \u001b[49m\u001b[43mcapture_output\u001b[49m\u001b[38;5;241;43m=\u001b[39;49m\u001b[38;5;28;43;01mTrue\u001b[39;49;00m\u001b[43m,\u001b[49m\u001b[43m \u001b[49m\u001b[43mquiet\u001b[49m\u001b[38;5;241;43m=\u001b[39;49m\u001b[43mquiet\u001b[49m\u001b[43m,\u001b[49m\u001b[43m \u001b[49m\u001b[38;5;241;43m*\u001b[39;49m\u001b[38;5;241;43m*\u001b[39;49m\u001b[43mkwargs\u001b[49m\u001b[43m)\u001b[49m\n\u001b[1;32m    213\u001b[0m \u001b[38;5;28;01mreturn\u001b[39;00m proc\u001b[38;5;241m.\u001b[39mstdout\n",
            "File \u001b[0;32m~/Library/jupyterlab-desktop/jlab_server/lib/python3.8/site-packages/graphviz/backend/execute.py:84\u001b[0m, in \u001b[0;36mrun_check\u001b[0;34m(cmd, input_lines, encoding, quiet, **kwargs)\u001b[0m\n\u001b[1;32m     82\u001b[0m \u001b[38;5;28;01mexcept\u001b[39;00m \u001b[38;5;167;01mOSError\u001b[39;00m \u001b[38;5;28;01mas\u001b[39;00m e:\n\u001b[1;32m     83\u001b[0m     \u001b[38;5;28;01mif\u001b[39;00m e\u001b[38;5;241m.\u001b[39merrno \u001b[38;5;241m==\u001b[39m errno\u001b[38;5;241m.\u001b[39mENOENT:\n\u001b[0;32m---> 84\u001b[0m         \u001b[38;5;28;01mraise\u001b[39;00m ExecutableNotFound(cmd) \u001b[38;5;28;01mfrom\u001b[39;00m \u001b[38;5;21;01me\u001b[39;00m\n\u001b[1;32m     85\u001b[0m     \u001b[38;5;28;01mraise\u001b[39;00m\n\u001b[1;32m     87\u001b[0m \u001b[38;5;28;01mif\u001b[39;00m \u001b[38;5;129;01mnot\u001b[39;00m quiet \u001b[38;5;129;01mand\u001b[39;00m proc\u001b[38;5;241m.\u001b[39mstderr:\n",
            "\u001b[0;31mExecutableNotFound\u001b[0m: failed to execute PosixPath('dot'), make sure the Graphviz executables are on your systems' PATH"
          ]
        },
        {
          "data": {
            "text/plain": [
              "<graphviz.sources.Source at 0x7fcbd9266b80>"
            ]
          },
          "execution_count": 8,
          "metadata": {},
          "output_type": "execute_result"
        }
      ],
      "source": [
        "dot_data = tree.export_graphviz(dtc, out_file=None,\n",
        "                     feature_names=iris.feature_names,\n",
        "                     class_names=iris.target_names,\n",
        "                     filled=True, rounded=True,\n",
        "                     special_characters=True)\n",
        "graph = graphviz.Source(dot_data)\n",
        "graph"
      ]
    },
    {
      "cell_type": "markdown",
      "id": "7c50c43a-5d03-4f49-9c86-464ebe328c4b",
      "metadata": {
        "id": "7c50c43a-5d03-4f49-9c86-464ebe328c4b"
      },
      "source": [
        "## Textual format"
      ]
    },
    {
      "cell_type": "markdown",
      "id": "32657d7f-91c7-44fb-9eaa-070d0f0cd66d",
      "metadata": {
        "id": "32657d7f-91c7-44fb-9eaa-070d0f0cd66d"
      },
      "source": [
        "The tree can also be exported in textual format with the function export_text. This method doesn’t require the installation of external libraries and is more compact:"
      ]
    },
    {
      "cell_type": "code",
      "execution_count": null,
      "id": "4a663fb1-8781-4ad5-a6fe-6573567a9400",
      "metadata": {
        "id": "4a663fb1-8781-4ad5-a6fe-6573567a9400",
        "outputId": "87018049-8108-4593-eb05-f13ac43dc939"
      },
      "outputs": [
        {
          "name": "stdout",
          "output_type": "stream",
          "text": [
            "|--- petal width (cm) <= 0.80\n",
            "|   |--- class: 0\n",
            "|--- petal width (cm) >  0.80\n",
            "|   |--- petal width (cm) <= 1.75\n",
            "|   |   |--- class: 1\n",
            "|   |--- petal width (cm) >  1.75\n",
            "|   |   |--- class: 2\n",
            "\n"
          ]
        }
      ],
      "source": [
        "from sklearn.datasets import load_iris\n",
        "from sklearn.tree import DecisionTreeClassifier\n",
        "from sklearn.tree import export_text\n",
        "iris = load_iris()\n",
        "decision_tree = DecisionTreeClassifier(random_state=0, max_depth=2)\n",
        "decision_tree = decision_tree.fit(iris.data, iris.target)\n",
        "r = export_text(decision_tree, feature_names=iris['feature_names'])\n",
        "print(r)"
      ]
    },
    {
      "cell_type": "markdown",
      "id": "af52bfa9-2177-44da-99a3-ab7820d70aa3",
      "metadata": {
        "id": "af52bfa9-2177-44da-99a3-ab7820d70aa3"
      },
      "source": [
        "## Regression"
      ]
    },
    {
      "cell_type": "code",
      "execution_count": null,
      "id": "114ded23-848c-4201-a106-ef246e63d1db",
      "metadata": {
        "id": "114ded23-848c-4201-a106-ef246e63d1db",
        "outputId": "d385b9bb-335b-4347-c9cb-206059773180"
      },
      "outputs": [
        {
          "data": {
            "text/plain": [
              "array([0.5])"
            ]
          },
          "execution_count": 12,
          "metadata": {},
          "output_type": "execute_result"
        }
      ],
      "source": [
        "from sklearn import tree\n",
        "X = [[0, 0], [2, 2]]\n",
        "y = [0.5, 2.5]\n",
        "clf = tree.DecisionTreeRegressor()\n",
        "clf = clf.fit(X, y)\n",
        "clf.predict([[1, 1]])"
      ]
    },
    {
      "cell_type": "markdown",
      "id": "683d8559-f6b2-48ea-bdbc-8c2782f405c0",
      "metadata": {
        "id": "683d8559-f6b2-48ea-bdbc-8c2782f405c0"
      },
      "source": [
        "## Example 2"
      ]
    },
    {
      "cell_type": "markdown",
      "id": "5307a3bd-b800-4dbc-b211-ffdca8733152",
      "metadata": {
        "id": "5307a3bd-b800-4dbc-b211-ffdca8733152"
      },
      "source": [
        "Pima Indians Diabetes Database\n",
        "https://www.kaggle.com/datasets/uciml/pima-indians-diabetes-database"
      ]
    },
    {
      "cell_type": "code",
      "execution_count": null,
      "id": "cdc91d82-376d-4278-96a1-d917926fa80b",
      "metadata": {
        "id": "cdc91d82-376d-4278-96a1-d917926fa80b"
      },
      "outputs": [],
      "source": [
        "# import numpy\n",
        "import numpy as np\n",
        "\n",
        "# import pandas\n",
        "import pandas as pd\n",
        "\n",
        "# import matplotlab\n",
        "import matplotlib.pyplot as plt\n",
        "%matplotlib inline\n",
        "\n",
        "# import seaborn\n",
        "import seaborn as sns"
      ]
    },
    {
      "cell_type": "code",
      "execution_count": null,
      "id": "ec936bee-97f2-4d4d-8f0a-90fe96fcc18a",
      "metadata": {
        "id": "ec936bee-97f2-4d4d-8f0a-90fe96fcc18a"
      },
      "outputs": [],
      "source": [
        "##############\n",
        "### sklearn core\n",
        "import sklearn\n",
        "\n",
        "# import train test split from sklearn\n",
        "from sklearn.model_selection import train_test_split\n",
        "\n",
        "# data\n",
        "from sklearn.datasets import fetch_california_housing\n",
        "\n",
        "# validation\n",
        "from sklearn import metrics\n",
        "from sklearn.metrics import confusion_matrix\n",
        "from sklearn.metrics import f1_score\n",
        "from sklearn.metrics import accuracy_score\n",
        "\n",
        "# data preprocessing\n",
        "# necessary to reduce biases of large numbers\n",
        "from sklearn.preprocessing import StandardScaler"
      ]
    },
    {
      "cell_type": "code",
      "execution_count": null,
      "id": "e3d38aa1-8c98-46b8-a038-17e86b39db44",
      "metadata": {
        "id": "e3d38aa1-8c98-46b8-a038-17e86b39db44"
      },
      "outputs": [],
      "source": [
        "### tree\n",
        "from sklearn import tree\n",
        "from sklearn.tree import DecisionTreeClassifier"
      ]
    },
    {
      "cell_type": "code",
      "execution_count": null,
      "id": "7cb13ccd-0614-413b-bfa9-c9a59e592270",
      "metadata": {
        "id": "7cb13ccd-0614-413b-bfa9-c9a59e592270",
        "outputId": "d946e85f-5cfe-4ea4-f1c3-d9ca53c7d998"
      },
      "outputs": [
        {
          "name": "stdout",
          "output_type": "stream",
          "text": [
            "(768, 9)\n",
            "<class 'pandas.core.frame.DataFrame'>\n",
            "RangeIndex: 768 entries, 0 to 767\n",
            "Data columns (total 9 columns):\n",
            " #   Column                    Non-Null Count  Dtype  \n",
            "---  ------                    --------------  -----  \n",
            " 0   Pregnancies               768 non-null    int64  \n",
            " 1   Glucose                   768 non-null    int64  \n",
            " 2   BloodPressure             768 non-null    int64  \n",
            " 3   SkinThickness             768 non-null    int64  \n",
            " 4   Insulin                   768 non-null    int64  \n",
            " 5   BMI                       768 non-null    float64\n",
            " 6   DiabetesPedigreeFunction  768 non-null    float64\n",
            " 7   Age                       768 non-null    int64  \n",
            " 8   Outcome                   768 non-null    int64  \n",
            "dtypes: float64(2), int64(7)\n",
            "memory usage: 54.1 KB\n",
            "None\n",
            "       Pregnancies     Glucose  BloodPressure  SkinThickness     Insulin  \\\n",
            "count   768.000000  768.000000     768.000000     768.000000  768.000000   \n",
            "mean      3.845052  120.894531      69.105469      20.536458   79.799479   \n",
            "std       3.369578   31.972618      19.355807      15.952218  115.244002   \n",
            "min       0.000000    0.000000       0.000000       0.000000    0.000000   \n",
            "25%       1.000000   99.000000      62.000000       0.000000    0.000000   \n",
            "50%       3.000000  117.000000      72.000000      23.000000   30.500000   \n",
            "75%       6.000000  140.250000      80.000000      32.000000  127.250000   \n",
            "max      17.000000  199.000000     122.000000      99.000000  846.000000   \n",
            "\n",
            "              BMI  DiabetesPedigreeFunction         Age     Outcome  \n",
            "count  768.000000                768.000000  768.000000  768.000000  \n",
            "mean    31.992578                  0.471876   33.240885    0.348958  \n",
            "std      7.884160                  0.331329   11.760232    0.476951  \n",
            "min      0.000000                  0.078000   21.000000    0.000000  \n",
            "25%     27.300000                  0.243750   24.000000    0.000000  \n",
            "50%     32.000000                  0.372500   29.000000    0.000000  \n",
            "75%     36.600000                  0.626250   41.000000    1.000000  \n",
            "max     67.100000                  2.420000   81.000000    1.000000  \n",
            "                          count    mean     std    min    25%     50%     75%  \\\n",
            "Pregnancies               768.0    3.85    3.37   0.00   1.00    3.00    6.00   \n",
            "Glucose                   768.0  120.89   31.97   0.00  99.00  117.00  140.25   \n",
            "BloodPressure             768.0   69.11   19.36   0.00  62.00   72.00   80.00   \n",
            "SkinThickness             768.0   20.54   15.95   0.00   0.00   23.00   32.00   \n",
            "Insulin                   768.0   79.80  115.24   0.00   0.00   30.50  127.25   \n",
            "BMI                       768.0   31.99    7.88   0.00  27.30   32.00   36.60   \n",
            "DiabetesPedigreeFunction  768.0    0.47    0.33   0.08   0.24    0.37    0.63   \n",
            "Age                       768.0   33.24   11.76  21.00  24.00   29.00   41.00   \n",
            "Outcome                   768.0    0.35    0.48   0.00   0.00    0.00    1.00   \n",
            "\n",
            "                             max  \n",
            "Pregnancies                17.00  \n",
            "Glucose                   199.00  \n",
            "BloodPressure             122.00  \n",
            "SkinThickness              99.00  \n",
            "Insulin                   846.00  \n",
            "BMI                        67.10  \n",
            "DiabetesPedigreeFunction    2.42  \n",
            "Age                        81.00  \n",
            "Outcome                     1.00  \n",
            "   Pregnancies  Glucose  BloodPressure  SkinThickness  Insulin   BMI  \\\n",
            "0            6      148             72             35        0  33.6   \n",
            "1            1       85             66             29        0  26.6   \n",
            "2            8      183             64              0        0  23.3   \n",
            "3            1       89             66             23       94  28.1   \n",
            "4            0      137             40             35      168  43.1   \n",
            "\n",
            "   DiabetesPedigreeFunction  Age  Outcome  \n",
            "0                     0.627   50        1  \n",
            "1                     0.351   31        0  \n",
            "2                     0.672   32        1  \n",
            "3                     0.167   21        0  \n",
            "4                     2.288   33        1  \n"
          ]
        }
      ],
      "source": [
        "# load dataset\n",
        "df = pd.read_csv(\"diabetes.csv\")\n",
        "print(df.shape)\n",
        "print(df.info())\n",
        "print(df.describe())\n",
        "print(df.describe().round(2).T)\n",
        "print(df.head())"
      ]
    },
    {
      "cell_type": "code",
      "execution_count": null,
      "id": "3f54d847-a8d4-4287-9763-0d5abbd8aa8d",
      "metadata": {
        "id": "3f54d847-a8d4-4287-9763-0d5abbd8aa8d",
        "outputId": "1ddedc86-e0ee-409f-ecab-c98c5b4ed9c2"
      },
      "outputs": [
        {
          "name": "stdout",
          "output_type": "stream",
          "text": [
            "Index(['Pregnancies', 'Glucose', 'BloodPressure', 'SkinThickness', 'Insulin',\n",
            "       'BMI', 'DiabetesPedigreeFunction', 'Age', 'Outcome'],\n",
            "      dtype='object')\n"
          ]
        }
      ],
      "source": [
        "col_names = df.columns\n",
        "print(col_names)"
      ]
    },
    {
      "cell_type": "code",
      "execution_count": null,
      "id": "6fe3c85e-983f-41a0-ba68-75a3ec1ceb9a",
      "metadata": {
        "id": "6fe3c85e-983f-41a0-ba68-75a3ec1ceb9a",
        "outputId": "43d2c1ce-553a-47d4-83de-7d285f3067b4"
      },
      "outputs": [
        {
          "name": "stdout",
          "output_type": "stream",
          "text": [
            "['pregnancies', 'glucose', 'bloodpressure', 'skinthickness', 'insulin', 'bmi', 'diabetespedigreefunction', 'age', 'label']\n",
            "['pregnancies', 'glucose', 'bloodpressure', 'skinthickness', 'insulin', 'bmi', 'diabetespedigreefunction', 'age', 'label']\n",
            "['pregnancies', 'glucose', 'bloodpressure', 'skinthickness', 'insulin', 'bmi', 'diabetespedigreefunction', 'age', 'label']\n"
          ]
        }
      ],
      "source": [
        "print(col_names)\n",
        "\n",
        "# change all columns to lowercase\n",
        "col_names = [col_name.lower() for col_name in col_names]\n",
        "print(col_names)\n",
        "\n",
        "# change last column name to label\n",
        "col_names = col_names[:-1] + ['label']\n",
        "print(col_names)"
      ]
    },
    {
      "cell_type": "code",
      "execution_count": null,
      "id": "e0c1a3f0-28ed-4a7d-967e-af936af777fa",
      "metadata": {
        "id": "e0c1a3f0-28ed-4a7d-967e-af936af777fa"
      },
      "outputs": [],
      "source": [
        "# load dataset\n",
        "del df\n",
        "df = pd.read_csv(\"diabetes.csv\", header=0, names=col_names)"
      ]
    },
    {
      "cell_type": "code",
      "execution_count": null,
      "id": "2d443205-7687-47ac-b8e0-3459fe7e37f5",
      "metadata": {
        "id": "2d443205-7687-47ac-b8e0-3459fe7e37f5",
        "outputId": "1fe50a22-a8a8-46a7-9e95-1a023f3363d9"
      },
      "outputs": [
        {
          "name": "stdout",
          "output_type": "stream",
          "text": [
            "(768, 9)\n",
            "<class 'pandas.core.frame.DataFrame'>\n",
            "RangeIndex: 768 entries, 0 to 767\n",
            "Data columns (total 9 columns):\n",
            " #   Column                    Non-Null Count  Dtype  \n",
            "---  ------                    --------------  -----  \n",
            " 0   pregnancies               768 non-null    int64  \n",
            " 1   glucose                   768 non-null    int64  \n",
            " 2   bloodpressure             768 non-null    int64  \n",
            " 3   skinthickness             768 non-null    int64  \n",
            " 4   insulin                   768 non-null    int64  \n",
            " 5   bmi                       768 non-null    float64\n",
            " 6   diabetespedigreefunction  768 non-null    float64\n",
            " 7   age                       768 non-null    int64  \n",
            " 8   label                     768 non-null    int64  \n",
            "dtypes: float64(2), int64(7)\n",
            "memory usage: 54.1 KB\n",
            "None\n",
            "       pregnancies     glucose  bloodpressure  skinthickness     insulin  \\\n",
            "count   768.000000  768.000000     768.000000     768.000000  768.000000   \n",
            "mean      3.845052  120.894531      69.105469      20.536458   79.799479   \n",
            "std       3.369578   31.972618      19.355807      15.952218  115.244002   \n",
            "min       0.000000    0.000000       0.000000       0.000000    0.000000   \n",
            "25%       1.000000   99.000000      62.000000       0.000000    0.000000   \n",
            "50%       3.000000  117.000000      72.000000      23.000000   30.500000   \n",
            "75%       6.000000  140.250000      80.000000      32.000000  127.250000   \n",
            "max      17.000000  199.000000     122.000000      99.000000  846.000000   \n",
            "\n",
            "              bmi  diabetespedigreefunction         age       label  \n",
            "count  768.000000                768.000000  768.000000  768.000000  \n",
            "mean    31.992578                  0.471876   33.240885    0.348958  \n",
            "std      7.884160                  0.331329   11.760232    0.476951  \n",
            "min      0.000000                  0.078000   21.000000    0.000000  \n",
            "25%     27.300000                  0.243750   24.000000    0.000000  \n",
            "50%     32.000000                  0.372500   29.000000    0.000000  \n",
            "75%     36.600000                  0.626250   41.000000    1.000000  \n",
            "max     67.100000                  2.420000   81.000000    1.000000  \n",
            "                          count    mean     std    min    25%     50%     75%  \\\n",
            "pregnancies               768.0    3.85    3.37   0.00   1.00    3.00    6.00   \n",
            "glucose                   768.0  120.89   31.97   0.00  99.00  117.00  140.25   \n",
            "bloodpressure             768.0   69.11   19.36   0.00  62.00   72.00   80.00   \n",
            "skinthickness             768.0   20.54   15.95   0.00   0.00   23.00   32.00   \n",
            "insulin                   768.0   79.80  115.24   0.00   0.00   30.50  127.25   \n",
            "bmi                       768.0   31.99    7.88   0.00  27.30   32.00   36.60   \n",
            "diabetespedigreefunction  768.0    0.47    0.33   0.08   0.24    0.37    0.63   \n",
            "age                       768.0   33.24   11.76  21.00  24.00   29.00   41.00   \n",
            "label                     768.0    0.35    0.48   0.00   0.00    0.00    1.00   \n",
            "\n",
            "                             max  \n",
            "pregnancies                17.00  \n",
            "glucose                   199.00  \n",
            "bloodpressure             122.00  \n",
            "skinthickness              99.00  \n",
            "insulin                   846.00  \n",
            "bmi                        67.10  \n",
            "diabetespedigreefunction    2.42  \n",
            "age                        81.00  \n",
            "label                       1.00  \n",
            "   pregnancies  glucose  bloodpressure  skinthickness  insulin   bmi  \\\n",
            "0            6      148             72             35        0  33.6   \n",
            "1            1       85             66             29        0  26.6   \n",
            "2            8      183             64              0        0  23.3   \n",
            "3            1       89             66             23       94  28.1   \n",
            "4            0      137             40             35      168  43.1   \n",
            "\n",
            "   diabetespedigreefunction  age  label  \n",
            "0                     0.627   50      1  \n",
            "1                     0.351   31      0  \n",
            "2                     0.672   32      1  \n",
            "3                     0.167   21      0  \n",
            "4                     2.288   33      1  \n"
          ]
        }
      ],
      "source": [
        "print(df.shape)\n",
        "print(df.info())\n",
        "print(df.describe())\n",
        "print(df.describe().round(2).T)\n",
        "print(df.head())"
      ]
    },
    {
      "cell_type": "code",
      "execution_count": null,
      "id": "8a5a23a3-bf32-42c5-a5d5-40361b2f746d",
      "metadata": {
        "id": "8a5a23a3-bf32-42c5-a5d5-40361b2f746d"
      },
      "outputs": [],
      "source": [
        "# split dataset in features and target variable\n",
        "feature_cols = ['pregnancies', 'insulin', 'bmi', 'age','glucose','bloodpressure','diabetespedigreefunction']\n",
        "X = df[feature_cols] # Features\n",
        "y = df.label # Target variable"
      ]
    },
    {
      "cell_type": "code",
      "execution_count": null,
      "id": "4f27ede8-2323-4b34-8eef-3e246c254869",
      "metadata": {
        "id": "4f27ede8-2323-4b34-8eef-3e246c254869"
      },
      "outputs": [],
      "source": [
        "# Split dataset into training set and test set\n",
        "X_train, X_test, y_train, y_test = train_test_split(X, y, test_size=0.3, random_state=1) # 70% training and 30% test"
      ]
    },
    {
      "cell_type": "code",
      "execution_count": null,
      "id": "3a7a8ad4-2c36-428a-af0f-8665b4e38795",
      "metadata": {
        "id": "3a7a8ad4-2c36-428a-af0f-8665b4e38795",
        "outputId": "4567b07d-66b1-40cc-f7fd-6128edcd27b0"
      },
      "outputs": [
        {
          "name": "stdout",
          "output_type": "stream",
          "text": [
            "(768, 7)\n",
            "<class 'pandas.core.frame.DataFrame'>\n",
            "RangeIndex: 768 entries, 0 to 767\n",
            "Data columns (total 7 columns):\n",
            " #   Column                    Non-Null Count  Dtype  \n",
            "---  ------                    --------------  -----  \n",
            " 0   pregnancies               768 non-null    int64  \n",
            " 1   insulin                   768 non-null    int64  \n",
            " 2   bmi                       768 non-null    float64\n",
            " 3   age                       768 non-null    int64  \n",
            " 4   glucose                   768 non-null    int64  \n",
            " 5   bloodpressure             768 non-null    int64  \n",
            " 6   diabetespedigreefunction  768 non-null    float64\n",
            "dtypes: float64(2), int64(5)\n",
            "memory usage: 42.1 KB\n",
            "None\n",
            "       pregnancies     insulin         bmi         age     glucose  \\\n",
            "count   768.000000  768.000000  768.000000  768.000000  768.000000   \n",
            "mean      3.845052   79.799479   31.992578   33.240885  120.894531   \n",
            "std       3.369578  115.244002    7.884160   11.760232   31.972618   \n",
            "min       0.000000    0.000000    0.000000   21.000000    0.000000   \n",
            "25%       1.000000    0.000000   27.300000   24.000000   99.000000   \n",
            "50%       3.000000   30.500000   32.000000   29.000000  117.000000   \n",
            "75%       6.000000  127.250000   36.600000   41.000000  140.250000   \n",
            "max      17.000000  846.000000   67.100000   81.000000  199.000000   \n",
            "\n",
            "       bloodpressure  diabetespedigreefunction  \n",
            "count     768.000000                768.000000  \n",
            "mean       69.105469                  0.471876  \n",
            "std        19.355807                  0.331329  \n",
            "min         0.000000                  0.078000  \n",
            "25%        62.000000                  0.243750  \n",
            "50%        72.000000                  0.372500  \n",
            "75%        80.000000                  0.626250  \n",
            "max       122.000000                  2.420000  \n",
            "                          count    mean     std    min    25%     50%     75%  \\\n",
            "pregnancies               768.0    3.85    3.37   0.00   1.00    3.00    6.00   \n",
            "insulin                   768.0   79.80  115.24   0.00   0.00   30.50  127.25   \n",
            "bmi                       768.0   31.99    7.88   0.00  27.30   32.00   36.60   \n",
            "age                       768.0   33.24   11.76  21.00  24.00   29.00   41.00   \n",
            "glucose                   768.0  120.89   31.97   0.00  99.00  117.00  140.25   \n",
            "bloodpressure             768.0   69.11   19.36   0.00  62.00   72.00   80.00   \n",
            "diabetespedigreefunction  768.0    0.47    0.33   0.08   0.24    0.37    0.63   \n",
            "\n",
            "                             max  \n",
            "pregnancies                17.00  \n",
            "insulin                   846.00  \n",
            "bmi                        67.10  \n",
            "age                        81.00  \n",
            "glucose                   199.00  \n",
            "bloodpressure             122.00  \n",
            "diabetespedigreefunction    2.42  \n",
            "   pregnancies  insulin   bmi  age  glucose  bloodpressure  \\\n",
            "0            6        0  33.6   50      148             72   \n",
            "1            1        0  26.6   31       85             66   \n",
            "2            8        0  23.3   32      183             64   \n",
            "3            1       94  28.1   21       89             66   \n",
            "4            0      168  43.1   33      137             40   \n",
            "\n",
            "   diabetespedigreefunction  \n",
            "0                     0.627  \n",
            "1                     0.351  \n",
            "2                     0.672  \n",
            "3                     0.167  \n",
            "4                     2.288  \n"
          ]
        }
      ],
      "source": [
        "# Check features\n",
        "print(X.shape)\n",
        "print(X.info())\n",
        "print(X.describe())\n",
        "print(X.describe().round(2).T)\n",
        "print(X.head())"
      ]
    },
    {
      "cell_type": "markdown",
      "id": "f7eff268-5298-4d57-b697-ad5a5f7968a9",
      "metadata": {
        "id": "f7eff268-5298-4d57-b697-ad5a5f7968a9"
      },
      "source": [
        "### Build and train model"
      ]
    },
    {
      "cell_type": "code",
      "execution_count": null,
      "id": "da603ca3-dd10-42e2-80f3-744f0dda648f",
      "metadata": {
        "id": "da603ca3-dd10-42e2-80f3-744f0dda648f"
      },
      "outputs": [],
      "source": [
        "# Create Decision Tree classifer object\n",
        "dtc = DecisionTreeClassifier()\n",
        "\n",
        "# Train Decision Tree Classifer\n",
        "dtc.fit(X_train, y_train)\n",
        "\n",
        "#Predict the response for test dataset\n",
        "predict = dtc.predict(X_test)"
      ]
    },
    {
      "cell_type": "code",
      "execution_count": null,
      "id": "098cd39b-a15d-4fef-b125-1e01453ccfda",
      "metadata": {
        "id": "098cd39b-a15d-4fef-b125-1e01453ccfda",
        "outputId": "3f6ae063-96e1-4050-8cf2-cfa4616d987c"
      },
      "outputs": [
        {
          "name": "stdout",
          "output_type": "stream",
          "text": [
            "[0 0 0 0 0 1 0 0 0 0 0 1 0 1 0 0 0 1 0 1 1 0 1 0 0 1 0 1 0 0 0 1 0 1 1 1 0\n",
            " 1 0 1 0 0 0 0 0 0 0 0 0 0 0 1 1 0 1 0 1 0 0 1 1 0 0 0 1 0 0 0 1 1 1 1 0 0\n",
            " 1 0 1 0 0 1 1 0 1 0 0 1 0 1 1 0 0 0 1 0 1 0 1 0 1 0 0 1 0 1 0 0 0 1 0 0 1\n",
            " 0 0 0 0 0 0 0 1 0 0 0 0 0 0 0 0 0 0 0 1 0 0 0 0 0 0 1 0 0 0 0 0 1 0 0 1 0\n",
            " 0 0 1 0 1 0 1 0 1 0 0 0 1 0 0 0 1 0 0 1 1 1 1 1 0 0 1 0 1 0 0 0 1 1 0 0 0\n",
            " 0 0 1 0 0 0 0 0 0 1 0 1 0 0 1 1 0 1 0 1 1 0 0 0 0 0 0 0 0 1 1 0 0 0 0 0 0\n",
            " 0 0 0 0 0 0 0 1 0]\n"
          ]
        }
      ],
      "source": [
        "print(predict)"
      ]
    },
    {
      "cell_type": "markdown",
      "id": "d57bb07a-378d-4169-b1e3-944acba3a57f",
      "metadata": {
        "id": "d57bb07a-378d-4169-b1e3-944acba3a57f"
      },
      "source": [
        "### Evaluate model"
      ]
    },
    {
      "cell_type": "code",
      "execution_count": null,
      "id": "43214e76-a5f7-4ea9-84d9-f49c06a1e5ee",
      "metadata": {
        "id": "43214e76-a5f7-4ea9-84d9-f49c06a1e5ee",
        "outputId": "e42e501c-bfca-4886-b801-1a87bf739d8b"
      },
      "outputs": [
        {
          "name": "stdout",
          "output_type": "stream",
          "text": [
            "Accuracy: 0.645021645021645\n"
          ]
        }
      ],
      "source": [
        "# Model Accuracy, how often is the classifier correct?\n",
        "print(\"Accuracy:\", metrics.accuracy_score(y_test, predict))"
      ]
    },
    {
      "cell_type": "markdown",
      "id": "213e0c27-a0a6-4afb-a2d3-c62a51bf852a",
      "metadata": {
        "id": "213e0c27-a0a6-4afb-a2d3-c62a51bf852a"
      },
      "source": [
        "### Visualizing Decision Trees"
      ]
    },
    {
      "cell_type": "code",
      "execution_count": null,
      "id": "dfd5fb48-55fc-4eb1-a773-6a7dc1c9d8ea",
      "metadata": {
        "id": "dfd5fb48-55fc-4eb1-a773-6a7dc1c9d8ea",
        "outputId": "206d4ece-2de8-48e2-879e-5be7cf07d2ed"
      },
      "outputs": [
        {
          "data": {
            "text/plain": [
              "[Text(0.40873579545454547, 0.96875, 'x[4] <= 129.5\\ngini = 0.449\\nsamples = 537\\nvalue = [354, 183]'),\n",
              " Text(0.15021306818181818, 0.90625, 'x[2] <= 26.3\\ngini = 0.329\\nsamples = 357\\nvalue = [283, 74]'),\n",
              " Text(0.045454545454545456, 0.84375, 'x[2] <= 9.1\\ngini = 0.06\\nsamples = 97\\nvalue = [94, 3]'),\n",
              " Text(0.022727272727272728, 0.78125, 'x[0] <= 7.5\\ngini = 0.444\\nsamples = 6\\nvalue = [4, 2]'),\n",
              " Text(0.011363636363636364, 0.71875, 'gini = 0.0\\nsamples = 4\\nvalue = [4, 0]'),\n",
              " Text(0.03409090909090909, 0.71875, 'gini = 0.0\\nsamples = 2\\nvalue = [0, 2]'),\n",
              " Text(0.06818181818181818, 0.78125, 'x[6] <= 0.669\\ngini = 0.022\\nsamples = 91\\nvalue = [90, 1]'),\n",
              " Text(0.056818181818181816, 0.71875, 'gini = 0.0\\nsamples = 76\\nvalue = [76, 0]'),\n",
              " Text(0.07954545454545454, 0.71875, 'x[6] <= 0.705\\ngini = 0.124\\nsamples = 15\\nvalue = [14, 1]'),\n",
              " Text(0.06818181818181818, 0.65625, 'gini = 0.0\\nsamples = 1\\nvalue = [0, 1]'),\n",
              " Text(0.09090909090909091, 0.65625, 'gini = 0.0\\nsamples = 14\\nvalue = [14, 0]'),\n",
              " Text(0.2549715909090909, 0.84375, 'x[3] <= 27.5\\ngini = 0.397\\nsamples = 260\\nvalue = [189, 71]'),\n",
              " Text(0.14772727272727273, 0.78125, 'x[2] <= 45.4\\ngini = 0.243\\nsamples = 120\\nvalue = [103, 17]'),\n",
              " Text(0.125, 0.71875, 'x[5] <= 12.0\\ngini = 0.212\\nsamples = 116\\nvalue = [102, 14]'),\n",
              " Text(0.11363636363636363, 0.65625, 'gini = 0.0\\nsamples = 1\\nvalue = [0, 1]'),\n",
              " Text(0.13636363636363635, 0.65625, 'x[0] <= 7.0\\ngini = 0.201\\nsamples = 115\\nvalue = [102, 13]'),\n",
              " Text(0.125, 0.59375, 'x[6] <= 1.272\\ngini = 0.188\\nsamples = 114\\nvalue = [102, 12]'),\n",
              " Text(0.10227272727272728, 0.53125, 'x[2] <= 30.95\\ngini = 0.165\\nsamples = 110\\nvalue = [100, 10]'),\n",
              " Text(0.09090909090909091, 0.46875, 'gini = 0.0\\nsamples = 43\\nvalue = [43, 0]'),\n",
              " Text(0.11363636363636363, 0.46875, 'x[5] <= 53.0\\ngini = 0.254\\nsamples = 67\\nvalue = [57, 10]'),\n",
              " Text(0.08522727272727272, 0.40625, 'x[0] <= 2.5\\ngini = 0.5\\nsamples = 6\\nvalue = [3, 3]'),\n",
              " Text(0.07386363636363637, 0.34375, 'x[1] <= 179.5\\ngini = 0.375\\nsamples = 4\\nvalue = [3, 1]'),\n",
              " Text(0.0625, 0.28125, 'gini = 0.0\\nsamples = 3\\nvalue = [3, 0]'),\n",
              " Text(0.08522727272727272, 0.28125, 'gini = 0.0\\nsamples = 1\\nvalue = [0, 1]'),\n",
              " Text(0.09659090909090909, 0.34375, 'gini = 0.0\\nsamples = 2\\nvalue = [0, 2]'),\n",
              " Text(0.14204545454545456, 0.40625, 'x[6] <= 0.652\\ngini = 0.203\\nsamples = 61\\nvalue = [54, 7]'),\n",
              " Text(0.11931818181818182, 0.34375, 'x[1] <= 36.5\\ngini = 0.15\\nsamples = 49\\nvalue = [45, 4]'),\n",
              " Text(0.10795454545454546, 0.28125, 'x[1] <= 34.0\\ngini = 0.32\\nsamples = 20\\nvalue = [16, 4]'),\n",
              " Text(0.09659090909090909, 0.21875, 'x[2] <= 33.65\\ngini = 0.266\\nsamples = 19\\nvalue = [16, 3]'),\n",
              " Text(0.07386363636363637, 0.15625, 'x[5] <= 71.0\\ngini = 0.444\\nsamples = 6\\nvalue = [4, 2]'),\n",
              " Text(0.0625, 0.09375, 'gini = 0.0\\nsamples = 3\\nvalue = [3, 0]'),\n",
              " Text(0.08522727272727272, 0.09375, 'x[5] <= 78.0\\ngini = 0.444\\nsamples = 3\\nvalue = [1, 2]'),\n",
              " Text(0.07386363636363637, 0.03125, 'gini = 0.0\\nsamples = 2\\nvalue = [0, 2]'),\n",
              " Text(0.09659090909090909, 0.03125, 'gini = 0.0\\nsamples = 1\\nvalue = [1, 0]'),\n",
              " Text(0.11931818181818182, 0.15625, 'x[2] <= 37.95\\ngini = 0.142\\nsamples = 13\\nvalue = [12, 1]'),\n",
              " Text(0.10795454545454546, 0.09375, 'gini = 0.0\\nsamples = 11\\nvalue = [11, 0]'),\n",
              " Text(0.13068181818181818, 0.09375, 'x[5] <= 70.0\\ngini = 0.5\\nsamples = 2\\nvalue = [1, 1]'),\n",
              " Text(0.11931818181818182, 0.03125, 'gini = 0.0\\nsamples = 1\\nvalue = [0, 1]'),\n",
              " Text(0.14204545454545456, 0.03125, 'gini = 0.0\\nsamples = 1\\nvalue = [1, 0]'),\n",
              " Text(0.11931818181818182, 0.21875, 'gini = 0.0\\nsamples = 1\\nvalue = [0, 1]'),\n",
              " Text(0.13068181818181818, 0.28125, 'gini = 0.0\\nsamples = 29\\nvalue = [29, 0]'),\n",
              " Text(0.16477272727272727, 0.34375, 'x[1] <= 65.5\\ngini = 0.375\\nsamples = 12\\nvalue = [9, 3]'),\n",
              " Text(0.1534090909090909, 0.28125, 'gini = 0.0\\nsamples = 7\\nvalue = [7, 0]'),\n",
              " Text(0.17613636363636365, 0.28125, 'x[2] <= 38.55\\ngini = 0.48\\nsamples = 5\\nvalue = [2, 3]'),\n",
              " Text(0.16477272727272727, 0.21875, 'gini = 0.0\\nsamples = 3\\nvalue = [0, 3]'),\n",
              " Text(0.1875, 0.21875, 'gini = 0.0\\nsamples = 2\\nvalue = [2, 0]'),\n",
              " Text(0.14772727272727273, 0.53125, 'x[6] <= 1.496\\ngini = 0.5\\nsamples = 4\\nvalue = [2, 2]'),\n",
              " Text(0.13636363636363635, 0.46875, 'gini = 0.0\\nsamples = 2\\nvalue = [0, 2]'),\n",
              " Text(0.1590909090909091, 0.46875, 'gini = 0.0\\nsamples = 2\\nvalue = [2, 0]'),\n",
              " Text(0.14772727272727273, 0.59375, 'gini = 0.0\\nsamples = 1\\nvalue = [0, 1]'),\n",
              " Text(0.17045454545454544, 0.71875, 'x[3] <= 22.5\\ngini = 0.375\\nsamples = 4\\nvalue = [1, 3]'),\n",
              " Text(0.1590909090909091, 0.65625, 'gini = 0.0\\nsamples = 1\\nvalue = [1, 0]'),\n",
              " Text(0.18181818181818182, 0.65625, 'gini = 0.0\\nsamples = 3\\nvalue = [0, 3]'),\n",
              " Text(0.3622159090909091, 0.78125, 'x[6] <= 0.563\\ngini = 0.474\\nsamples = 140\\nvalue = [86, 54]'),\n",
              " Text(0.26988636363636365, 0.71875, 'x[4] <= 101.5\\ngini = 0.408\\nsamples = 98\\nvalue = [70, 28]'),\n",
              " Text(0.20454545454545456, 0.65625, 'x[5] <= 27.0\\ngini = 0.208\\nsamples = 34\\nvalue = [30, 4]'),\n",
              " Text(0.19318181818181818, 0.59375, 'gini = 0.0\\nsamples = 1\\nvalue = [0, 1]'),\n",
              " Text(0.2159090909090909, 0.59375, 'x[3] <= 42.5\\ngini = 0.165\\nsamples = 33\\nvalue = [30, 3]'),\n",
              " Text(0.20454545454545456, 0.53125, 'gini = 0.0\\nsamples = 23\\nvalue = [23, 0]'),\n",
              " Text(0.22727272727272727, 0.53125, 'x[4] <= 97.5\\ngini = 0.42\\nsamples = 10\\nvalue = [7, 3]'),\n",
              " Text(0.2159090909090909, 0.46875, 'x[4] <= 76.0\\ngini = 0.5\\nsamples = 6\\nvalue = [3, 3]'),\n",
              " Text(0.20454545454545456, 0.40625, 'gini = 0.0\\nsamples = 2\\nvalue = [2, 0]'),\n",
              " Text(0.22727272727272727, 0.40625, 'x[6] <= 0.432\\ngini = 0.375\\nsamples = 4\\nvalue = [1, 3]'),\n",
              " Text(0.2159090909090909, 0.34375, 'gini = 0.0\\nsamples = 3\\nvalue = [0, 3]'),\n",
              " Text(0.23863636363636365, 0.34375, 'gini = 0.0\\nsamples = 1\\nvalue = [1, 0]'),\n",
              " Text(0.23863636363636365, 0.46875, 'gini = 0.0\\nsamples = 4\\nvalue = [4, 0]'),\n",
              " Text(0.3352272727272727, 0.65625, 'x[5] <= 67.0\\ngini = 0.469\\nsamples = 64\\nvalue = [40, 24]'),\n",
              " Text(0.29545454545454547, 0.59375, 'x[5] <= 58.0\\ngini = 0.465\\nsamples = 19\\nvalue = [7, 12]'),\n",
              " Text(0.2727272727272727, 0.53125, 'x[4] <= 117.5\\ngini = 0.245\\nsamples = 7\\nvalue = [6, 1]'),\n",
              " Text(0.26136363636363635, 0.46875, 'gini = 0.0\\nsamples = 5\\nvalue = [5, 0]'),\n",
              " Text(0.2840909090909091, 0.46875, 'x[6] <= 0.243\\ngini = 0.5\\nsamples = 2\\nvalue = [1, 1]'),\n",
              " Text(0.2727272727272727, 0.40625, 'gini = 0.0\\nsamples = 1\\nvalue = [0, 1]'),\n",
              " Text(0.29545454545454547, 0.40625, 'gini = 0.0\\nsamples = 1\\nvalue = [1, 0]'),\n",
              " Text(0.3181818181818182, 0.53125, 'x[6] <= 0.425\\ngini = 0.153\\nsamples = 12\\nvalue = [1, 11]'),\n",
              " Text(0.3068181818181818, 0.46875, 'gini = 0.0\\nsamples = 11\\nvalue = [0, 11]'),\n",
              " Text(0.32954545454545453, 0.46875, 'gini = 0.0\\nsamples = 1\\nvalue = [1, 0]'),\n",
              " Text(0.375, 0.59375, 'x[2] <= 43.1\\ngini = 0.391\\nsamples = 45\\nvalue = [33, 12]'),\n",
              " Text(0.36363636363636365, 0.53125, 'x[4] <= 102.5\\ngini = 0.337\\nsamples = 42\\nvalue = [33, 9]'),\n",
              " Text(0.3522727272727273, 0.46875, 'gini = 0.0\\nsamples = 2\\nvalue = [0, 2]'),\n",
              " Text(0.375, 0.46875, 'x[2] <= 34.6\\ngini = 0.289\\nsamples = 40\\nvalue = [33, 7]'),\n",
              " Text(0.36363636363636365, 0.40625, 'x[3] <= 35.0\\ngini = 0.434\\nsamples = 22\\nvalue = [15, 7]'),\n",
              " Text(0.3522727272727273, 0.34375, 'gini = 0.0\\nsamples = 6\\nvalue = [6, 0]'),\n",
              " Text(0.375, 0.34375, 'x[4] <= 123.5\\ngini = 0.492\\nsamples = 16\\nvalue = [9, 7]'),\n",
              " Text(0.36363636363636365, 0.28125, 'x[6] <= 0.375\\ngini = 0.426\\nsamples = 13\\nvalue = [9, 4]'),\n",
              " Text(0.3522727272727273, 0.21875, 'x[0] <= 6.5\\ngini = 0.298\\nsamples = 11\\nvalue = [9, 2]'),\n",
              " Text(0.3409090909090909, 0.15625, 'x[5] <= 85.0\\ngini = 0.444\\nsamples = 6\\nvalue = [4, 2]'),\n",
              " Text(0.32954545454545453, 0.09375, 'x[6] <= 0.206\\ngini = 0.444\\nsamples = 3\\nvalue = [1, 2]'),\n",
              " Text(0.3181818181818182, 0.03125, 'gini = 0.0\\nsamples = 1\\nvalue = [1, 0]'),\n",
              " Text(0.3409090909090909, 0.03125, 'gini = 0.0\\nsamples = 2\\nvalue = [0, 2]'),\n",
              " Text(0.3522727272727273, 0.09375, 'gini = 0.0\\nsamples = 3\\nvalue = [3, 0]'),\n",
              " Text(0.36363636363636365, 0.15625, 'gini = 0.0\\nsamples = 5\\nvalue = [5, 0]'),\n",
              " Text(0.375, 0.21875, 'gini = 0.0\\nsamples = 2\\nvalue = [0, 2]'),\n",
              " Text(0.38636363636363635, 0.28125, 'gini = 0.0\\nsamples = 3\\nvalue = [0, 3]'),\n",
              " Text(0.38636363636363635, 0.40625, 'gini = 0.0\\nsamples = 18\\nvalue = [18, 0]'),\n",
              " Text(0.38636363636363635, 0.53125, 'gini = 0.0\\nsamples = 3\\nvalue = [0, 3]'),\n",
              " Text(0.45454545454545453, 0.71875, 'x[0] <= 8.5\\ngini = 0.472\\nsamples = 42\\nvalue = [16, 26]'),\n",
              " Text(0.4431818181818182, 0.65625, 'x[4] <= 97.0\\ngini = 0.5\\nsamples = 33\\nvalue = [16, 17]'),\n",
              " Text(0.4318181818181818, 0.59375, 'gini = 0.0\\nsamples = 5\\nvalue = [5, 0]'),\n",
              " Text(0.45454545454545453, 0.59375, 'x[5] <= 87.0\\ngini = 0.477\\nsamples = 28\\nvalue = [11, 17]'),\n",
              " Text(0.4431818181818182, 0.53125, 'x[4] <= 116.5\\ngini = 0.413\\nsamples = 24\\nvalue = [7, 17]'),\n",
              " Text(0.42045454545454547, 0.46875, 'x[6] <= 1.395\\ngini = 0.165\\nsamples = 11\\nvalue = [1, 10]'),\n",
              " Text(0.4090909090909091, 0.40625, 'gini = 0.0\\nsamples = 10\\nvalue = [0, 10]'),\n",
              " Text(0.4318181818181818, 0.40625, 'gini = 0.0\\nsamples = 1\\nvalue = [1, 0]'),\n",
              " Text(0.4659090909090909, 0.46875, 'x[1] <= 78.0\\ngini = 0.497\\nsamples = 13\\nvalue = [6, 7]'),\n",
              " Text(0.45454545454545453, 0.40625, 'gini = 0.0\\nsamples = 3\\nvalue = [3, 0]'),\n",
              " Text(0.4772727272727273, 0.40625, 'x[4] <= 123.5\\ngini = 0.42\\nsamples = 10\\nvalue = [3, 7]'),\n",
              " Text(0.4659090909090909, 0.34375, 'x[3] <= 33.5\\ngini = 0.5\\nsamples = 6\\nvalue = [3, 3]'),\n",
              " Text(0.45454545454545453, 0.28125, 'x[3] <= 28.5\\ngini = 0.375\\nsamples = 4\\nvalue = [1, 3]'),\n",
              " Text(0.4431818181818182, 0.21875, 'gini = 0.0\\nsamples = 1\\nvalue = [1, 0]'),\n",
              " Text(0.4659090909090909, 0.21875, 'gini = 0.0\\nsamples = 3\\nvalue = [0, 3]'),\n",
              " Text(0.4772727272727273, 0.28125, 'gini = 0.0\\nsamples = 2\\nvalue = [2, 0]'),\n",
              " Text(0.48863636363636365, 0.34375, 'gini = 0.0\\nsamples = 4\\nvalue = [0, 4]'),\n",
              " Text(0.4659090909090909, 0.53125, 'gini = 0.0\\nsamples = 4\\nvalue = [4, 0]'),\n",
              " Text(0.4659090909090909, 0.65625, 'gini = 0.0\\nsamples = 9\\nvalue = [0, 9]'),\n",
              " Text(0.6672585227272727, 0.90625, 'x[2] <= 27.85\\ngini = 0.478\\nsamples = 180\\nvalue = [71, 109]'),\n",
              " Text(0.5113636363636364, 0.84375, 'x[4] <= 145.5\\ngini = 0.375\\nsamples = 36\\nvalue = [27, 9]'),\n",
              " Text(0.48863636363636365, 0.78125, 'x[3] <= 59.5\\ngini = 0.1\\nsamples = 19\\nvalue = [18, 1]'),\n",
              " Text(0.4772727272727273, 0.71875, 'gini = 0.0\\nsamples = 16\\nvalue = [16, 0]'),\n",
              " Text(0.5, 0.71875, 'x[2] <= 25.25\\ngini = 0.444\\nsamples = 3\\nvalue = [2, 1]'),\n",
              " Text(0.48863636363636365, 0.65625, 'gini = 0.0\\nsamples = 1\\nvalue = [0, 1]'),\n",
              " Text(0.5113636363636364, 0.65625, 'gini = 0.0\\nsamples = 2\\nvalue = [2, 0]'),\n",
              " Text(0.5340909090909091, 0.78125, 'x[3] <= 25.5\\ngini = 0.498\\nsamples = 17\\nvalue = [9, 8]'),\n",
              " Text(0.5227272727272727, 0.71875, 'gini = 0.0\\nsamples = 3\\nvalue = [3, 0]'),\n",
              " Text(0.5454545454545454, 0.71875, 'x[3] <= 62.0\\ngini = 0.49\\nsamples = 14\\nvalue = [6, 8]'),\n",
              " Text(0.5340909090909091, 0.65625, 'x[2] <= 27.0\\ngini = 0.397\\nsamples = 11\\nvalue = [3, 8]'),\n",
              " Text(0.5113636363636364, 0.59375, 'x[4] <= 152.5\\ngini = 0.219\\nsamples = 8\\nvalue = [1, 7]'),\n",
              " Text(0.5, 0.53125, 'gini = 0.0\\nsamples = 1\\nvalue = [1, 0]'),\n",
              " Text(0.5227272727272727, 0.53125, 'gini = 0.0\\nsamples = 7\\nvalue = [0, 7]'),\n",
              " Text(0.5568181818181818, 0.59375, 'x[4] <= 152.5\\ngini = 0.444\\nsamples = 3\\nvalue = [2, 1]'),\n",
              " Text(0.5454545454545454, 0.53125, 'gini = 0.0\\nsamples = 1\\nvalue = [0, 1]'),\n",
              " Text(0.5681818181818182, 0.53125, 'gini = 0.0\\nsamples = 2\\nvalue = [2, 0]'),\n",
              " Text(0.5568181818181818, 0.65625, 'gini = 0.0\\nsamples = 3\\nvalue = [3, 0]'),\n",
              " Text(0.8231534090909091, 0.84375, 'x[4] <= 158.5\\ngini = 0.424\\nsamples = 144\\nvalue = [44, 100]'),\n",
              " Text(0.6974431818181818, 0.78125, 'x[3] <= 30.5\\ngini = 0.487\\nsamples = 88\\nvalue = [37, 51]'),\n",
              " Text(0.6306818181818182, 0.71875, 'x[5] <= 23.0\\ngini = 0.49\\nsamples = 42\\nvalue = [24, 18]'),\n",
              " Text(0.6193181818181818, 0.65625, 'gini = 0.0\\nsamples = 4\\nvalue = [0, 4]'),\n",
              " Text(0.6420454545454546, 0.65625, 'x[5] <= 88.0\\ngini = 0.465\\nsamples = 38\\nvalue = [24, 14]'),\n",
              " Text(0.6306818181818182, 0.59375, 'x[5] <= 72.0\\ngini = 0.444\\nsamples = 36\\nvalue = [24, 12]'),\n",
              " Text(0.5909090909090909, 0.53125, 'x[2] <= 33.75\\ngini = 0.5\\nsamples = 20\\nvalue = [10, 10]'),\n",
              " Text(0.5681818181818182, 0.46875, 'x[2] <= 31.05\\ngini = 0.397\\nsamples = 11\\nvalue = [8, 3]'),\n",
              " Text(0.5568181818181818, 0.40625, 'x[1] <= 229.0\\ngini = 0.5\\nsamples = 6\\nvalue = [3, 3]'),\n",
              " Text(0.5454545454545454, 0.34375, 'x[4] <= 136.5\\ngini = 0.375\\nsamples = 4\\nvalue = [3, 1]'),\n",
              " Text(0.5340909090909091, 0.28125, 'gini = 0.0\\nsamples = 1\\nvalue = [0, 1]'),\n",
              " Text(0.5568181818181818, 0.28125, 'gini = 0.0\\nsamples = 3\\nvalue = [3, 0]'),\n",
              " Text(0.5681818181818182, 0.34375, 'gini = 0.0\\nsamples = 2\\nvalue = [0, 2]'),\n",
              " Text(0.5795454545454546, 0.40625, 'gini = 0.0\\nsamples = 5\\nvalue = [5, 0]'),\n",
              " Text(0.6136363636363636, 0.46875, 'x[6] <= 0.535\\ngini = 0.346\\nsamples = 9\\nvalue = [2, 7]'),\n",
              " Text(0.6022727272727273, 0.40625, 'gini = 0.0\\nsamples = 6\\nvalue = [0, 6]'),\n",
              " Text(0.625, 0.40625, 'x[3] <= 28.5\\ngini = 0.444\\nsamples = 3\\nvalue = [2, 1]'),\n",
              " Text(0.6136363636363636, 0.34375, 'gini = 0.0\\nsamples = 2\\nvalue = [2, 0]'),\n",
              " Text(0.6363636363636364, 0.34375, 'gini = 0.0\\nsamples = 1\\nvalue = [0, 1]'),\n",
              " Text(0.6704545454545454, 0.53125, 'x[4] <= 157.5\\ngini = 0.219\\nsamples = 16\\nvalue = [14, 2]'),\n",
              " Text(0.6590909090909091, 0.46875, 'x[2] <= 43.4\\ngini = 0.124\\nsamples = 15\\nvalue = [14, 1]'),\n",
              " Text(0.6477272727272727, 0.40625, 'gini = 0.0\\nsamples = 13\\nvalue = [13, 0]'),\n",
              " Text(0.6704545454545454, 0.40625, 'x[1] <= 70.0\\ngini = 0.5\\nsamples = 2\\nvalue = [1, 1]'),\n",
              " Text(0.6590909090909091, 0.34375, 'gini = 0.0\\nsamples = 1\\nvalue = [0, 1]'),\n",
              " Text(0.6818181818181818, 0.34375, 'gini = 0.0\\nsamples = 1\\nvalue = [1, 0]'),\n",
              " Text(0.6818181818181818, 0.46875, 'gini = 0.0\\nsamples = 1\\nvalue = [0, 1]'),\n",
              " Text(0.6534090909090909, 0.59375, 'gini = 0.0\\nsamples = 2\\nvalue = [0, 2]'),\n",
              " Text(0.7642045454545454, 0.71875, 'x[2] <= 34.05\\ngini = 0.405\\nsamples = 46\\nvalue = [13, 33]'),\n",
              " Text(0.7159090909090909, 0.65625, 'x[5] <= 75.0\\ngini = 0.49\\nsamples = 21\\nvalue = [9, 12]'),\n",
              " Text(0.7045454545454546, 0.59375, 'gini = 0.0\\nsamples = 4\\nvalue = [4, 0]'),\n",
              " Text(0.7272727272727273, 0.59375, 'x[6] <= 0.436\\ngini = 0.415\\nsamples = 17\\nvalue = [5, 12]'),\n",
              " Text(0.7159090909090909, 0.53125, 'x[6] <= 0.371\\ngini = 0.496\\nsamples = 11\\nvalue = [5, 6]'),\n",
              " Text(0.7045454545454546, 0.46875, 'x[2] <= 29.7\\ngini = 0.444\\nsamples = 9\\nvalue = [3, 6]'),\n",
              " Text(0.6931818181818182, 0.40625, 'gini = 0.0\\nsamples = 3\\nvalue = [0, 3]'),\n",
              " Text(0.7159090909090909, 0.40625, 'x[2] <= 32.45\\ngini = 0.5\\nsamples = 6\\nvalue = [3, 3]'),\n",
              " Text(0.7045454545454546, 0.34375, 'x[6] <= 0.164\\ngini = 0.375\\nsamples = 4\\nvalue = [3, 1]'),\n",
              " Text(0.6931818181818182, 0.28125, 'gini = 0.0\\nsamples = 1\\nvalue = [0, 1]'),\n",
              " Text(0.7159090909090909, 0.28125, 'gini = 0.0\\nsamples = 3\\nvalue = [3, 0]'),\n",
              " Text(0.7272727272727273, 0.34375, 'gini = 0.0\\nsamples = 2\\nvalue = [0, 2]'),\n",
              " Text(0.7272727272727273, 0.46875, 'gini = 0.0\\nsamples = 2\\nvalue = [2, 0]'),\n",
              " Text(0.7386363636363636, 0.53125, 'gini = 0.0\\nsamples = 6\\nvalue = [0, 6]'),\n",
              " Text(0.8125, 0.65625, 'x[6] <= 1.088\\ngini = 0.269\\nsamples = 25\\nvalue = [4, 21]'),\n",
              " Text(0.7840909090909091, 0.59375, 'x[1] <= 306.5\\ngini = 0.172\\nsamples = 21\\nvalue = [2, 19]'),\n",
              " Text(0.7613636363636364, 0.53125, 'x[6] <= 0.222\\ngini = 0.1\\nsamples = 19\\nvalue = [1, 18]'),\n",
              " Text(0.75, 0.46875, 'x[5] <= 74.0\\ngini = 0.444\\nsamples = 3\\nvalue = [1, 2]'),\n",
              " Text(0.7386363636363636, 0.40625, 'gini = 0.0\\nsamples = 2\\nvalue = [0, 2]'),\n",
              " Text(0.7613636363636364, 0.40625, 'gini = 0.0\\nsamples = 1\\nvalue = [1, 0]'),\n",
              " Text(0.7727272727272727, 0.46875, 'gini = 0.0\\nsamples = 16\\nvalue = [0, 16]'),\n",
              " Text(0.8068181818181818, 0.53125, 'x[1] <= 356.0\\ngini = 0.5\\nsamples = 2\\nvalue = [1, 1]'),\n",
              " Text(0.7954545454545454, 0.46875, 'gini = 0.0\\nsamples = 1\\nvalue = [1, 0]'),\n",
              " Text(0.8181818181818182, 0.46875, 'gini = 0.0\\nsamples = 1\\nvalue = [0, 1]'),\n",
              " Text(0.8409090909090909, 0.59375, 'x[1] <= 147.5\\ngini = 0.5\\nsamples = 4\\nvalue = [2, 2]'),\n",
              " Text(0.8295454545454546, 0.53125, 'gini = 0.0\\nsamples = 2\\nvalue = [2, 0]'),\n",
              " Text(0.8522727272727273, 0.53125, 'gini = 0.0\\nsamples = 2\\nvalue = [0, 2]'),\n",
              " Text(0.9488636363636364, 0.78125, 'x[6] <= 1.157\\ngini = 0.219\\nsamples = 56\\nvalue = [7, 49]'),\n",
              " Text(0.9204545454545454, 0.71875, 'x[6] <= 0.343\\ngini = 0.147\\nsamples = 50\\nvalue = [4, 46]'),\n",
              " Text(0.9090909090909091, 0.65625, 'x[3] <= 48.5\\ngini = 0.332\\nsamples = 19\\nvalue = [4, 15]'),\n",
              " Text(0.8863636363636364, 0.59375, 'x[4] <= 177.0\\ngini = 0.219\\nsamples = 16\\nvalue = [2, 14]'),\n",
              " Text(0.875, 0.53125, 'gini = 0.0\\nsamples = 9\\nvalue = [0, 9]'),\n",
              " Text(0.8977272727272727, 0.53125, 'x[4] <= 179.5\\ngini = 0.408\\nsamples = 7\\nvalue = [2, 5]'),\n",
              " Text(0.8863636363636364, 0.46875, 'gini = 0.0\\nsamples = 1\\nvalue = [1, 0]'),\n",
              " Text(0.9090909090909091, 0.46875, 'x[4] <= 187.5\\ngini = 0.278\\nsamples = 6\\nvalue = [1, 5]'),\n",
              " Text(0.8977272727272727, 0.40625, 'gini = 0.0\\nsamples = 4\\nvalue = [0, 4]'),\n",
              " Text(0.9204545454545454, 0.40625, 'x[6] <= 0.314\\ngini = 0.5\\nsamples = 2\\nvalue = [1, 1]'),\n",
              " Text(0.9090909090909091, 0.34375, 'gini = 0.0\\nsamples = 1\\nvalue = [1, 0]'),\n",
              " Text(0.9318181818181818, 0.34375, 'gini = 0.0\\nsamples = 1\\nvalue = [0, 1]'),\n",
              " Text(0.9318181818181818, 0.59375, 'x[3] <= 63.0\\ngini = 0.444\\nsamples = 3\\nvalue = [2, 1]'),\n",
              " Text(0.9204545454545454, 0.53125, 'gini = 0.0\\nsamples = 2\\nvalue = [2, 0]'),\n",
              " Text(0.9431818181818182, 0.53125, 'gini = 0.0\\nsamples = 1\\nvalue = [0, 1]'),\n",
              " Text(0.9318181818181818, 0.65625, 'gini = 0.0\\nsamples = 31\\nvalue = [0, 31]'),\n",
              " Text(0.9772727272727273, 0.71875, 'x[4] <= 182.0\\ngini = 0.5\\nsamples = 6\\nvalue = [3, 3]'),\n",
              " Text(0.9659090909090909, 0.65625, 'x[0] <= 0.5\\ngini = 0.375\\nsamples = 4\\nvalue = [1, 3]'),\n",
              " Text(0.9545454545454546, 0.59375, 'gini = 0.0\\nsamples = 1\\nvalue = [1, 0]'),\n",
              " Text(0.9772727272727273, 0.59375, 'gini = 0.0\\nsamples = 3\\nvalue = [0, 3]'),\n",
              " Text(0.9886363636363636, 0.65625, 'gini = 0.0\\nsamples = 2\\nvalue = [2, 0]')]"
            ]
          },
          "execution_count": 122,
          "metadata": {},
          "output_type": "execute_result"
        },
        {
          "data": {
            "image/png": "[encoded data removed]",
            "text/plain": [
              "<Figure size 640x480 with 1 Axes>"
            ]
          },
          "metadata": {},
          "output_type": "display_data"
        }
      ],
      "source": [
        "from sklearn import tree\n",
        "tree.plot_tree(dtc)"
      ]
    },
    {
      "cell_type": "markdown",
      "id": "9b6602e2-9cf8-4248-95fa-68ad29080f80",
      "metadata": {
        "id": "9b6602e2-9cf8-4248-95fa-68ad29080f80"
      },
      "source": [
        "### Optimizing Decision Tree Performance"
      ]
    },
    {
      "cell_type": "markdown",
      "id": "0e462557-d349-478f-b087-0075aec899dc",
      "metadata": {
        "id": "0e462557-d349-478f-b087-0075aec899dc"
      },
      "source": [
        "It's too messy and hard to read when you have too many nodes!\n",
        "\n",
        "Here, the resultant tree is unpruned. This unpruned tree is unexplainable and not easy to understand.\n",
        "\n",
        "In the decision tree chart, each internal node has a decision rule that splits the data. Gini, referred to as Gini ratio, measures the impurity of the node. You can say a node is pure when all of its records belong to the same class, such nodes known as the leaf node.\n",
        "\n",
        "Let's optimize our tree by pruning:\n",
        "\n",
        "- criterion : optional (default=”gini”) or Choose attribute selection measure. This parameter allows us to use the different-different attribute selection measure. Supported criteria are “gini” for the Gini index and “entropy” for the information gain.\n",
        "\n",
        "- splitter : string, optional (default=”best”) or Split Strategy. This parameter allows us to choose the split strategy. Supported strategies are “best” to choose the best split and “random” to choose the best random split.\n",
        "\n",
        "- max_depth : int or None, optional (default=None) or Maximum Depth of a Tree. The maximum depth of the tree. If None, then nodes are expanded until all the leaves contain less than min_samples_split samples. The higher value of maximum depth causes overfitting, and a lower value causes underfitting (Source)."
      ]
    },
    {
      "cell_type": "code",
      "execution_count": null,
      "id": "ee7737af-d1a0-4251-88d4-d0549ad75c3b",
      "metadata": {
        "id": "ee7737af-d1a0-4251-88d4-d0549ad75c3b",
        "outputId": "c705d844-2b8a-4832-bfeb-a138a1000ea2"
      },
      "outputs": [
        {
          "name": "stdout",
          "output_type": "stream",
          "text": [
            "Accuracy: 0.7575757575757576\n"
          ]
        }
      ],
      "source": [
        "# Create Decision Tree classifer object\n",
        "dtc = DecisionTreeClassifier(criterion=\"gini\", max_depth=3)\n",
        "\n",
        "# Train Decision Tree Classifer\n",
        "dtc.fit(X_train, y_train)\n",
        "\n",
        "#Predict the response for test dataset\n",
        "predict = dtc.predict(X_test)\n",
        "\n",
        "print(\"Accuracy:\",metrics.accuracy_score(y_test, predict))"
      ]
    },
    {
      "cell_type": "markdown",
      "id": "80b7606d-6414-4d21-b660-6111ebcb1504",
      "metadata": {
        "id": "80b7606d-6414-4d21-b660-6111ebcb1504"
      },
      "source": [
        "The result is even better than too many nodes."
      ]
    },
    {
      "cell_type": "markdown",
      "id": "32329c67-e6cc-4647-98c3-d5593281fe08",
      "metadata": {
        "id": "32329c67-e6cc-4647-98c3-d5593281fe08"
      },
      "source": [
        "You may try entropy as the criterion and max depth to 4."
      ]
    },
    {
      "cell_type": "code",
      "execution_count": null,
      "id": "207a84ad-d3f8-4d14-9e60-06a3d42c1a35",
      "metadata": {
        "id": "207a84ad-d3f8-4d14-9e60-06a3d42c1a35",
        "outputId": "e3ffbddc-78f0-4c7a-c8bf-41f3f1739669"
      },
      "outputs": [
        {
          "name": "stdout",
          "output_type": "stream",
          "text": [
            "Accuracy: 0.7835497835497836\n"
          ]
        }
      ],
      "source": [
        "# Create Decision Tree classifer object\n",
        "dtc = DecisionTreeClassifier(criterion=\"entropy\", max_depth=4)\n",
        "\n",
        "# Train Decision Tree Classifer\n",
        "dtc.fit(X_train, y_train)\n",
        "\n",
        "#Predict the response for test dataset\n",
        "predict = dtc.predict(X_test)\n",
        "\n",
        "print(\"Accuracy:\",metrics.accuracy_score(y_test, predict))"
      ]
    },
    {
      "cell_type": "code",
      "execution_count": null,
      "id": "97dacae7-2e6d-45d1-88a4-00f5183a53f2",
      "metadata": {
        "id": "97dacae7-2e6d-45d1-88a4-00f5183a53f2"
      },
      "outputs": [],
      "source": []
    },
    {
      "cell_type": "code",
      "execution_count": null,
      "id": "06a80474-aa90-449b-8795-610ec0d4c17d",
      "metadata": {
        "id": "06a80474-aa90-449b-8795-610ec0d4c17d"
      },
      "outputs": [],
      "source": []
    }
  ],
  "metadata": {
    "kernelspec": {
      "display_name": "Python 3 (ipykernel)",
      "language": "python",
      "name": "python3"
    },
    "language_info": {
      "codemirror_mode": {
        "name": "ipython",
        "version": 3
      },
      "file_extension": ".py",
      "mimetype": "text/x-python",
      "name": "python",
      "nbconvert_exporter": "python",
      "pygments_lexer": "ipython3",
      "version": "3.8.15"
    },
    "colab": {
      "provenance": [],
      "include_colab_link": true
    }
  },
  "nbformat": 4,
  "nbformat_minor": 5
}